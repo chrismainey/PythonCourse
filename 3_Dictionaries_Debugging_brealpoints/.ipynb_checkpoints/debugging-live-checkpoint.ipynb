{
 "cells": [
  {
   "cell_type": "markdown",
   "metadata": {},
   "source": [
    "# Debugging\n",
    "\n",
    "* Debugging is the **process of finding errors** in a program\n",
    "* very important part of programming\n",
    "* can take considerible time\n",
    "* mastering debugging techniques can save you a lot of time\n",
    "\n",
    "## Literature\n",
    "\n",
    "* **Python docs on errors and exceptions**\n",
    "    * http://docs.python.org/2/tutorial/errors.html"
   ]
  },
  {
   "cell_type": "markdown",
   "metadata": {},
   "source": [
    "## Overview\n",
    "\n",
    "1. **Introduction/ Motivation**\n",
    "2. **Debugging in with IPython `%debug`**\n",
    "3. **Exercise**\n",
    "3. Debugging with break-points\n",
    "3. Exercise\n",
    "4. Debugging with the logger module\n",
    "5. Exercise\n",
    "6. Nose tests\n",
    "7. Exercise\n"
   ]
  },
  {
   "cell_type": "markdown",
   "metadata": {},
   "source": [
    "## Introduction / Motivation\n",
    "\n",
    "No program is perfect and no written document will be free of all possible errors the first time it is written.\n",
    "\n",
    "There are three types of errors in a program:\n",
    "\n",
    "1. Syntax errors\n",
    "2. Runtime errors\n",
    "3. Logical errors"
   ]
  },
  {
   "cell_type": "markdown",
   "metadata": {},
   "source": [
    "### Syntax errors\n",
    "\n",
    "Errors that the interpreter (or compiler in other languages) can spot, because the syntax of the program is violated. In Python these errors are typically indentation errors, or forgotten colons.\n",
    "\n",
    "These errors will be reported as soon as the faulty line of code is imported by python. Because these errors are reported immediately, **no debugging is necessary to fix them**.\n",
    "\n",
    "**The error message is useful for debugging.** It shows the line on which the error occurred, and it even has a guess at where in the line – notice the `^` symbol pointing at the place in the line."
   ]
  },
  {
   "cell_type": "code",
   "execution_count": 1,
   "metadata": {
    "collapsed": false
   },
   "outputs": [
    {
     "ename": "SyntaxError",
     "evalue": "invalid syntax (<ipython-input-1-97e31abad4cb>, line 1)",
     "output_type": "error",
     "traceback": [
      "\u001b[1;36m  File \u001b[1;32m\"<ipython-input-1-97e31abad4cb>\"\u001b[1;36m, line \u001b[1;32m1\u001b[0m\n\u001b[1;33m    0as = 5\u001b[0m\n\u001b[1;37m      ^\u001b[0m\n\u001b[1;31mSyntaxError\u001b[0m\u001b[1;31m:\u001b[0m invalid syntax\n"
     ]
    }
   ],
   "source": [
    "0as = 5"
   ]
  },
  {
   "cell_type": "code",
   "execution_count": 4,
   "metadata": {
    "collapsed": false
   },
   "outputs": [
    {
     "ename": "IndentationError",
     "evalue": "unexpected indent (<ipython-input-4-b68df1f6e14a>, line 3)",
     "output_type": "error",
     "traceback": [
      "\u001b[1;36m  File \u001b[1;32m\"<ipython-input-4-b68df1f6e14a>\"\u001b[1;36m, line \u001b[1;32m3\u001b[0m\n\u001b[1;33m    return a\u001b[0m\n\u001b[1;37m    ^\u001b[0m\n\u001b[1;31mIndentationError\u001b[0m\u001b[1;31m:\u001b[0m unexpected indent\n"
     ]
    }
   ],
   "source": [
    "def brokenFunction():\n",
    "    a = 1\n",
    "        return a"
   ]
  },
  {
   "cell_type": "code",
   "execution_count": 5,
   "metadata": {
    "collapsed": false
   },
   "outputs": [
    {
     "ename": "SyntaxError",
     "evalue": "invalid syntax (<ipython-input-5-945082bbc38b>, line 1)",
     "output_type": "error",
     "traceback": [
      "\u001b[1;36m  File \u001b[1;32m\"<ipython-input-5-945082bbc38b>\"\u001b[1;36m, line \u001b[1;32m1\u001b[0m\n\u001b[1;33m    def brokenFunction()\u001b[0m\n\u001b[1;37m                        ^\u001b[0m\n\u001b[1;31mSyntaxError\u001b[0m\u001b[1;31m:\u001b[0m invalid syntax\n"
     ]
    }
   ],
   "source": [
    "def brokenFunction()\n",
    "    a = 1\n",
    "    return a"
   ]
  },
  {
   "cell_type": "markdown",
   "metadata": {},
   "source": [
    "**Keeping lines of code short can help to track down syntax errors.**\n",
    "\n",
    "Both the following examples contain a similar error. The second example has split a long line of code into separate lines, making it much easier to debug."
   ]
  },
  {
   "cell_type": "code",
   "execution_count": 7,
   "metadata": {
    "collapsed": false
   },
   "outputs": [],
   "source": [
    "import math\n",
    "\n",
    "# This function contains one very long line – hard to find the error!\n",
    "def gauss(datapoint, mean, std_deviation):\n",
    "    \"\"\"Compute likelihood of data point under a Gaussian\"\"\"\n",
    "    \n",
    "    return (1 / (std_deviation * math.sqrt(2 * math.pi) ) * math.exp( -((datapoint - mean)**2) / 2 * std_deviation**2)"
   ]
  },
  {
   "cell_type": "code",
   "execution_count": 9,
   "metadata": {
    "collapsed": false
   },
   "outputs": [
    {
     "ename": "SyntaxError",
     "evalue": "invalid syntax (<ipython-input-9-08f0ae35104b>, line 6)",
     "output_type": "error",
     "traceback": [
      "\u001b[1;36m  File \u001b[1;32m\"<ipython-input-9-08f0ae35104b>\"\u001b[1;36m, line \u001b[1;32m6\u001b[0m\n\u001b[1;33m    B = datapoint - mean)**2\u001b[0m\n\u001b[1;37m                        ^\u001b[0m\n\u001b[1;31mSyntaxError\u001b[0m\u001b[1;31m:\u001b[0m invalid syntax\n"
     ]
    }
   ],
   "source": [
    "# This function splits the line into separate variables – easier to read and debug!\n",
    "def gauss(datapoint, mean, std_deviation):\n",
    "    \"\"\"Compute likelihood of data point under a Gaussian\"\"\"\n",
    "    \n",
    "    A = 1 / (std_deviation * math.sqrt(2 * math.pi))\n",
    "    B = datapoint - mean)**2\n",
    "    C = 2 * std_deviation**2\n",
    "    \n",
    "    return A * math.exp(-B / C)"
   ]
  },
  {
   "cell_type": "markdown",
   "metadata": {},
   "source": [
    "Be aware that sometimes the actual error will have occurred before the line it is reported. This is usually due to how Python handles brackets."
   ]
  },
  {
   "cell_type": "code",
   "execution_count": 10,
   "metadata": {
    "collapsed": false
   },
   "outputs": [
    {
     "ename": "SyntaxError",
     "evalue": "invalid syntax (<ipython-input-10-15bcad8620be>, line 2)",
     "output_type": "error",
     "traceback": [
      "\u001b[1;36m  File \u001b[1;32m\"<ipython-input-10-15bcad8620be>\"\u001b[1;36m, line \u001b[1;32m2\u001b[0m\n\u001b[1;33m    b = 5 + 6\u001b[0m\n\u001b[1;37m    ^\u001b[0m\n\u001b[1;31mSyntaxError\u001b[0m\u001b[1;31m:\u001b[0m invalid syntax\n"
     ]
    }
   ],
   "source": [
    "a = (3 + 4 * 1\n",
    "b = 5 + 6"
   ]
  },
  {
   "cell_type": "markdown",
   "metadata": {},
   "source": [
    "### Runtime errors\n",
    "\n",
    "These are errors that violate the program during runtime. Typically these are operations which are not allowed with a datatype, access errors or numerical errors. \n",
    "\n",
    "Because the interpreter cannot know before running the program how the data what data each variable holds, it can only reports the error once it happened at runtime.\n",
    "\n",
    "As an example, take this function which seems perfectly fine:"
   ]
  },
  {
   "cell_type": "code",
   "execution_count": 11,
   "metadata": {
    "collapsed": false
   },
   "outputs": [],
   "source": [
    "def addStuff(a,b):\n",
    "    return a + b"
   ]
  },
  {
   "cell_type": "markdown",
   "metadata": {},
   "source": [
    "It can be called properly with numbers or even with strings"
   ]
  },
  {
   "cell_type": "code",
   "execution_count": 12,
   "metadata": {
    "collapsed": false
   },
   "outputs": [
    {
     "data": {
      "text/plain": [
       "9"
      ]
     },
     "execution_count": 12,
     "metadata": {},
     "output_type": "execute_result"
    }
   ],
   "source": [
    "addStuff(4,5)"
   ]
  },
  {
   "cell_type": "code",
   "execution_count": 13,
   "metadata": {
    "collapsed": false
   },
   "outputs": [
    {
     "data": {
      "text/plain": [
       "'ab'"
      ]
     },
     "execution_count": 13,
     "metadata": {},
     "output_type": "execute_result"
    }
   ],
   "source": [
    "addStuff(\"a\", \"b\")"
   ]
  },
  {
   "cell_type": "markdown",
   "metadata": {},
   "source": [
    "But if wrong datatypes are mixed, a `TypeError` is thrown."
   ]
  },
  {
   "cell_type": "code",
   "execution_count": 14,
   "metadata": {
    "collapsed": false
   },
   "outputs": [
    {
     "ename": "TypeError",
     "evalue": "unsupported operand type(s) for +: 'int' and 'str'",
     "output_type": "error",
     "traceback": [
      "\u001b[1;31m---------------------------------------------------------------------------\u001b[0m",
      "\u001b[1;31mTypeError\u001b[0m                                 Traceback (most recent call last)",
      "\u001b[1;32m<ipython-input-14-3f0fc989c46f>\u001b[0m in \u001b[0;36m<module>\u001b[1;34m()\u001b[0m\n\u001b[1;32m----> 1\u001b[1;33m \u001b[0maddStuff\u001b[0m\u001b[1;33m(\u001b[0m\u001b[1;36m3\u001b[0m\u001b[1;33m,\u001b[0m \u001b[1;34m\"a\"\u001b[0m\u001b[1;33m)\u001b[0m\u001b[1;33m\u001b[0m\u001b[0m\n\u001b[0m",
      "\u001b[1;32m<ipython-input-11-efaaadae004d>\u001b[0m in \u001b[0;36maddStuff\u001b[1;34m(a, b)\u001b[0m\n\u001b[0;32m      1\u001b[0m \u001b[1;32mdef\u001b[0m \u001b[0maddStuff\u001b[0m\u001b[1;33m(\u001b[0m\u001b[0ma\u001b[0m\u001b[1;33m,\u001b[0m\u001b[0mb\u001b[0m\u001b[1;33m)\u001b[0m\u001b[1;33m:\u001b[0m\u001b[1;33m\u001b[0m\u001b[0m\n\u001b[1;32m----> 2\u001b[1;33m     \u001b[1;32mreturn\u001b[0m \u001b[0ma\u001b[0m \u001b[1;33m+\u001b[0m \u001b[0mb\u001b[0m\u001b[1;33m\u001b[0m\u001b[0m\n\u001b[0m",
      "\u001b[1;31mTypeError\u001b[0m: unsupported operand type(s) for +: 'int' and 'str'"
     ]
    }
   ],
   "source": [
    "addStuff(3, \"a\")"
   ]
  },
  {
   "cell_type": "markdown",
   "metadata": {},
   "source": [
    "Similarly,"
   ]
  },
  {
   "cell_type": "code",
   "execution_count": 15,
   "metadata": {
    "collapsed": false
   },
   "outputs": [],
   "source": [
    "def throwsIndexError():\n",
    "    lst = []\n",
    "    lst[2]\n",
    "    \n",
    "def throwsKeyError():\n",
    "    d = dict()\n",
    "    d['does not exist']\n",
    "    \n",
    "def throwsZeroDivisionError():\n",
    "    1/0"
   ]
  },
  {
   "cell_type": "code",
   "execution_count": 16,
   "metadata": {
    "collapsed": false
   },
   "outputs": [
    {
     "ename": "IndexError",
     "evalue": "list index out of range",
     "output_type": "error",
     "traceback": [
      "\u001b[1;31m---------------------------------------------------------------------------\u001b[0m",
      "\u001b[1;31mIndexError\u001b[0m                                Traceback (most recent call last)",
      "\u001b[1;32m<ipython-input-16-454b8f5a4e95>\u001b[0m in \u001b[0;36m<module>\u001b[1;34m()\u001b[0m\n\u001b[1;32m----> 1\u001b[1;33m \u001b[0mthrowsIndexError\u001b[0m\u001b[1;33m(\u001b[0m\u001b[1;33m)\u001b[0m\u001b[1;33m\u001b[0m\u001b[0m\n\u001b[0m",
      "\u001b[1;32m<ipython-input-15-be4a2410cab3>\u001b[0m in \u001b[0;36mthrowsIndexError\u001b[1;34m()\u001b[0m\n\u001b[0;32m      1\u001b[0m \u001b[1;32mdef\u001b[0m \u001b[0mthrowsIndexError\u001b[0m\u001b[1;33m(\u001b[0m\u001b[1;33m)\u001b[0m\u001b[1;33m:\u001b[0m\u001b[1;33m\u001b[0m\u001b[0m\n\u001b[0;32m      2\u001b[0m     \u001b[0mlst\u001b[0m \u001b[1;33m=\u001b[0m \u001b[1;33m[\u001b[0m\u001b[1;33m]\u001b[0m\u001b[1;33m\u001b[0m\u001b[0m\n\u001b[1;32m----> 3\u001b[1;33m     \u001b[0mlst\u001b[0m\u001b[1;33m[\u001b[0m\u001b[1;36m2\u001b[0m\u001b[1;33m]\u001b[0m\u001b[1;33m\u001b[0m\u001b[0m\n\u001b[0m\u001b[0;32m      4\u001b[0m \u001b[1;33m\u001b[0m\u001b[0m\n\u001b[0;32m      5\u001b[0m \u001b[1;32mdef\u001b[0m \u001b[0mthrowsKeyError\u001b[0m\u001b[1;33m(\u001b[0m\u001b[1;33m)\u001b[0m\u001b[1;33m:\u001b[0m\u001b[1;33m\u001b[0m\u001b[0m\n",
      "\u001b[1;31mIndexError\u001b[0m: list index out of range"
     ]
    }
   ],
   "source": [
    "throwsIndexError()"
   ]
  },
  {
   "cell_type": "code",
   "execution_count": 17,
   "metadata": {
    "collapsed": false
   },
   "outputs": [
    {
     "ename": "KeyError",
     "evalue": "'does not exist'",
     "output_type": "error",
     "traceback": [
      "\u001b[1;31m---------------------------------------------------------------------------\u001b[0m",
      "\u001b[1;31mKeyError\u001b[0m                                  Traceback (most recent call last)",
      "\u001b[1;32m<ipython-input-17-f2b21580a120>\u001b[0m in \u001b[0;36m<module>\u001b[1;34m()\u001b[0m\n\u001b[1;32m----> 1\u001b[1;33m \u001b[0mthrowsKeyError\u001b[0m\u001b[1;33m(\u001b[0m\u001b[1;33m)\u001b[0m\u001b[1;33m\u001b[0m\u001b[0m\n\u001b[0m",
      "\u001b[1;32m<ipython-input-15-be4a2410cab3>\u001b[0m in \u001b[0;36mthrowsKeyError\u001b[1;34m()\u001b[0m\n\u001b[0;32m      5\u001b[0m \u001b[1;32mdef\u001b[0m \u001b[0mthrowsKeyError\u001b[0m\u001b[1;33m(\u001b[0m\u001b[1;33m)\u001b[0m\u001b[1;33m:\u001b[0m\u001b[1;33m\u001b[0m\u001b[0m\n\u001b[0;32m      6\u001b[0m     \u001b[0md\u001b[0m \u001b[1;33m=\u001b[0m \u001b[0mdict\u001b[0m\u001b[1;33m(\u001b[0m\u001b[1;33m)\u001b[0m\u001b[1;33m\u001b[0m\u001b[0m\n\u001b[1;32m----> 7\u001b[1;33m     \u001b[0md\u001b[0m\u001b[1;33m[\u001b[0m\u001b[1;34m'does not exist'\u001b[0m\u001b[1;33m]\u001b[0m\u001b[1;33m\u001b[0m\u001b[0m\n\u001b[0m\u001b[0;32m      8\u001b[0m \u001b[1;33m\u001b[0m\u001b[0m\n\u001b[0;32m      9\u001b[0m \u001b[1;32mdef\u001b[0m \u001b[0mthrowsZeroDivisionError\u001b[0m\u001b[1;33m(\u001b[0m\u001b[1;33m)\u001b[0m\u001b[1;33m:\u001b[0m\u001b[1;33m\u001b[0m\u001b[0m\n",
      "\u001b[1;31mKeyError\u001b[0m: 'does not exist'"
     ]
    }
   ],
   "source": [
    "throwsKeyError()"
   ]
  },
  {
   "cell_type": "code",
   "execution_count": 18,
   "metadata": {
    "collapsed": false
   },
   "outputs": [
    {
     "ename": "ZeroDivisionError",
     "evalue": "integer division or modulo by zero",
     "output_type": "error",
     "traceback": [
      "\u001b[1;31m---------------------------------------------------------------------------\u001b[0m",
      "\u001b[1;31mZeroDivisionError\u001b[0m                         Traceback (most recent call last)",
      "\u001b[1;32m<ipython-input-18-9178aeaefa60>\u001b[0m in \u001b[0;36m<module>\u001b[1;34m()\u001b[0m\n\u001b[1;32m----> 1\u001b[1;33m \u001b[0mthrowsZeroDivisionError\u001b[0m\u001b[1;33m(\u001b[0m\u001b[1;33m)\u001b[0m\u001b[1;33m\u001b[0m\u001b[0m\n\u001b[0m",
      "\u001b[1;32m<ipython-input-15-be4a2410cab3>\u001b[0m in \u001b[0;36mthrowsZeroDivisionError\u001b[1;34m()\u001b[0m\n\u001b[0;32m      8\u001b[0m \u001b[1;33m\u001b[0m\u001b[0m\n\u001b[0;32m      9\u001b[0m \u001b[1;32mdef\u001b[0m \u001b[0mthrowsZeroDivisionError\u001b[0m\u001b[1;33m(\u001b[0m\u001b[1;33m)\u001b[0m\u001b[1;33m:\u001b[0m\u001b[1;33m\u001b[0m\u001b[0m\n\u001b[1;32m---> 10\u001b[1;33m     \u001b[1;36m1\u001b[0m\u001b[1;33m/\u001b[0m\u001b[1;36m0\u001b[0m\u001b[1;33m\u001b[0m\u001b[0m\n\u001b[0m",
      "\u001b[1;31mZeroDivisionError\u001b[0m: integer division or modulo by zero"
     ]
    }
   ],
   "source": [
    "throwsZeroDivisionError()"
   ]
  },
  {
   "cell_type": "markdown",
   "metadata": {},
   "source": [
    "**These errors are fairly common**, even experienced programmers spend much time on fixing such bugs. The problem with these errors is that **might appear only in very specific cases** which are hard to reproduce or are hard to test. However, at least these errors are reported by the program and one can go and fix them.\n",
    "\n",
    "There are times when correcting these errors is easy just by looking at the code. Often, however, it is helpful to have a look what values the variables hold at the moment the error is thrown. For this end, one can use the `%debug` magic in iPython and the iPython qtconsole. Debugging with break points is also common, particularly in compiled languages. Another way to deal with this to print out values of variables at various places. This will be covered by the first three sections of this lecture."
   ]
  },
  {
   "cell_type": "markdown",
   "metadata": {},
   "source": [
    "### Logical Errors\n",
    "\n",
    "These are the real nasty ones. **A logical error is an error that does not violate any rule imposed by the programming language**, but is an implementation that does not solve the task. In other words, the interpreter cannot tell you that something is wrong, you do not get any error message, just your result is wrong.\n",
    "\n",
    "As an example let yourself reminded on the *Pythagorean theorem*:\n",
    "\n",
    "$a^2 = b^2 + c^2$\n",
    "\n",
    "If your task is to find a $b$, given $a$ and $c$, you might have a bad day and \"solve\" it like this:"
   ]
  },
  {
   "cell_type": "code",
   "execution_count": null,
   "metadata": {
    "collapsed": false
   },
   "outputs": [],
   "source": [
    "import numpy as np\n",
    "def getB(a,c):\n",
    "    b = np.sqrt(a ** 2) - np.sqrt(c ** 2)\n",
    "    return b"
   ]
  },
  {
   "cell_type": "markdown",
   "metadata": {},
   "source": [
    "This function does not have a `SyntaxError`, nor will it throw a `RuntimeError` if you put numbers in."
   ]
  },
  {
   "cell_type": "code",
   "execution_count": null,
   "metadata": {
    "collapsed": false
   },
   "outputs": [],
   "source": [
    "a = 5\n",
    "c = 4\n",
    "getB(a, c)"
   ]
  },
  {
   "cell_type": "markdown",
   "metadata": {},
   "source": [
    "Above I used the most simple combination of $a$, $b$, and $c$ in $a^2 = b^2 + c^2$, which is:\n",
    "\n",
    "$5^2 = 4^2 + 3^2$\n",
    "\n",
    "$25 = 16 + 9$\n",
    "\n",
    "Therefore the answer should have been 3.\n",
    "\n",
    "As you saw, **logic errors are silent bugs that screw up your experiments**. The example above was trivial, but the more complex a program becomes, the more likely it is, that you use somewhere some function wrong or misstype a sign or similar things.\n",
    "\n",
    "Such errors can only be found by tests. This is **one reason why the use of functions is generally highly recommended**, because functions give you the opportunity to do sanity checks on small parts of the code.\n",
    "\n",
    "A way how people deal with this is covered in the last section, *tests*, of this lecture."
   ]
  },
  {
   "cell_type": "markdown",
   "metadata": {},
   "source": [
    "## Debugging with IPython `%debug` magic\n",
    "\n",
    "This command is one of the many reasons why it makes sense to use the IPython terminal over the standard python one. It used to work in plain IPython or the IPython qtconsole only, but in very recent IPython versions one can use it straight in the IPython notebook.\n",
    "\n",
    "The `%debug` magic makes it possible to exploit the fact that python is an interpreted language. It reopens the program at the very moment it crashed and gives full access to all variables and functions. **It can be used to:**\n",
    "\n",
    "**inspect variables and manipulate them**\n",
    "\n",
    "* this makes it much easier to find the reason an error was thrown.\n",
    "\n",
    "**call functions**\n",
    "\n",
    "* you can see if the function would have thrown an error also with different values\n",
    "\n",
    "**walk along the stack trace**\n",
    "\n",
    "* i.e. follow the function calls that led the program to be in the state it was in when it failed"
   ]
  },
  {
   "cell_type": "markdown",
   "metadata": {},
   "source": [
    "### Example\n",
    "\n",
    "Lets define some functions to work with."
   ]
  },
  {
   "cell_type": "code",
   "execution_count": null,
   "metadata": {
    "collapsed": false
   },
   "outputs": [],
   "source": [
    "def changeValue(lst, idx, value):\n",
    "    \"\"\"\n",
    "    Change value of a list at a given index to value\n",
    "    \"\"\"\n",
    "    lst[idx] = value\n",
    "    \n",
    "    \n",
    "def setDiagonal(lst, value=-1):\n",
    "    \"\"\"\n",
    "    Set all diagonal elements in the nested list to \n",
    "    the given value, e.g.\n",
    "    \n",
    "    [[0,0,0,0],       [[1,0,0,0],\n",
    "     [0,0,0,0],  -->   [0,1,0,0],\n",
    "     [0,0,0,0],        [0,0,1,0],\n",
    "     [0,0,0,0]]        [0,0,0,1]]\n",
    "    \"\"\"\n",
    "    for i in range(len(lst)):\n",
    "        changeValue(lst[i], i, value)\n",
    "        \n",
    "def generateSquareList(n=4):\n",
    "    \n",
    "    testLst = []\n",
    "    for i in range(4):\n",
    "        row = []\n",
    "        for k in range(4):\n",
    "            row += [0]\n",
    "\n",
    "        testLst += [row]\n",
    "        \n",
    "    return testLst\n",
    "    \n",
    "def generateList(depth=10):\n",
    "    \"\"\"\n",
    "    Generate a trianglar nested list, e.g.\n",
    "    \n",
    "    generateList(4):\n",
    "        [[0, 1, 2],\n",
    "         [0, 1],\n",
    "         [0],\n",
    "         []]\n",
    "    \"\"\"\n",
    "    lst = []\n",
    "    for i in range(depth):\n",
    "        innerLst = []\n",
    "        for k in range(i):\n",
    "            innerLst += [k]\n",
    "        \n",
    "        lst.insert(0, innerLst)\n",
    "        \n",
    "    return lst\n",
    "\n",
    "    \n",
    "def boom():\n",
    "    \"\"\"\n",
    "    Nomen est omen\n",
    "    \"\"\"\n",
    "    lst = generateList(10)\n",
    "    setDiagonal(lst, -1)\n",
    "    \n",
    "    "
   ]
  },
  {
   "cell_type": "markdown",
   "metadata": {},
   "source": [
    "Lets see if the functions do what they are supposed to do."
   ]
  },
  {
   "cell_type": "code",
   "execution_count": null,
   "metadata": {
    "collapsed": false
   },
   "outputs": [],
   "source": [
    "generateList(4)"
   ]
  },
  {
   "cell_type": "code",
   "execution_count": null,
   "metadata": {
    "collapsed": false
   },
   "outputs": [],
   "source": [
    "testLst = generateSquareList(4)\n",
    "testLst"
   ]
  },
  {
   "cell_type": "code",
   "execution_count": null,
   "metadata": {
    "collapsed": false
   },
   "outputs": [],
   "source": [
    "setDiagonal(testLst)\n",
    "testLst"
   ]
  },
  {
   "cell_type": "markdown",
   "metadata": {},
   "source": [
    "Each of the functions seem to work! Not a very good example for a lecture on debugging... But we still have the prophetically called function `boom` left. Maybe we have more luck with this one, lets try."
   ]
  },
  {
   "cell_type": "code",
   "execution_count": null,
   "metadata": {
    "collapsed": false
   },
   "outputs": [],
   "source": [
    "boom()"
   ]
  },
  {
   "cell_type": "markdown",
   "metadata": {},
   "source": [
    "What you see above is a beautiful example of a **stacktrace**. You can see how from **top to bottom** functions were called, and also the **lines** where these function calls happened. So you **get an idea *where* ** in your program things went wrong. However, it is still **difficult to see *what* might have gone wrong**. \n",
    "\n",
    "Enter `%debug`.\n",
    "\n",
    "`%debug` is an **interactive debugger**, similar to the standard pdb (python-de-bugger). It is **controlled by single letter commands** and also it **can execute any normal python statement**.\n",
    "\n",
    "The the most important single letter commands are (there are more):\n",
    "\n",
    "* u(p) -- up the stacktrace\n",
    "* d(own) -- down the stacktrace\n",
    "* w(where) -- print stacktrace\n",
    "* p(rint) -- print variable\n",
    "* q(uit) -- exits the debugger\n",
    "\n",
    "Ok lets have a go. Observe how I can **walk up and down through the function calls** using **u** and **d** (I am using now the fully spelled out commands, but later only the single letter version):"
   ]
  },
  {
   "cell_type": "code",
   "execution_count": null,
   "metadata": {
    "collapsed": false
   },
   "outputs": [],
   "source": [
    "%debug"
   ]
  },
  {
   "cell_type": "markdown",
   "metadata": {},
   "source": [
    "You can see that you can change the position of the debugger. It will stop you if you are at the highest point, or back at the lowest. But that does not give you much more information than you got from the error message above, which showed you the stacktrace already.\n",
    "\n",
    "So, lets go and investigate what went wrong. The first hint is always the error message itself:\n",
    "\n",
    "`IndexError: list assignment index out of range`\n",
    "\n",
    "This is pretty self-explanatory. We tried to access the list somewhere where it is not defined, as we did in the example for `RuntimeErrors` above. But why did that happen? We always looped in the range of the lists. (Have a look in the code above if you see that our loops are dynamic, and should not exceed any list lengths).\n",
    "\n",
    "Maybe you spotted the problem already, because the comments are very visual and we tried the functions out individually. I did this in this case to make sure you understand the code. Normally comments are either very sparse, or not telling you anything about how the data is manipulated. Which means, its difficult just by looking at it what went wrong.\n",
    "\n",
    "Ok, let use the `%debug` magic to find out what went wrong, hands-on. For demonstration purposes, I will put a comment after each command, like this:\n",
    "\n",
    "`ipdb> print idx; \"my comment about that line\"`\n",
    "\n",
    "Would exectute `print idx`, while you can read the string afterwards to understand why I do things."
   ]
  },
  {
   "cell_type": "code",
   "execution_count": null,
   "metadata": {
    "collapsed": false
   },
   "outputs": [],
   "source": [
    "%debug"
   ]
  },
  {
   "cell_type": "markdown",
   "metadata": {},
   "source": [
    "So above you see how **inspecting values of variables can help you hunt down the problem**. This is particularly true, the more complex the program is and the more libraries you start to use. Because at some point you might forget how lists where nested, which dimension held which values, etc.\n",
    "\n",
    "But this is pretty standard. Every programming language has similar inspection tools. However, because python is not compiled, **you can execute any python command while you are debugging and actively manipulate the values while the program is on hold**. Or you can just **visually inspect** your data, or **you can save your data (!)** and look at it outside of the debugger.\n",
    "\n",
    "To give you an idea, lets just create a matrix and pretend something in an arcane function went wrong:"
   ]
  },
  {
   "cell_type": "code",
   "execution_count": null,
   "metadata": {
    "collapsed": false
   },
   "outputs": [],
   "source": [
    "%pylab inline"
   ]
  },
  {
   "cell_type": "code",
   "execution_count": null,
   "metadata": {
    "collapsed": false
   },
   "outputs": [],
   "source": [
    "def arcaneFunction():\n",
    "    mat = np.random.rand(10,10)\n",
    "    mat += 2\n",
    "    1/0    \n",
    "    return mat"
   ]
  },
  {
   "cell_type": "code",
   "execution_count": null,
   "metadata": {
    "collapsed": false
   },
   "outputs": [],
   "source": [
    "arcaneFunction()"
   ]
  },
  {
   "cell_type": "markdown",
   "metadata": {},
   "source": [
    "Ok something went wrong, lets do two things:\n",
    "\n",
    "1. visualize the matrix\n",
    "2. save it out to at least save your progress (hours of computing) or to see which part in the randomly generated matrix led to the error"
   ]
  },
  {
   "cell_type": "code",
   "execution_count": null,
   "metadata": {
    "collapsed": false
   },
   "outputs": [],
   "source": [
    "%debug"
   ]
  },
  {
   "cell_type": "markdown",
   "metadata": {},
   "source": [
    "Pretty impressive! \n",
    "\n",
    "Just to make sure that we saved out the right thing:"
   ]
  },
  {
   "cell_type": "code",
   "execution_count": null,
   "metadata": {
    "collapsed": false
   },
   "outputs": [],
   "source": [
    "imshow(np.load(\"randomMatrix.npy\"))"
   ]
  },
  {
   "cell_type": "markdown",
   "metadata": {},
   "source": [
    "## Exercise\n",
    "Yippie!"
   ]
  },
  {
   "cell_type": "code",
   "execution_count": null,
   "metadata": {
    "collapsed": false
   },
   "outputs": [],
   "source": []
  }
 ],
 "metadata": {
  "kernelspec": {
   "display_name": "Python 2",
   "language": "python",
   "name": "python2"
  },
  "language_info": {
   "codemirror_mode": {
    "name": "ipython",
    "version": 2
   },
   "file_extension": ".py",
   "mimetype": "text/x-python",
   "name": "python",
   "nbconvert_exporter": "python",
   "pygments_lexer": "ipython2",
   "version": "2.7.11"
  }
 },
 "nbformat": 4,
 "nbformat_minor": 0
}
