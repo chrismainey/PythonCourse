{
 "cells": [
  {
   "cell_type": "code",
   "execution_count": 1,
   "metadata": {
    "collapsed": true
   },
   "outputs": [],
   "source": [
    "import os"
   ]
  },
  {
   "cell_type": "code",
   "execution_count": 28,
   "metadata": {
    "collapsed": true
   },
   "outputs": [],
   "source": [
    "import sys"
   ]
  },
  {
   "cell_type": "code",
   "execution_count": 3,
   "metadata": {
    "collapsed": false
   },
   "outputs": [
    {
     "name": "stdout",
     "output_type": "stream",
     "text": [
      "2.7.11 |Anaconda 2.4.1 (64-bit)| (default, Jan 19 2016, 12:08:31) [MSC v.1500 64 bit (AMD64)]\n"
     ]
    }
   ],
   "source": [
    "print(sys.version)"
   ]
  },
  {
   "cell_type": "code",
   "execution_count": 4,
   "metadata": {
    "collapsed": false
   },
   "outputs": [
    {
     "name": "stdout",
     "output_type": "stream",
     "text": [
      "['', 'C:\\\\Users\\\\Christopher\\\\Anaconda2\\\\python27.zip', 'C:\\\\Users\\\\Christopher\\\\Anaconda2\\\\DLLs', 'C:\\\\Users\\\\Christopher\\\\Anaconda2\\\\lib', 'C:\\\\Users\\\\Christopher\\\\Anaconda2\\\\lib\\\\plat-win', 'C:\\\\Users\\\\Christopher\\\\Anaconda2\\\\lib\\\\lib-tk', 'C:\\\\Users\\\\Christopher\\\\Anaconda2', 'c:\\\\users\\\\christopher\\\\anaconda2\\\\lib\\\\site-packages\\\\sphinx-1.3.1-py2.7.egg', 'c:\\\\users\\\\christopher\\\\anaconda2\\\\lib\\\\site-packages\\\\setuptools-19.4-py2.7.egg', 'C:\\\\Users\\\\Christopher\\\\Anaconda2\\\\lib\\\\site-packages', 'C:\\\\Users\\\\Christopher\\\\Anaconda2\\\\lib\\\\site-packages\\\\cryptography-1.0.2-py2.7-win-amd64.egg', 'C:\\\\Users\\\\Christopher\\\\Anaconda2\\\\lib\\\\site-packages\\\\win32', 'C:\\\\Users\\\\Christopher\\\\Anaconda2\\\\lib\\\\site-packages\\\\win32\\\\lib', 'C:\\\\Users\\\\Christopher\\\\Anaconda2\\\\lib\\\\site-packages\\\\Pythonwin', 'C:\\\\Users\\\\Christopher\\\\Anaconda2\\\\lib\\\\site-packages\\\\IPython\\\\extensions', 'C:\\\\Users\\\\Christopher\\\\.ipython']\n"
     ]
    }
   ],
   "source": [
    "print(sys.path)"
   ]
  },
  {
   "cell_type": "code",
   "execution_count": 32,
   "metadata": {
    "collapsed": false
   },
   "outputs": [],
   "source": [
    "pythonPath = (sys.path[6])"
   ]
  },
  {
   "cell_type": "code",
   "execution_count": 33,
   "metadata": {
    "collapsed": false
   },
   "outputs": [
    {
     "name": "stdout",
     "output_type": "stream",
     "text": [
      "['.nonadmin', 'conda-meta', 'cwp.py', 'DLLs', 'Doc', 'envs', 'include', 'info', 'Lib', 'Library', 'libs', 'licenses', 'Menu', 'msvcm90.dll', 'msvcp90.dll', 'msvcr90.dll', 'node-webkit', 'pkgs', 'python.exe', 'python27.dll', 'pythonw.exe', 'qt.conf', 'Scripts', 'share', 'sip', 'tcl', 'Tools', 'Uninstall-Anaconda.exe', 'w9xpopen.exe', 'xlwings32.dll', 'xlwings64.dll']\n"
     ]
    }
   ],
   "source": [
    "print(os.listdir(pythonPath))"
   ]
  },
  {
   "cell_type": "code",
   "execution_count": 10,
   "metadata": {
    "collapsed": false
   },
   "outputs": [
    {
     "name": "stdout",
     "output_type": "stream",
     "text": [
      "C:\\Users\\Christopher\\Documents\\PhD\\PythonCourse\\2_FileIO\n"
     ]
    }
   ],
   "source": [
    "print(os.getcwd())"
   ]
  },
  {
   "cell_type": "code",
   "execution_count": 12,
   "metadata": {
    "collapsed": false,
    "scrolled": true
   },
   "outputs": [
    {
     "name": "stdout",
     "output_type": "stream",
     "text": [
      "['.ipynb_checkpoints', 'alice.txt', 'animals.csv', 'animals.txt', 'cmd-intro.pdf', 'Command line and python scripts.ipynb', 'File IO.docx', 'File IO.ipynb', 'file-io.pdf', 'greeter.py', 'library_data.txt', 'my_first_file.txt', 'my_list.pkl', 'python_assignment_2.ipynb']\n"
     ]
    }
   ],
   "source": [
    "print(os.listdir(os.getcwd()))"
   ]
  },
  {
   "cell_type": "markdown",
   "metadata": {},
   "source": [
    "Here is where we go back to the main terminal window and create a new text file called greeter.  This is the basis for our own module.  In this file it contains two functions, one to say hello to the class and one takes a names and says hellow to the TAs by name.  Then import and call them."
   ]
  },
  {
   "cell_type": "code",
   "execution_count": 13,
   "metadata": {
    "collapsed": true
   },
   "outputs": [],
   "source": [
    "import greeter"
   ]
  },
  {
   "cell_type": "code",
   "execution_count": 14,
   "metadata": {
    "collapsed": false
   },
   "outputs": [
    {
     "name": "stdout",
     "output_type": "stream",
     "text": [
      "Hello Python Class!\n"
     ]
    }
   ],
   "source": [
    "greeter.greet_class()"
   ]
  },
  {
   "cell_type": "code",
   "execution_count": 16,
   "metadata": {
    "collapsed": false
   },
   "outputs": [
    {
     "name": "stdout",
     "output_type": "stream",
     "text": [
      "Hello dimitris!\n"
     ]
    }
   ],
   "source": [
    "greeter.greet_TA('dimitris')"
   ]
  },
  {
   "cell_type": "markdown",
   "metadata": {},
   "source": [
    "Now we've also copied (form the course material) the simple downloader for gutenberg.  This is, again created as a text file and then it is saved and imported."
   ]
  },
  {
   "cell_type": "code",
   "execution_count": 18,
   "metadata": {
    "collapsed": true
   },
   "outputs": [],
   "source": [
    "URL =\"http://www.gutenberg.org/cache/epub/28885/pg28885.txt\""
   ]
  },
  {
   "cell_type": "code",
   "execution_count": 21,
   "metadata": {
    "collapsed": false
   },
   "outputs": [],
   "source": [
    "import Gutenberg"
   ]
  },
  {
   "cell_type": "code",
   "execution_count": 22,
   "metadata": {
    "collapsed": false
   },
   "outputs": [
    {
     "name": "stdout",
     "output_type": "stream",
     "text": [
      "Downloading http://www.gutenberg.org/cache/epub/28885/pg28885.txt\n",
      "Writting file AliceInWonderland.txt\n",
      "Done!\n"
     ]
    }
   ],
   "source": [
    "Gutenberg.download(URL,'AliceInWonderland.txt')"
   ]
  },
  {
   "cell_type": "markdown",
   "metadata": {},
   "source": [
    "Now you can check whether the new file exists, or print some lines"
   ]
  },
  {
   "cell_type": "code",
   "execution_count": 23,
   "metadata": {
    "collapsed": false
   },
   "outputs": [
    {
     "data": {
      "text/plain": [
       "True"
      ]
     },
     "execution_count": 23,
     "metadata": {},
     "output_type": "execute_result"
    }
   ],
   "source": [
    "os.path.isfile('AliceInWonderland.txt')"
   ]
  },
  {
   "cell_type": "code",
   "execution_count": 24,
   "metadata": {
    "collapsed": false
   },
   "outputs": [
    {
     "name": "stdout",
     "output_type": "stream",
     "text": [
      "middle of one! There ought to be a book written about me, that there\n",
      "ought! And when I grow up, I'll write one--but I'm grown up now,\" she\n",
      "added in a sorrowful tone; \"at least there's no room to grow up any more\n",
      "_here_.\"\n",
      "\n",
      "\n"
     ]
    }
   ],
   "source": [
    "print(''.join(open(\"AliceInWonderland.txt\").readlines()[970:975]))"
   ]
  },
  {
   "cell_type": "markdown",
   "metadata": {},
   "source": [
    "We then tried calling it from command line as :  python gutenberg.py http://www.gutenberg.org/cache/epub/28885/pg28885.txt AliceInWonderland.txt"
   ]
  },
  {
   "cell_type": "code",
   "execution_count": null,
   "metadata": {
    "collapsed": true
   },
   "outputs": [],
   "source": []
  }
 ],
 "metadata": {
  "celltoolbar": "Raw Cell Format",
  "kernelspec": {
   "display_name": "Python 2",
   "language": "python",
   "name": "python2"
  },
  "language_info": {
   "codemirror_mode": {
    "name": "ipython",
    "version": 2
   },
   "file_extension": ".py",
   "mimetype": "text/x-python",
   "name": "python",
   "nbconvert_exporter": "python",
   "pygments_lexer": "ipython2",
   "version": "2.7.11"
  }
 },
 "nbformat": 4,
 "nbformat_minor": 0
}
