{
 "cells": [
  {
   "cell_type": "code",
   "execution_count": 82,
   "metadata": {
    "collapsed": true
   },
   "outputs": [],
   "source": [
    "f = open(\"my_first_file.txt\", \"w\")"
   ]
  },
  {
   "cell_type": "code",
   "execution_count": 83,
   "metadata": {
    "collapsed": true
   },
   "outputs": [],
   "source": [
    "f.write(\"Hello, this is the text of the first file\")"
   ]
  },
  {
   "cell_type": "code",
   "execution_count": 84,
   "metadata": {
    "collapsed": false
   },
   "outputs": [],
   "source": [
    "f.close()"
   ]
  },
  {
   "cell_type": "code",
   "execution_count": 85,
   "metadata": {
    "collapsed": true
   },
   "outputs": [],
   "source": [
    "f = open(\"my_first_file.txt\", \"r\")"
   ]
  },
  {
   "cell_type": "code",
   "execution_count": 86,
   "metadata": {
    "collapsed": true
   },
   "outputs": [],
   "source": [
    "line = f.readline()"
   ]
  },
  {
   "cell_type": "code",
   "execution_count": 87,
   "metadata": {
    "collapsed": false
   },
   "outputs": [
    {
     "name": "stdout",
     "output_type": "stream",
     "text": [
      "Hello, this is the text of the first file\n"
     ]
    }
   ],
   "source": [
    "print(line)"
   ]
  },
  {
   "cell_type": "code",
   "execution_count": 38,
   "metadata": {
    "collapsed": false
   },
   "outputs": [
    {
     "name": "stdout",
     "output_type": "stream",
     "text": [
      "Help on file object:\n",
      "\n",
      "class file(object)\n",
      " |  file(name[, mode[, buffering]]) -> file object\n",
      " |  \n",
      " |  Open a file.  The mode can be 'r', 'w' or 'a' for reading (default),\n",
      " |  writing or appending.  The file will be created if it doesn't exist\n",
      " |  when opened for writing or appending; it will be truncated when\n",
      " |  opened for writing.  Add a 'b' to the mode for binary files.\n",
      " |  Add a '+' to the mode to allow simultaneous reading and writing.\n",
      " |  If the buffering argument is given, 0 means unbuffered, 1 means line\n",
      " |  buffered, and larger numbers specify the buffer size.  The preferred way\n",
      " |  to open a file is with the builtin open() function.\n",
      " |  Add a 'U' to mode to open the file for input with universal newline\n",
      " |  support.  Any line ending in the input file will be seen as a '\\n'\n",
      " |  in Python.  Also, a file so opened gains the attribute 'newlines';\n",
      " |  the value for this attribute is one of None (no newline read yet),\n",
      " |  '\\r', '\\n', '\\r\\n' or a tuple containing all the newline types seen.\n",
      " |  \n",
      " |  'U' cannot be combined with 'w' or '+' mode.\n",
      " |  \n",
      " |  Methods defined here:\n",
      " |  \n",
      " |  __delattr__(...)\n",
      " |      x.__delattr__('name') <==> del x.name\n",
      " |  \n",
      " |  __enter__(...)\n",
      " |      __enter__() -> self.\n",
      " |  \n",
      " |  __exit__(...)\n",
      " |      __exit__(*excinfo) -> None.  Closes the file.\n",
      " |  \n",
      " |  __getattribute__(...)\n",
      " |      x.__getattribute__('name') <==> x.name\n",
      " |  \n",
      " |  __init__(...)\n",
      " |      x.__init__(...) initializes x; see help(type(x)) for signature\n",
      " |  \n",
      " |  __iter__(...)\n",
      " |      x.__iter__() <==> iter(x)\n",
      " |  \n",
      " |  __repr__(...)\n",
      " |      x.__repr__() <==> repr(x)\n",
      " |  \n",
      " |  __setattr__(...)\n",
      " |      x.__setattr__('name', value) <==> x.name = value\n",
      " |  \n",
      " |  close(...)\n",
      " |      close() -> None or (perhaps) an integer.  Close the file.\n",
      " |      \n",
      " |      Sets data attribute .closed to True.  A closed file cannot be used for\n",
      " |      further I/O operations.  close() may be called more than once without\n",
      " |      error.  Some kinds of file objects (for example, opened by popen())\n",
      " |      may return an exit status upon closing.\n",
      " |  \n",
      " |  fileno(...)\n",
      " |      fileno() -> integer \"file descriptor\".\n",
      " |      \n",
      " |      This is needed for lower-level file interfaces, such os.read().\n",
      " |  \n",
      " |  flush(...)\n",
      " |      flush() -> None.  Flush the internal I/O buffer.\n",
      " |  \n",
      " |  isatty(...)\n",
      " |      isatty() -> true or false.  True if the file is connected to a tty device.\n",
      " |  \n",
      " |  next(...)\n",
      " |      x.next() -> the next value, or raise StopIteration\n",
      " |  \n",
      " |  read(...)\n",
      " |      read([size]) -> read at most size bytes, returned as a string.\n",
      " |      \n",
      " |      If the size argument is negative or omitted, read until EOF is reached.\n",
      " |      Notice that when in non-blocking mode, less data than what was requested\n",
      " |      may be returned, even if no size parameter was given.\n",
      " |  \n",
      " |  readinto(...)\n",
      " |      readinto() -> Undocumented.  Don't use this; it may go away.\n",
      " |  \n",
      " |  readline(...)\n",
      " |      readline([size]) -> next line from the file, as a string.\n",
      " |      \n",
      " |      Retain newline.  A non-negative size argument limits the maximum\n",
      " |      number of bytes to return (an incomplete line may be returned then).\n",
      " |      Return an empty string at EOF.\n",
      " |  \n",
      " |  readlines(...)\n",
      " |      readlines([size]) -> list of strings, each a line from the file.\n",
      " |      \n",
      " |      Call readline() repeatedly and return a list of the lines so read.\n",
      " |      The optional size argument, if given, is an approximate bound on the\n",
      " |      total number of bytes in the lines returned.\n",
      " |  \n",
      " |  seek(...)\n",
      " |      seek(offset[, whence]) -> None.  Move to new file position.\n",
      " |      \n",
      " |      Argument offset is a byte count.  Optional argument whence defaults to\n",
      " |      0 (offset from start of file, offset should be >= 0); other values are 1\n",
      " |      (move relative to current position, positive or negative), and 2 (move\n",
      " |      relative to end of file, usually negative, although many platforms allow\n",
      " |      seeking beyond the end of a file).  If the file is opened in text mode,\n",
      " |      only offsets returned by tell() are legal.  Use of other offsets causes\n",
      " |      undefined behavior.\n",
      " |      Note that not all file objects are seekable.\n",
      " |  \n",
      " |  tell(...)\n",
      " |      tell() -> current file position, an integer (may be a long integer).\n",
      " |  \n",
      " |  truncate(...)\n",
      " |      truncate([size]) -> None.  Truncate the file to at most size bytes.\n",
      " |      \n",
      " |      Size defaults to the current file position, as returned by tell().\n",
      " |  \n",
      " |  write(...)\n",
      " |      write(str) -> None.  Write string str to file.\n",
      " |      \n",
      " |      Note that due to buffering, flush() or close() may be needed before\n",
      " |      the file on disk reflects the data written.\n",
      " |  \n",
      " |  writelines(...)\n",
      " |      writelines(sequence_of_strings) -> None.  Write the strings to the file.\n",
      " |      \n",
      " |      Note that newlines are not added.  The sequence can be any iterable object\n",
      " |      producing strings. This is equivalent to calling write() for each string.\n",
      " |  \n",
      " |  xreadlines(...)\n",
      " |      xreadlines() -> returns self.\n",
      " |      \n",
      " |      For backward compatibility. File objects now include the performance\n",
      " |      optimizations previously implemented in the xreadlines module.\n",
      " |  \n",
      " |  ----------------------------------------------------------------------\n",
      " |  Data descriptors defined here:\n",
      " |  \n",
      " |  closed\n",
      " |      True if the file is closed\n",
      " |  \n",
      " |  encoding\n",
      " |      file encoding\n",
      " |  \n",
      " |  errors\n",
      " |      Unicode error handler\n",
      " |  \n",
      " |  mode\n",
      " |      file mode ('r', 'U', 'w', 'a', possibly with 'b' or '+' added)\n",
      " |  \n",
      " |  name\n",
      " |      file name\n",
      " |  \n",
      " |  newlines\n",
      " |      end-of-line convention used in this file\n",
      " |  \n",
      " |  softspace\n",
      " |      flag indicating that a space needs to be printed; used by print\n",
      " |  \n",
      " |  ----------------------------------------------------------------------\n",
      " |  Data and other attributes defined here:\n",
      " |  \n",
      " |  __new__ = <built-in method __new__ of type object>\n",
      " |      T.__new__(S, ...) -> a new object with type S, a subtype of T\n",
      "\n"
     ]
    }
   ],
   "source": [
    "help(f)"
   ]
  },
  {
   "cell_type": "code",
   "execution_count": 142,
   "metadata": {
    "collapsed": false
   },
   "outputs": [],
   "source": [
    "f = open(\"animals.txt\", \"w\")"
   ]
  },
  {
   "cell_type": "code",
   "execution_count": 143,
   "metadata": {
    "collapsed": false
   },
   "outputs": [],
   "source": [
    "#use loop and list to iterate into the file.  Create tab delimited.  \\t separates items with tab, each entry in litst is new line\n",
    "#the %s\\n symbol iterates a line break on each lis item.  Need to understand the %s thing at some point!\n",
    "for animals in [\"Animal\\tFood\", \"Sloth\\tLeaves\", \"Chicken\\tCorn\", \"Dragon\\tPeople\"]:\n",
    "    f.write(\"%s\\n\" % animals)"
   ]
  },
  {
   "cell_type": "code",
   "execution_count": 144,
   "metadata": {
    "collapsed": false
   },
   "outputs": [],
   "source": [
    "f.close()"
   ]
  },
  {
   "cell_type": "code",
   "execution_count": 145,
   "metadata": {
    "collapsed": true
   },
   "outputs": [],
   "source": [
    "f = open(\"animals.txt\", \"r\")"
   ]
  },
  {
   "cell_type": "code",
   "execution_count": 146,
   "metadata": {
    "collapsed": false
   },
   "outputs": [],
   "source": [
    "lines = f.readlines()"
   ]
  },
  {
   "cell_type": "code",
   "execution_count": 147,
   "metadata": {
    "collapsed": false
   },
   "outputs": [
    {
     "name": "stdout",
     "output_type": "stream",
     "text": [
      "['Animal\\tFood\\n', 'Sloth\\tLeaves\\n', 'Chicken\\tCorn\\n', 'Dragon\\tPeople\\n']\n"
     ]
    }
   ],
   "source": [
    "print(lines)"
   ]
  },
  {
   "cell_type": "code",
   "execution_count": 148,
   "metadata": {
    "collapsed": false
   },
   "outputs": [
    {
     "data": {
      "text/plain": [
       "4"
      ]
     },
     "execution_count": 148,
     "metadata": {},
     "output_type": "execute_result"
    }
   ],
   "source": [
    "len(lines)"
   ]
  },
  {
   "cell_type": "code",
   "execution_count": 149,
   "metadata": {
    "collapsed": false
   },
   "outputs": [],
   "source": [
    "f.close()"
   ]
  },
  {
   "cell_type": "code",
   "execution_count": 150,
   "metadata": {
    "collapsed": false
   },
   "outputs": [
    {
     "name": "stdout",
     "output_type": "stream",
     "text": [
      "Animal\tFood\n",
      "\n",
      "Sloth\tLeaves\n",
      "\n",
      "Chicken\tCorn\n",
      "\n",
      "Dragon\tPeople\n",
      "\n"
     ]
    }
   ],
   "source": [
    "for l in lines:\n",
    "    print(l)"
   ]
  },
  {
   "cell_type": "code",
   "execution_count": 151,
   "metadata": {
    "collapsed": false
   },
   "outputs": [
    {
     "name": "stdout",
     "output_type": "stream",
     "text": [
      "Animal\tFood\n",
      "Sloth\tLeaves\n",
      "Chicken\tCorn\n",
      "Dragon\tPeople\n"
     ]
    }
   ],
   "source": [
    "for l in lines:\n",
    "    print(l.rstrip())"
   ]
  },
  {
   "cell_type": "code",
   "execution_count": 152,
   "metadata": {
    "collapsed": false
   },
   "outputs": [
    {
     "name": "stdout",
     "output_type": "stream",
     "text": [
      "Animal\tFood\n",
      "Sloth\tLeaves\n",
      "Chicken\tCorn\n",
      "Dragon\tPeople\n"
     ]
    }
   ],
   "source": [
    "#to do the above in one step, read from file and strip space\n",
    "with open(\"animals.txt\", \"r\") as infile:  #infile is just a list name, and can be anything, it's not a function\n",
    "    for line in infile:\n",
    "        print(line.rstrip())"
   ]
  },
  {
   "cell_type": "code",
   "execution_count": 153,
   "metadata": {
    "collapsed": false
   },
   "outputs": [
    {
     "name": "stdout",
     "output_type": "stream",
     "text": [
      "['Animal\\tFood\\n', 'Sloth\\tLeaves\\n', 'Chicken\\tCorn\\n']\n"
     ]
    }
   ],
   "source": [
    "# to look at line spcificlaly from larger file, use indexing like yesterday:\n",
    "print(lines[0:3])"
   ]
  },
  {
   "cell_type": "code",
   "execution_count": 154,
   "metadata": {
    "collapsed": true
   },
   "outputs": [],
   "source": [
    "import os"
   ]
  },
  {
   "cell_type": "code",
   "execution_count": 155,
   "metadata": {
    "collapsed": false
   },
   "outputs": [],
   "source": [
    "with open(\"animals.txt\", \"r\") as infile:\n",
    "    with open(\"animals.csv\", \"w\") as outfile:\n",
    "        for line in infile:\n",
    "            outfile.write(\",\".join(line.split()))  #  python works from inner most brackets first.  The split option splits on the \\t\n",
    "            outfile.write(os.linesep)  # useing linesep form OS to separate lines\n",
    "            \n"
   ]
  },
  {
   "cell_type": "code",
   "execution_count": 156,
   "metadata": {
    "collapsed": false
   },
   "outputs": [
    {
     "name": "stdout",
     "output_type": "stream",
     "text": [
      "Animal,Food\n",
      "Sloth,Leaves\n",
      "Chicken,Corn\n",
      "Dragon,People\n"
     ]
    }
   ],
   "source": [
    "with open(\"animals.csv\",\"r\") as infile:\n",
    "    for line in infile:\n",
    "        print line.rstrip()"
   ]
  },
  {
   "cell_type": "code",
   "execution_count": 79,
   "metadata": {
    "collapsed": true
   },
   "outputs": [],
   "source": [
    "#when working with large data, you can serialise it, which makes it easier for computer to read.  \n",
    "#The Pickle and cPickle (faster) do this.\n",
    "from cPickle import dump, load"
   ]
  },
  {
   "cell_type": "code",
   "execution_count": null,
   "metadata": {
    "collapsed": true
   },
   "outputs": [],
   "source": []
  },
  {
   "cell_type": "code",
   "execution_count": 80,
   "metadata": {
    "collapsed": true
   },
   "outputs": [],
   "source": [
    "l= [\"a\", \"list\", \"with\", \"stuff\", [42,23,3,14], True]"
   ]
  },
  {
   "cell_type": "code",
   "execution_count": 81,
   "metadata": {
    "collapsed": true
   },
   "outputs": [],
   "source": [
    "with open(\"my_list.pkl\", \"wb\") as f: #when writing pickle files, the w is write but b means in bytes, which is faster\n",
    "    dump(l,f)"
   ]
  },
  {
   "cell_type": "code",
   "execution_count": 118,
   "metadata": {
    "collapsed": true
   },
   "outputs": [],
   "source": [
    "with open(\"my_list.pkl\", \"rb\") as f:\n",
    "    l = load(f)"
   ]
  },
  {
   "cell_type": "code",
   "execution_count": 119,
   "metadata": {
    "collapsed": false
   },
   "outputs": [
    {
     "data": {
      "text/plain": [
       "['a', 'list', 'with', 'stuff', [42, 23, 3, 14], True]"
      ]
     },
     "execution_count": 119,
     "metadata": {},
     "output_type": "execute_result"
    }
   ],
   "source": [
    "l"
   ]
  },
  {
   "cell_type": "code",
   "execution_count": 136,
   "metadata": {
    "collapsed": true
   },
   "outputs": [],
   "source": [
    "#can check for existence of files\n",
    "from os.path import exists"
   ]
  },
  {
   "cell_type": "code",
   "execution_count": 137,
   "metadata": {
    "collapsed": false
   },
   "outputs": [
    {
     "name": "stdout",
     "output_type": "stream",
     "text": [
      "my first file exists\n"
     ]
    }
   ],
   "source": [
    "if exists(\"my_first_file.txt\"):\n",
    "    print (\"my first file exists\")\n",
    "else:\n",
    "    print(\"no, my first file doesn't exist\")\n",
    "           "
   ]
  },
  {
   "cell_type": "code",
   "execution_count": 138,
   "metadata": {
    "collapsed": false
   },
   "outputs": [
    {
     "name": "stdout",
     "output_type": "stream",
     "text": [
      "no, lockfile doesn't exist\n"
     ]
    }
   ],
   "source": [
    "if exists(\"lockfile.txt\"):\n",
    "    print (\"lockfile exists\")\n",
    "else:\n",
    "    print(\"no, lockfile doesn't exist\")\n",
    "           "
   ]
  },
  {
   "cell_type": "code",
   "execution_count": 177,
   "metadata": {
    "collapsed": false
   },
   "outputs": [],
   "source": [
    "#Can check webpages\n",
    "import urllib2  #or urllib in Python3"
   ]
  },
  {
   "cell_type": "code",
   "execution_count": 178,
   "metadata": {
    "collapsed": true
   },
   "outputs": [],
   "source": [
    "URL = \"http://www.gutenberg.org/cache/epub/28885/pg28885.txt\""
   ]
  },
  {
   "cell_type": "code",
   "execution_count": 179,
   "metadata": {
    "collapsed": false
   },
   "outputs": [],
   "source": [
    "if not exists(\"alice.txt\"):\n",
    "    f = urllib2.urlopen(URL)\n",
    "    with open(\"alice.txt\",\"wb\") as outfile:\n",
    "        outfile.write(f.read())"
   ]
  },
  {
   "cell_type": "code",
   "execution_count": 180,
   "metadata": {
    "collapsed": false
   },
   "outputs": [
    {
     "name": "stdout",
     "output_type": "stream",
     "text": [
      "middle of one! There ought to be a book written about me, that there\n",
      "\n"
     ]
    }
   ],
   "source": [
    "print (open(\"alice.txt\").readlines()[970])"
   ]
  },
  {
   "cell_type": "code",
   "execution_count": 183,
   "metadata": {
    "collapsed": false
   },
   "outputs": [
    {
     "name": "stdout",
     "output_type": "stream",
     "text": [
      "['middle of one! There ought to be a book written about me, that there\\n', 'ought! And when I grow up, I\\'ll write one--but I\\'m grown up now,\" she\\n', 'added in a sorrowful tone; \"at least there\\'s no room to grow up any more\\n', '_here_.\"\\n', '\\n']\n"
     ]
    }
   ],
   "source": [
    "#Problem with this is that it reads in all the formatting marks as well.\n",
    "print (open(\"alice.txt\").readlines()[970:975])"
   ]
  },
  {
   "cell_type": "code",
   "execution_count": 182,
   "metadata": {
    "collapsed": false
   },
   "outputs": [
    {
     "name": "stdout",
     "output_type": "stream",
     "text": [
      "middle of one! There ought to be a book written about me, that there\n",
      "ought! And when I grow up, I'll write one--but I'm grown up now,\" she\n",
      "added in a sorrowful tone; \"at least there's no room to grow up any more\n",
      "_here_.\"\n",
      "\n",
      "\n"
     ]
    }
   ],
   "source": [
    "print(''.join(open(\"alice.txt\").readlines()[970:975]))"
   ]
  },
  {
   "cell_type": "code",
   "execution_count": 184,
   "metadata": {
    "collapsed": true
   },
   "outputs": [],
   "source": [
    "import glob #good module for working with multiple files"
   ]
  },
  {
   "cell_type": "code",
   "execution_count": 185,
   "metadata": {
    "collapsed": true
   },
   "outputs": [],
   "source": [
    "text_files = glob.glob(\"*.txt\")  #creates a list object called text_files that have the extension .txt"
   ]
  },
  {
   "cell_type": "code",
   "execution_count": 186,
   "metadata": {
    "collapsed": false
   },
   "outputs": [
    {
     "name": "stdout",
     "output_type": "stream",
     "text": [
      "['alice.txt', 'animals.txt', 'my_first_file.txt']\n"
     ]
    }
   ],
   "source": [
    "print(text_files)"
   ]
  },
  {
   "cell_type": "code",
   "execution_count": null,
   "metadata": {
    "collapsed": true
   },
   "outputs": [],
   "source": []
  }
 ],
 "metadata": {
  "kernelspec": {
   "display_name": "Python 2",
   "language": "python",
   "name": "python2"
  },
  "language_info": {
   "codemirror_mode": {
    "name": "ipython",
    "version": 2
   },
   "file_extension": ".py",
   "mimetype": "text/x-python",
   "name": "python",
   "nbconvert_exporter": "python",
   "pygments_lexer": "ipython2",
   "version": "2.7.11"
  }
 },
 "nbformat": 4,
 "nbformat_minor": 0
}
