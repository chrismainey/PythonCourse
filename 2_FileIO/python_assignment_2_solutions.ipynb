{
 "cells": [
  {
   "cell_type": "markdown",
   "metadata": {},
   "source": [
    "# Scientific Programming in Python - Control Flow & File IO"
   ]
  },
  {
   "cell_type": "markdown",
   "metadata": {},
   "source": [
    "### Problem 1. FizzBuzz"
   ]
  },
  {
   "cell_type": "markdown",
   "metadata": {},
   "source": [
    ">**(a)** Write a program that prints out the numbers between one and 100 except that:\n",
    "* for multiples of three it prints the word Fizz instead of that number;\n",
    "* for multiples of five it prints the word Buzz instead of that number; and\n",
    "* for multiples of both three and five it prints the word FizzBuzz instead of that number.\n",
    "\n",
    ">For example, the first 15 lines of output from your program should be identical to the following:"
   ]
  },
  {
   "cell_type": "raw",
   "metadata": {},
   "source": [
    "1\n",
    "2\n",
    "Fizz\n",
    "4\n",
    "Buzz\n",
    "Fizz\n",
    "7\n",
    "8\n",
    "Fizz\n",
    "Buzz\n",
    "11\n",
    "Fizz\n",
    "13\n",
    "14\n",
    "FizzBuzz"
   ]
  },
  {
   "cell_type": "code",
   "execution_count": null,
   "metadata": {
    "collapsed": false,
    "scrolled": false
   },
   "outputs": [],
   "source": [
    "numbers = range(1, 100)\n",
    "\n",
    "def fizzbuzz(numbers):\n",
    "    \n",
    "    for i in range( len(numbers) ):\n",
    "        val = numbers[i]\n",
    "        \n",
    "        if val % 5 == 0 and val % 3 == 0:\n",
    "            print \"FizzBuzz\"\n",
    "        elif val % 3 == 0:\n",
    "            print \"Fizz\"\n",
    "        elif val % 5 == 0:\n",
    "            print \"Buzz\"\n",
    "        else:\n",
    "            print val\n",
    "\n",
    "fizzbuzz( numbers[:15] )"
   ]
  },
  {
   "cell_type": "markdown",
   "metadata": {},
   "source": [
    ">**Hint:** If you are having trouble, start by writing code that will print all the numbers one to 100, one per line. Then, modify that code so that it prints the word Fizz instead of multiples of three. Next, modify your code to prints the word Buzz instead of multiples of five. Finally, modify it so that it prints the correct output."
   ]
  },
  {
   "cell_type": "markdown",
   "metadata": {},
   "source": [
    ">**Hint:** To test if a variable <code>n</code> is a multiple of three, you can use this code:\n",
    "\n",
    ">><code>(n % 3) == 0</code>\n",
    "\n",
    "> The <code>%</code> symbol here is called the [modulo operator](https://en.wikipedia.org/wiki/Modulo_operation) and the code <code>n % 3</code> is pronounced \"n modulo three\". So if <code>n</code> is zero modulo three, it gives 0 remainder on division by three and that means it’s a multiple of 3. You can use the code like this:\n",
    "\n",
    ">><code>if (n % 3) == 0:\n",
    "    do_stuff </code>\n",
    "\n",
    ">Here, <code>do_stuff</code> will be executed if and only if <code>n</code> is a multiple of 3."
   ]
  },
  {
   "cell_type": "markdown",
   "metadata": {},
   "source": [
    "### Problem 2. Library with File I/O"
   ]
  },
  {
   "cell_type": "markdown",
   "metadata": {},
   "source": [
    "In this problem, you are given a list of student names and library fees in a file and your task is to write some Python code to process it. Make sure you download [library_data.txt](http://www.cs.ucl.ac.uk/scipython/resources/library_data.txt) from the website and put it in the same folder as your iPython notebook. The file looks something like this:"
   ]
  },
  {
   "cell_type": "raw",
   "metadata": {},
   "source": [
    "123456 John Doe 1.49\n",
    "312314 Jane Miller 0.00\n",
    "031337 Ted Johnson 8.12"
   ]
  },
  {
   "cell_type": "markdown",
   "metadata": {},
   "source": [
    "Each line in the file is a single student record. Each student record has the following format:\n",
    "><code>StudentNumber FirstName LastName AmountOwed</code>"
   ]
  },
  {
   "cell_type": "markdown",
   "metadata": {},
   "source": [
    ">**(a)** Write a function that uses a for-loop to iterate over each line in the file and store it in a list. The resulting list should look something like this:"
   ]
  },
  {
   "cell_type": "raw",
   "metadata": {},
   "source": [
    "['123456 John Doe 1.49\\n', '312314 Jane Miller 0.00\\n', '031337 Ted Johnson 8.12\\n']"
   ]
  },
  {
   "cell_type": "code",
   "execution_count": null,
   "metadata": {
    "collapsed": false
   },
   "outputs": [],
   "source": [
    "def read_data(handle):    \n",
    "    data = []\n",
    "    \n",
    "    with open(handle, \"r\") as f:\n",
    "        for line in f:\n",
    "            data.append(line)\n",
    "            \n",
    "    return data\n",
    "\n",
    "libdata = read_data(\"library_data.txt\")\n",
    "print libdata"
   ]
  },
  {
   "cell_type": "markdown",
   "metadata": {},
   "source": [
    ">**(b)** Write a function to create two lists:\n",
    ">1. A list that contains only the first column (the student number)\n",
    ">2. A list that contains only the remaining information (the student name and the amount of money owed to the library)"
   ]
  },
  {
   "cell_type": "markdown",
   "metadata": {},
   "source": [
    ">**Hint:** You could use the string method <code>split</code> to split a string into a list of smaller strings. Read the help for this function if needed."
   ]
  },
  {
   "cell_type": "code",
   "execution_count": null,
   "metadata": {
    "collapsed": false
   },
   "outputs": [],
   "source": [
    "def get_columns(libdata):\n",
    "    studentNumbers = []\n",
    "    rests = []\n",
    "    \n",
    "    for record in libdata:\n",
    "        # record = '123456 John Doe 1.49\\n'\n",
    "        splits = record.split(\" \")\n",
    "        studentNumber = splits[0]\n",
    "        studentNumbers.append(studentNumber)\n",
    "\n",
    "        rest = splits[1:]\n",
    "        rests.append(rest)\n",
    "\n",
    "    return studentNumbers, rests\n",
    "\n",
    "studentNumbers, rests = get_columns(libdata)\n",
    "print studentNumbers\n",
    "print rests"
   ]
  },
  {
   "cell_type": "markdown",
   "metadata": {},
   "source": [
    ">**(c)** Write a function that splits the second list futher into two lists:\n",
    ">1. A list that contains the name\n",
    ">2. A list that contains the amount owed (as a float)"
   ]
  },
  {
   "cell_type": "code",
   "execution_count": null,
   "metadata": {
    "collapsed": false
   },
   "outputs": [],
   "source": [
    "def get_names_owed(rests):\n",
    "    names = []\n",
    "    oweds = []\n",
    "\n",
    "    for rest in rests:\n",
    "        name = \" \".join( rest[:2] )\n",
    "        names.append(name)\n",
    "\n",
    "        owed = float( rest[2] )\n",
    "        oweds.append(owed)\n",
    "        \n",
    "    return names, oweds\n",
    "\n",
    "names, oweds = get_names_owed(rests)\n",
    "print names\n",
    "print oweds"
   ]
  },
  {
   "cell_type": "markdown",
   "metadata": {},
   "source": [
    ">**(d)** Write a function that determines the name and student number of the person that owes the largest amount of money."
   ]
  },
  {
   "cell_type": "code",
   "execution_count": null,
   "metadata": {
    "collapsed": false
   },
   "outputs": [],
   "source": [
    "def index_max_money_owed(oweds):\n",
    "    m = 0\n",
    "    idx = None\n",
    "    \n",
    "    for i in range( len(oweds) ):\n",
    "        if oweds[i] > m:\n",
    "            m = oweds[i]\n",
    "            idx = i\n",
    "            \n",
    "    return idx\n",
    "\n",
    "max_money = index_max_money_owed(oweds)\n",
    "print \"Maximum amount owed: \", names[max_money], oweds[max_money], studentNumbers[idx]"
   ]
  },
  {
   "cell_type": "markdown",
   "metadata": {},
   "source": [
    ">**(e)** Write a function that determines the names and student numbers of all people that owe money (i.e. where the amount is not 0.00)."
   ]
  },
  {
   "cell_type": "code",
   "execution_count": null,
   "metadata": {
    "collapsed": true
   },
   "outputs": [],
   "source": [
    "def find_badguys(names, oweds, studentNumbers):\n",
    "    \"\"\"Find people owing money\"\"\"\n",
    "    badGuys = []\n",
    "    \n",
    "    for i in range( len(oweds) ):\n",
    "        if oweds[i] != 0:\n",
    "            badGuy = []\n",
    "            badGuy.append( studentNumbers[i] )\n",
    "            badGuy.append( names[i] )\n",
    "            badGuy.append( oweds[i] )\n",
    "            \n",
    "            badGuys.append(badGuy)\n",
    "            \n",
    "    return badGuys\n",
    "\n",
    "print \"People owing money: \"\n",
    "for i in find_badguys(names, oweds, studentNumbers):\n",
    "    print i"
   ]
  },
  {
   "cell_type": "markdown",
   "metadata": {},
   "source": [
    ">**(f)** We will now write our results to a new file. Write some code that:\n",
    "> 1. lets the user enter a file name;\n",
    "> 2. creates this file; and\n",
    "> 3. writes to the file the list of people that owe money (e.g. one student per line, with how much they owe as well)."
   ]
  },
  {
   "cell_type": "code",
   "execution_count": null,
   "metadata": {
    "collapsed": false
   },
   "outputs": [],
   "source": [
    "filename = raw_input(\"Specify filename for people owing the library money\")"
   ]
  },
  {
   "cell_type": "code",
   "execution_count": null,
   "metadata": {
    "collapsed": false
   },
   "outputs": [],
   "source": [
    "badguys = find_badguys(names, oweds, studentNumbers)\n",
    "\n",
    "def write_owed(filename, badguys):\n",
    "    with open(filename, \"w\") as f:\n",
    "        for badguy in badguys:\n",
    "            record = \"\"\n",
    "            \n",
    "            for datum in badguy:\n",
    "                record = record + str(datum) + \" \"\n",
    "\n",
    "            record = record + \"\\n\"\n",
    "            f.write(record)\n",
    "\n",
    "write_owed(filename, badguys)"
   ]
  },
  {
   "cell_type": "markdown",
   "metadata": {},
   "source": [
    "### Problem 3. FizzBuzz (applied science version)"
   ]
  },
  {
   "cell_type": "markdown",
   "metadata": {},
   "source": [
    "Imagine that you are doing a psychology experiment in which your colleague records the response time of participants presented with some task. There are two task conditions: condition A and condition B. There are n participants, and they each do the task with condition A and then with condition B. The instrument used to record the response times stores the information in a long text file called response_time.txt (which you can get [here](http://www.cs.ucl.ac.uk/scipython/resources/response_time.txt)). The first line of the file is the response time of the first participant doing the task with condition A, the second line is the response time of the first participant with condition B, the third line is the response time of the second participant doing the task with condition A, and so on."
   ]
  },
  {
   "cell_type": "markdown",
   "metadata": {},
   "source": [
    ">**(a)** Download [response_time.txt](http://www.cs.ucl.ac.uk/scipython/resources/response_time.txt) and then write a program which prints the mean response time of all participants for task A followed by the mean response time for all participants for task B. The output of your program should be the following:"
   ]
  },
  {
   "cell_type": "raw",
   "metadata": {},
   "source": [
    "4.98704579795\n",
    "3.104619569"
   ]
  },
  {
   "cell_type": "markdown",
   "metadata": {},
   "source": [
    ">**Hint:** The modulo operator should come in handy again. Any appropriately indented code following <code> if (n % 2) == 0: </code> will only be executed if <code>n</code> is even."
   ]
  },
  {
   "cell_type": "code",
   "execution_count": null,
   "metadata": {
    "collapsed": false
   },
   "outputs": [],
   "source": [
    "def parse_response_time(handle):\n",
    "    A, B = [], []\n",
    "    \n",
    "    with open(handle, \"r\") as f:\n",
    "        # enumerate() returns the index and the iterable\n",
    "        # https://docs.python.org/2/library/functions.html#enumerate\n",
    "        for i, line in enumerate(f):\n",
    "            line = line.strip()\n",
    "            \n",
    "            # even\n",
    "            if (i % 2) == 0:\n",
    "                A.append( float(line) )\n",
    "            # odd\n",
    "            else:\n",
    "                B.append( float(line) )\n",
    "                \n",
    "    return A, B\n",
    "\n",
    "def mean(l):\n",
    "    return sum(l) / float( len(l) )\n",
    "\n",
    "condition_A, condition_B = parse_response_time(\"response_time.txt\")\n",
    "print mean(condition_A)\n",
    "print mean(condition_B)"
   ]
  },
  {
   "cell_type": "markdown",
   "metadata": {},
   "source": [
    ">**(b)** Extend your script so that it displays a box plot of the response times of the participants for the two conditions."
   ]
  },
  {
   "cell_type": "markdown",
   "metadata": {},
   "source": [
    ">**Hint:**  If you create two lists, called <code>condition_A</code> and <code>condition_B</code>, containing the response times for conditions A and B respectively, then the <code>boxplot</code> function from matplotlib will generate the actual boxplot:\n",
    ">><code>boxplot( [condition_A, condition_B] )</code>."
   ]
  },
  {
   "cell_type": "code",
   "execution_count": null,
   "metadata": {
    "collapsed": false
   },
   "outputs": [],
   "source": [
    "%matplotlib inline\n",
    "import matplotlib.pyplot as plt\n",
    "boxplot = plt.boxplot( [condition_A, condition_B] )\n",
    "plt.show()"
   ]
  },
  {
   "cell_type": "markdown",
   "metadata": {},
   "source": [
    "### Problem 4. Who’s the winner?"
   ]
  },
  {
   "cell_type": "markdown",
   "metadata": {},
   "source": [
    "The London elections are around the corner and you have been tasked with writing the code that determines the winner given all the ballots. The winner is determined as follows:\n",
    "\n",
    "* From the list of candidates (which we will for simplicity number $0,1,2,...$ ), every voter gets to select his first and his second choice. The data you are given can thus be represented as a list of lists:\n",
    "\n",
    "><code>[ [1st_choice_voter_1, 2nd_choice_voter_1], [1st_choice_voter_2, 2nd_choice_voter_2], ...]</code>\n",
    "\n",
    "* If any of the candidates gets more than 50% of the first votes, he is declared the winner.\n",
    "\n",
    "\n",
    "* If no candidate achieves this absolute majority, the two candidates with the most first votes enter into a second round, all others are eliminated.  \n",
    "\n",
    "\n",
    "* In the second round, all ballots with first votes for candidates that did not enter the second round are re-examined, and any second choice votes for the top two candidates are added to their scores.  \n",
    "\n",
    "\n",
    "* The candidate with the highest number of combined first and second choice votes is the winner.  "
   ]
  },
  {
   "cell_type": "markdown",
   "metadata": {},
   "source": [
    ">**(a)** Download the file [votes.pickle](http://www.cs.ucl.ac.uk/scipython/resources/votes.pickle) from the course website. Then, use the following code to read the list of votes from the file:"
   ]
  },
  {
   "cell_type": "code",
   "execution_count": null,
   "metadata": {
    "collapsed": false
   },
   "outputs": [],
   "source": [
    "from cPickle import * \n",
    "\n",
    "votes = load( open(\"/Users/admin/Downloads/votes.pickle\", \"rb\") )"
   ]
  },
  {
   "cell_type": "markdown",
   "metadata": {},
   "source": [
    ">**(b)** Fill in the code required to count the first votes and to determine the possible first-round winner. There are 6 candidates in the given data set. You should find that in this data set no candidate wins in the first round."
   ]
  },
  {
   "cell_type": "code",
   "execution_count": null,
   "metadata": {
    "collapsed": false
   },
   "outputs": [],
   "source": [
    "num_candidates = 6\n",
    "\n",
    "# create a list to store the number of votes per candidate\n",
    "first_votes = [0] * num_candidates\n",
    "\n",
    "# go through the list of votes and add up the first votes per candidate\n",
    "for (first, second) in votes:\n",
    "    first_votes[first] += 1\n",
    "\n",
    "print first_votes\n",
    "\n",
    "# in the first round, if any candidate has > 50% of the votes, he wins\n",
    "for i in xrange( len(first_votes) ):\n",
    "    if first_votes[i] > len(votes)/2.0:\n",
    "        print \"We have a winner! Candidate \" + str(i) + \" with \" + str( first_votes[i] / float( len(votes) ) ) + \"%\""
   ]
  },
  {
   "cell_type": "markdown",
   "metadata": {},
   "source": [
    ">**(c)** Implement the second round process described above. If you do this correctly, you should find that candidate 2 wins with 45619 votes. There are some hints in the skeleton below to get you started"
   ]
  },
  {
   "cell_type": "code",
   "execution_count": null,
   "metadata": {
    "collapsed": false
   },
   "outputs": [],
   "source": [
    "# For the elimination round, we need to find the two candidates with the most\n",
    "# first votes.\n",
    "# The code below does just that: It returns a tuple of the indices of the \n",
    "# top two candidates. Don't worry if you don't understand how this works yet --\n",
    "# we will see a much simpler and more elegant way to achieve the same later in the course.\n",
    "elimination_candidates  = zip( *sorted( zip( first_votes, range( len(first_votes) ) ) )[-2:] )[1]\n",
    "\n",
    "# make a copy so we can add votes\n",
    "second_votes = first_votes[:]\n",
    "\n",
    "# add second votes to first votes for remaining candidates\n",
    "for (first, second) in votes:\n",
    "    if first != elimination_candidates[0] and first != elimination_candidates[1]:\n",
    "        if second == elimination_candidates[0] or second == elimination_candidates[1]:\n",
    "            if second != first:\n",
    "                second_votes[second] += 1\n",
    "\n",
    "print second_votes\n",
    "\n",
    "# find and display the winner\n",
    "# you can either try to adapt the code used to find the top two candidates above, \n",
    "# or simply use another for loop\n",
    "winner = sorted( zip( second_votes, range( len(second_votes) ) ) )[-1][1]\n",
    "print \"We have a winner! Candidate \" + str(winner) + \" with \" + str( second_votes[winner] ) + \" votes\""
   ]
  },
  {
   "cell_type": "markdown",
   "metadata": {},
   "source": [
    "### Problem 5. Text processing for Alice in Wonderland"
   ]
  },
  {
   "cell_type": "markdown",
   "metadata": {},
   "source": [
    "The following code will create a file called alice.txt that contains the text of Alice in Wonderland. The code below will create the file in iPython’s current directory. This is the same as going to the website http://www.guttenberg.org/, finding the .txt file for Alice in Wonderland, and clicking *File* and then *Save as* and entering ‘alice.txt’ into the save dialog of your browser. The advantage of knowing how to do this in python is that you can then write a script to automatically download the data that you need for an experiment, which will save you time when there are a lot of files."
   ]
  },
  {
   "cell_type": "code",
   "execution_count": null,
   "metadata": {
    "collapsed": false
   },
   "outputs": [],
   "source": [
    "import urllib2\n",
    "\n",
    "# URL on guttenberg.org\n",
    "URL = \"http://www.gutenberg.org/files/11/11.txt\"\n",
    "\n",
    "# Local URL on UCL webserver\n",
    "URL = \"http://www.cs.ucl.ac.uk/scipython/resources/alice.txt\"\n",
    "\n",
    "f = urllib2.urlopen(URL)\n",
    "open(\"alice.txt\", \"w\").write( f.read() )"
   ]
  },
  {
   "cell_type": "markdown",
   "metadata": {},
   "source": [
    ">**(a)** Open up the file ‘alice.txt’ in a text editor of your choice (e.g. Notepad on Windows or TextEdit on Mac). There might be some text at the beginning or the end that isn’t part of Alice in Wonderland. Delete it and then save the file again."
   ]
  },
  {
   "cell_type": "markdown",
   "metadata": {},
   "source": [
    ">**(b)** The following code will count the number of words in Alice in Wonderland. Modify the code so that it prints out the number of times the word Alice appears."
   ]
  },
  {
   "cell_type": "code",
   "execution_count": null,
   "metadata": {
    "collapsed": false
   },
   "outputs": [],
   "source": [
    "f = open(\"alice.txt\", \"r\")\n",
    "num_words = 0\n",
    "\n",
    "for line in f.readlines():\n",
    "    for word in line.strip().split():\n",
    "        if word == \"Alice\":\n",
    "            num_words += 1 \n",
    "\n",
    "print num_words"
   ]
  },
  {
   "cell_type": "markdown",
   "metadata": {},
   "source": [
    "We will revisit this exercise later when dictionaries have been introduced to analyse the frequency of all words!"
   ]
  },
  {
   "cell_type": "markdown",
   "metadata": {},
   "source": [
    "### Problem 6. Cryptograms"
   ]
  },
  {
   "cell_type": "markdown",
   "metadata": {},
   "source": [
    "The code below ‘encrypts’ some text by rotating the alphabet by a given amount:"
   ]
  },
  {
   "cell_type": "code",
   "execution_count": null,
   "metadata": {
    "collapsed": false
   },
   "outputs": [],
   "source": [
    "amount = int( raw_input('What amount do you want to rotate by? ') )\n",
    "\n",
    "print 'Enter text to be rotated.'\n",
    "print 'Enter \"EOF\" on a line on its own when you are done.'\n",
    "\n",
    "A_value = ord('A')\n",
    "Z_value = ord('Z')\n",
    "\n",
    "while True:\n",
    "    input_line = raw_input()\n",
    "    \n",
    "    if input_line == 'EOF':\n",
    "        break\n",
    "\n",
    "    output_line = ''\n",
    "\n",
    "    for c in input_line:\n",
    "        if c.isalpha():\n",
    "            c = c.upper()\n",
    "            value = ord(c)\n",
    "            value = value + amount\n",
    "            \n",
    "            if value > Z_value:\n",
    "                value = A_value + (value - Z_value) - 1\n",
    "            elif value < A_value:\n",
    "                value = Z_value - (A_value - value) + 1\n",
    "\n",
    "            c = chr(value)\n",
    "\n",
    "        output_line += c\n",
    "\n",
    "    print output_line"
   ]
  },
  {
   "cell_type": "markdown",
   "metadata": {},
   "source": [
    ">**(a)** If you encrypt some text by rotating some amount, what amount do you need to rotate by to decrypt it?"
   ]
  },
  {
   "cell_type": "markdown",
   "metadata": {},
   "source": [
    ">**ANSWER**\n",
    "\n",
    "> The inverse. For example, rotate HELLO by 2 gives JGNNQ, JGNNQ -2 gives HELLO."
   ]
  },
  {
   "cell_type": "markdown",
   "metadata": {},
   "source": [
    ">**(b)** Encrypt some text and email it to the person next to you. Tell them what amount you rotated by so they can decrypt it."
   ]
  },
  {
   "cell_type": "markdown",
   "metadata": {},
   "source": [
    ">**(c)** Figure out what <code>ord</code> and <code>chr</code> do"
   ]
  },
  {
   "cell_type": "markdown",
   "metadata": {},
   "source": [
    ">**ANSWER**\n",
    "\n",
    "> https://docs.python.org/2/library/functions.html#ord\n",
    "\n",
    "> https://docs.python.org/2/library/functions.html#chr\n",
    "\n",
    "> Explanation: http://en.wikipedia.org/wiki/ASCII"
   ]
  },
  {
   "cell_type": "markdown",
   "metadata": {},
   "source": [
    ">**(d)** Do you understand the bit where it wraps around by checking if it’s moved past ‘A’ or ‘Z’?"
   ]
  },
  {
   "cell_type": "markdown",
   "metadata": {},
   "source": [
    "> **ANSWER**\n",
    "\n",
    "> The limits for rotating a latin alphabet are are given by the output of `ord(\"A\")` and `ord(\"Z\")`, and we have to check we stay within these boundaries. Special characters stay the same."
   ]
  },
  {
   "cell_type": "markdown",
   "metadata": {},
   "source": [
    ">**(e)** What does this part of the code do:\n",
    "\n",
    ">><code>while True:\n",
    "    input_line = raw_input()\n",
    "    if input_line == \"EOF\":\n",
    "        break</code>"
   ]
  },
  {
   "cell_type": "markdown",
   "metadata": {
    "collapsed": false
   },
   "source": [
    ">**ANSWER**\n",
    "\n",
    "> It breaks the infinite loop when the string \"EOF\" is encountered"
   ]
  },
  {
   "cell_type": "markdown",
   "metadata": {},
   "source": [
    ">**(f)** You should notice that our program converts lower case to upper case letters as a side effect as it rotates. Change it so that it doesn’t convert lower case to upper case (instead preserving the case of the letters) but still rotates them."
   ]
  },
  {
   "cell_type": "code",
   "execution_count": null,
   "metadata": {
    "collapsed": false
   },
   "outputs": [],
   "source": [
    "amount = int( raw_input('What amount do you want to rotate by? ') )\n",
    "\n",
    "print 'Enter text to be rotated.'\n",
    "print 'Enter \"EOF\" on a line on its own when you are done.'\n",
    "\n",
    "A_value = ord('A')\n",
    "Z_value = ord('Z')\n",
    "\n",
    "while True:\n",
    "    input_line = raw_input()\n",
    "\n",
    "    if input_line == 'EOF':\n",
    "        break\n",
    "\n",
    "    output_line = ''\n",
    "\n",
    "    for c in input_line:\n",
    "   \n",
    "        if c.islower():\n",
    "            preserve = True\n",
    "        else:\n",
    "            preserve = False\n",
    " \n",
    "        if c.isalpha():\n",
    "            c = c.upper()\n",
    "            value = ord(c)\n",
    "            value = value + amount\n",
    "            \n",
    "            if value > Z_value:\n",
    "                value = A_value + (value - Z_value) - 1\n",
    "            elif value < A_value:\n",
    "                value = Z_value - (A_value - value) + 1\n",
    "    \n",
    "            c = chr(value)\n",
    "            if preserve:\n",
    "                c = c.lower()\n",
    "\n",
    "        output_line += c\n",
    "\n",
    "    print output_line"
   ]
  }
 ],
 "metadata": {
  "kernelspec": {
   "display_name": "Python 2",
   "language": "python",
   "name": "python2"
  },
  "language_info": {
   "codemirror_mode": {
    "name": "ipython",
    "version": 2
   },
   "file_extension": ".py",
   "mimetype": "text/x-python",
   "name": "python",
   "nbconvert_exporter": "python",
   "pygments_lexer": "ipython2",
   "version": "2.7.11"
  }
 },
 "nbformat": 4,
 "nbformat_minor": 0
}
