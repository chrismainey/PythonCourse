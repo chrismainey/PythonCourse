{
 "cells": [
  {
   "cell_type": "markdown",
   "metadata": {},
   "source": [
    "# Scientific Programming in Python - Control Flow & File IO"
   ]
  },
  {
   "cell_type": "markdown",
   "metadata": {},
   "source": [
    "### Problem 1. FizzBuzz"
   ]
  },
  {
   "cell_type": "markdown",
   "metadata": {},
   "source": [
    ">**(a)** Write a program that prints out the numbers between one and 100 except that for multiples of three it prints Fizz instead of that number and for multiples of five it prints Buzz instead of that number and for multiples of both three and five it prints FizzBuzz instead of that number. For example, the first 15 lines should be identical to this:"
   ]
  },
  {
   "cell_type": "raw",
   "metadata": {},
   "source": [
    "1\n",
    "2 Fizz 4 Buzz\n",
    "Fizz\n",
    "7\n",
    "8\n",
    "Fizz\n",
    "Buzz\n",
    "11\n",
    "Fizz\n",
    "13\n",
    "14\n",
    "FizzBuzz"
   ]
  },
  {
   "cell_type": "code",
   "execution_count": 1,
   "metadata": {
    "collapsed": false
   },
   "outputs": [
    {
     "name": "stdout",
     "output_type": "stream",
     "text": [
      "1\n",
      "2\n",
      "3\n",
      "4\n",
      "buzz\n",
      "6\n",
      "7\n",
      "8\n",
      "9\n",
      "buzz\n",
      "11\n",
      "12\n",
      "13\n",
      "14\n",
      "fizzbuzz\n",
      "16\n",
      "17\n",
      "18\n",
      "19\n",
      "buzz\n",
      "21\n",
      "22\n",
      "23\n",
      "24\n",
      "buzz\n",
      "26\n",
      "27\n",
      "28\n",
      "29\n",
      "fizzbuzz\n",
      "31\n",
      "32\n",
      "33\n",
      "34\n",
      "buzz\n",
      "36\n",
      "37\n",
      "38\n",
      "39\n",
      "buzz\n",
      "41\n",
      "42\n",
      "43\n",
      "44\n",
      "fizzbuzz\n",
      "46\n",
      "47\n",
      "48\n",
      "49\n",
      "buzz\n",
      "51\n",
      "52\n",
      "53\n",
      "54\n",
      "buzz\n",
      "56\n",
      "57\n",
      "58\n",
      "59\n",
      "fizzbuzz\n",
      "61\n",
      "62\n",
      "63\n",
      "64\n",
      "buzz\n",
      "66\n",
      "67\n",
      "68\n",
      "69\n",
      "buzz\n",
      "71\n",
      "72\n",
      "73\n",
      "74\n",
      "fizzbuzz\n",
      "76\n",
      "77\n",
      "78\n",
      "79\n",
      "buzz\n",
      "81\n",
      "82\n",
      "83\n",
      "84\n",
      "buzz\n",
      "86\n",
      "87\n",
      "88\n",
      "89\n",
      "fizzbuzz\n",
      "91\n",
      "92\n",
      "93\n",
      "94\n",
      "buzz\n",
      "96\n",
      "97\n",
      "98\n",
      "99\n",
      "buzz\n"
     ]
    }
   ],
   "source": [
    "fizzbuzz = []\n",
    "\n",
    "for i in range(1,101):\n",
    "    entry = ''\n",
    "    if i%3 == 0:\n",
    "        entry += \"fizz\"\n",
    "    if i%5 == 0:\n",
    "        entry += \"buzz\"\n",
    "    else: #if i%3 != 0 and i%5 != 0:\n",
    "        entry = i\n",
    "\n",
    "    fizzbuzz.append(entry)\n",
    "\n",
    "for i in fizzbuzz:\n",
    "    print(i)"
   ]
  },
  {
   "cell_type": "markdown",
   "metadata": {},
   "source": [
    ">**Hint:** If you are having trouble, start by writing code that will print all the numbers 1 to 100 one per line, and then try to modify that code so that it prints Fizz instead of multiples of 3. Then modify you code to print Buzz instead of multiples of 5. Finally, modify it so that it prints the correct output."
   ]
  },
  {
   "cell_type": "markdown",
   "metadata": {},
   "source": [
    ">**Hint:** To test if the variable n is a multiple of 3, you can use this code: <code>(n % 3) == 0</code>. The code <code>n % 3 </code> is n modulo 3 (clock arithmetic). And so if n is zero modulo 3, it gives 0 remainder on division by three and that means it’s a multiple of 3. You can use that code like this: <code>if (n % 3) == 0: do_stuff </code>. Here, <code>do_stuff</code> will be executed if and only if n is a multiple of 3."
   ]
  },
  {
   "cell_type": "markdown",
   "metadata": {},
   "source": [
    "### Problem 2. Library with File I/O"
   ]
  },
  {
   "cell_type": "markdown",
   "metadata": {},
   "source": [
    ">In this problem, you are given a list of student names and library fees of the form\n",
    "in a file and your task is to write some Python code to process it.\n",
    "Make sure you download [library_data.txt](http://www.cs.ucl.ac.uk/scipython/resources/library_data.txt) from the website and put it in the same folder as your iPython notebook. The file looks like this:"
   ]
  },
  {
   "cell_type": "raw",
   "metadata": {},
   "source": [
    "123456 John Doe 1.49\n",
    "312314 Jane Miller 0.00\n",
    "031337 Ted Johnson 8.12"
   ]
  },
  {
   "cell_type": "markdown",
   "metadata": {},
   "source": [
    ">**(a)** Write a function that contains a for-loop that iterates over each line of the file one after the other."
   ]
  },
  {
   "cell_type": "code",
   "execution_count": 2,
   "metadata": {
    "collapsed": false
   },
   "outputs": [
    {
     "name": "stdout",
     "output_type": "stream",
     "text": [
      "123456 John Doe 1.49\n",
      "\n",
      "312314 Jane Miller 0.00\n",
      "\n",
      "531337 Ted Johnson 8.12\n",
      "\n",
      "273263 Johnny Depp 0.0\n",
      "\n",
      "102931 Fred Asteir 1.20\n",
      "\n",
      "391273 Sarah Connor 10.39\n",
      "\n"
     ]
    }
   ],
   "source": [
    "with open(\"library_data.txt\", \"r\") as infile:  #infile is just a list name, and can be anything, it's not a function\n",
    "    for line in infile:\n",
    "        print(line)"
   ]
  },
  {
   "cell_type": "markdown",
   "metadata": {},
   "source": [
    ">**(b)** Write a function to create two lists: one that contains only the first column (the student number) and one that contains only the remaining information (the name and the amount of money owed to the library). You can assume that the student numbers are always 6 numbers long."
   ]
  },
  {
   "cell_type": "code",
   "execution_count": 3,
   "metadata": {
    "collapsed": false
   },
   "outputs": [
    {
     "name": "stdout",
     "output_type": "stream",
     "text": [
      "['123456', '312314', '531337', '273263', '102931', '391273']\n",
      "['John Doe 1.49', 'Jane Miller 0.00', 'Ted Johnson 8.12', 'Johnny Depp 0.0', 'Fred Asteir 1.20', 'Sarah Connor 10.39']\n"
     ]
    }
   ],
   "source": [
    "ls1=[]\n",
    "ls2=[]\n",
    "with open(\"library_data.txt\", \"r\") as infile:  #infile is just a list name, and can be anything, it's not a function\n",
    "    for line in infile:\n",
    "        ls1.append(line[0:6])\n",
    "print(ls1)\n",
    "\n",
    "with open(\"library_data.txt\", \"r\") as infile:  #infile is just a list name, and can be anything, it's not a function\n",
    "    for line in infile:\n",
    "        ls2.append(line[7:(len(line))].rstrip())\n",
    "\n",
    "print(ls2)"
   ]
  },
  {
   "cell_type": "markdown",
   "metadata": {},
   "source": [
    ">**(c)** Write a function that splits the second list futher into two lists, one that contains the name and one that contains the amount owed (as a float). You should use the string method <code>split</code> to split a string into a list of smaller strings (read the help for this function if needed)."
   ]
  },
  {
   "cell_type": "code",
   "execution_count": 4,
   "metadata": {
    "collapsed": false
   },
   "outputs": [
    {
     "name": "stdout",
     "output_type": "stream",
     "text": [
      "[['John', 'Doe', '1.49'], ['Jane', 'Miller', '0.00'], ['Ted', 'Johnson', '8.12'], ['Johnny', 'Depp', '0.0'], ['Fred', 'Asteir', '1.20'], ['Sarah', 'Connor', '10.39']]\n",
      "['John Doe', 'Jane Miller', 'Ted Johnson', 'Johnny Depp', 'Fred Asteir', 'Sarah Connor']\n",
      "[1.49, 0.0, 8.12, 0.0, 1.2, 10.39]\n"
     ]
    }
   ],
   "source": [
    "ls2=[]\n",
    "ls3=[]\n",
    "with open(\"library_data.txt\", \"r\") as infile:  #infile is just a list name, and can be anything, it's not a function\n",
    "    for line in infile:\n",
    "        ls2.append(line[7:(len(line))].rstrip())\n",
    "\n",
    "for n in ls2:\n",
    "    ls3.append(n.split())\n",
    "\n",
    "ls_names=[]\n",
    "ls_fee=[]\n",
    "\n",
    "for forname, surname, fee in ls3:\n",
    "    ls_names.append(forname + ' ' + surname)\n",
    "    ls_fee.append(float(fee))\n",
    "    \n",
    "\n",
    "print(ls3)\n",
    "print(ls_names)\n",
    "print(ls_fee)\n"
   ]
  },
  {
   "cell_type": "markdown",
   "metadata": {},
   "source": [
    ">**(d)** Write a function that determines the name and student number of the person that owes the largest amount of money. Write some more code that determines the student numbers of all people that owe money (i.e. where the amount is not 0.00)."
   ]
  },
  {
   "cell_type": "code",
   "execution_count": 11,
   "metadata": {
    "collapsed": false
   },
   "outputs": [
    {
     "name": "stdout",
     "output_type": "stream",
     "text": [
      "['Ted', 'Johnson', '8.12']\n",
      "('John', 'Doe', '1.49')\n",
      "('Ted', 'Johnson', '8.12')\n",
      "('Fred', 'Asteir', '1.20')\n",
      "('Sarah', 'Connor', '10.39')\n"
     ]
    }
   ],
   "source": [
    "    \n",
    "print(max(ls3))\n",
    "\n",
    "fee_rep = []\n",
    "for forname, surname, fee in ls3:\n",
    "     if float(fee) > 0.00:\n",
    "        print(forname, surname, fee)\n",
    "        "
   ]
  },
  {
   "cell_type": "markdown",
   "metadata": {},
   "source": [
    ">**(e)** We will now write our results to a new file. Write some code that lets the user enter a file name, create this file and write the list of people that owe money to it (e.g. one student per line, with how much they owe as well)."
   ]
  },
  {
   "cell_type": "code",
   "execution_count": 31,
   "metadata": {
    "collapsed": false
   },
   "outputs": [
    {
     "name": "stdout",
     "output_type": "stream",
     "text": [
      "fees_rep\n"
     ]
    }
   ],
   "source": [
    "file_name = raw_input()\n",
    "\n",
    "f = open(\"%s.txt\" %file_name, \"w\")\n",
    "    \n",
    "for forname, surname, fee in ls3:\n",
    "    if float(fee) > 0.00:\n",
    "        f.write('%s\\t\\n' %[forname,surname, fee])\n",
    "        #f.write('%s\\t'.join(''.join(map(str, x)) for x in [forname,surname, fee]))\n",
    "f.close()\n",
    "\n"
   ]
  },
  {
   "cell_type": "markdown",
   "metadata": {},
   "source": [
    "### Problem 3. FizzBuzz (applied science version)"
   ]
  },
  {
   "cell_type": "markdown",
   "metadata": {},
   "source": [
    ">Imagine that you are doing a psychology experiment in which your colleague records the response time of participants presented with some task. There are two task conditions: condition A and condition B. There are n participants, and they each do the task with condition A and then with condition B. The instrument your colleague uses to record response times puts the re- sponse time of each task into one long text file called response_time.txt (which you can get [here](http://www.cs.ucl.ac.uk/scipython/resources/response_time.txt)) and your colleague emails you this file: The first line of the file is the re- sponse time of the first participant doing the task with condition A, the second line is the response time of the first participant with condition B, the third line is the response time of the second participant doing the task with condition A, and so on."
   ]
  },
  {
   "cell_type": "markdown",
   "metadata": {},
   "source": [
    ">**(a)** Download [response_time.txt here]((http://www.cs.ucl.ac.uk/scipython/resources/response_time.txt) and then write a program which prints the mean response time of all participants for task A followed by the mean response time for all participants for task B. The output of your program should look like this:"
   ]
  },
  {
   "cell_type": "raw",
   "metadata": {},
   "source": [
    "4.98704579795\n",
    "3.104619569"
   ]
  },
  {
   "cell_type": "markdown",
   "metadata": {},
   "source": [
    ">**Hint:** Hint: any appropriately indented code following <code> if (n % 2) == 0: </code> will only be executed if n is even."
   ]
  },
  {
   "cell_type": "code",
   "execution_count": 95,
   "metadata": {
    "collapsed": false
   },
   "outputs": [
    {
     "name": "stdout",
     "output_type": "stream",
     "text": [
      "4.98704579795\n",
      "3.104619569\n"
     ]
    }
   ],
   "source": [
    "first_rep = []\n",
    "second_rep = []\n",
    "\n",
    "with open(\"response_time.txt\", \"r\") as infile:  #infile is just a list name, and can be anything, it's not a function\n",
    "    for index, line in enumerate(infile):\n",
    "        if index % 2 == 0:\n",
    "            #print (line)\n",
    "            first_rep.append(float(line))\n",
    "        else:\n",
    "            #print ('Second')\n",
    "            second_rep.append(float(line))\n",
    "            \n",
    "\n",
    "print (sum(first_rep) / len(first_rep))\n",
    "print (sum(second_rep) / len(second_rep))\n",
    "\n",
    "        "
   ]
  },
  {
   "cell_type": "markdown",
   "metadata": {},
   "source": [
    ">**(b)** Extend your script so that it displays a box plot of the response times of the participants for the two conditions. If you create two lists, called condition_A and condition_B, containing the response times for conditions A and B respectively, then this code will work: <code> boxplot([condition_A, condition_B]) </code>."
   ]
  },
  {
   "cell_type": "code",
   "execution_count": 115,
   "metadata": {
    "collapsed": false
   },
   "outputs": [
    {
     "ename": "ImportError",
     "evalue": "No module named Plotly",
     "output_type": "error",
     "traceback": [
      "\u001b[1;31m---------------------------------------------------------------------------\u001b[0m",
      "\u001b[1;31mImportError\u001b[0m                               Traceback (most recent call last)",
      "\u001b[1;32m<ipython-input-115-2184d96ac1ab>\u001b[0m in \u001b[0;36m<module>\u001b[1;34m()\u001b[0m\n\u001b[1;32m----> 1\u001b[1;33m \u001b[1;32mimport\u001b[0m \u001b[0mPlotly\u001b[0m\u001b[1;33m\u001b[0m\u001b[0m\n\u001b[0m",
      "\u001b[1;31mImportError\u001b[0m: No module named Plotly"
     ]
    }
   ],
   "source": [
    "import Plotly"
   ]
  },
  {
   "cell_type": "code",
   "execution_count": 113,
   "metadata": {
    "collapsed": false
   },
   "outputs": [
    {
     "ename": "AttributeError",
     "evalue": "'module' object has no attribute 'boxplot'",
     "output_type": "error",
     "traceback": [
      "\u001b[1;31m---------------------------------------------------------------------------\u001b[0m",
      "\u001b[1;31mAttributeError\u001b[0m                            Traceback (most recent call last)",
      "\u001b[1;32m<ipython-input-113-978f77b723ac>\u001b[0m in \u001b[0;36m<module>\u001b[1;34m()\u001b[0m\n\u001b[1;32m----> 1\u001b[1;33m \u001b[0mmath\u001b[0m\u001b[1;33m.\u001b[0m\u001b[0mboxplot\u001b[0m\u001b[1;33m(\u001b[0m\u001b[0mfirst_rep\u001b[0m\u001b[1;33m,\u001b[0m \u001b[0msecond_rep\u001b[0m\u001b[1;33m)\u001b[0m\u001b[1;33m\u001b[0m\u001b[0m\n\u001b[0m",
      "\u001b[1;31mAttributeError\u001b[0m: 'module' object has no attribute 'boxplot'"
     ]
    }
   ],
   "source": [
    "matplotlib.boxplot(first_rep, second_rep)"
   ]
  },
  {
   "cell_type": "markdown",
   "metadata": {},
   "source": [
    "### Problem 4. Who’s the winner?"
   ]
  },
  {
   "cell_type": "markdown",
   "metadata": {},
   "source": [
    "The London elections are around the corner and you have been tasked with writing the code that determines the winner given all the ballots. The winner is determined as follows:\n",
    "\n",
    "- From the list of candidates (which we will for simplicity number $0,1,2,...$ ), every voter gets to select his first and his second choice. The data you are given can thus be represented as a list of lists:"
   ]
  },
  {
   "cell_type": "raw",
   "metadata": {},
   "source": [
    "[ [1st_choice_voter_1, 2nd_choice_voter_1], [1st_choice_voter_2,\n",
    "   2nd_choice_voter_2], ...]"
   ]
  },
  {
   "cell_type": "markdown",
   "metadata": {},
   "source": [
    "* If any of the candidates gets more than 50% of the first votes, he is declared the winner.  \n",
    "\n",
    "\n",
    "* If no candidate achieves this absolute majority, the two candidates with the most first votes enter into a second round, all others are eliminated.  \n",
    "\n",
    "\n",
    "* In the second round, all ballots with first votes for candidates that did not enter the second round are re-examined, and any second choice votes for the top two candidates are added to their scores.  \n",
    "\n",
    "\n",
    "* The candidate with the highest number of combined first and second choice votes is the winner.  "
   ]
  },
  {
   "cell_type": "markdown",
   "metadata": {},
   "source": [
    ">**(a)** Download the file [votes.pickle](http://www.cs.ucl.ac.uk/scipython/resources/votes.pickle) from the course website. It contains the data and than use this skeleton code to get started:"
   ]
  },
  {
   "cell_type": "code",
   "execution_count": 120,
   "metadata": {
    "collapsed": false
   },
   "outputs": [
    {
     "ename": "IOError",
     "evalue": "[Errno 2] No such file or directory: 'votes.pickle'",
     "output_type": "error",
     "traceback": [
      "\u001b[1;31m---------------------------------------------------------------------------\u001b[0m",
      "\u001b[1;31mIOError\u001b[0m                                   Traceback (most recent call last)",
      "\u001b[1;32m<ipython-input-120-4399b4ecf351>\u001b[0m in \u001b[0;36m<module>\u001b[1;34m()\u001b[0m\n\u001b[0;32m      1\u001b[0m \u001b[1;32mfrom\u001b[0m \u001b[0mcPickle\u001b[0m \u001b[1;32mimport\u001b[0m \u001b[1;33m*\u001b[0m\u001b[1;33m\u001b[0m\u001b[0m\n\u001b[0;32m      2\u001b[0m \u001b[1;33m\u001b[0m\u001b[0m\n\u001b[1;32m----> 3\u001b[1;33m \u001b[0mvotes\u001b[0m \u001b[1;33m=\u001b[0m \u001b[0mload\u001b[0m\u001b[1;33m(\u001b[0m\u001b[0mopen\u001b[0m\u001b[1;33m(\u001b[0m\u001b[1;34m\"votes.pickle\"\u001b[0m\u001b[1;33m,\u001b[0m\u001b[1;34m\"rb\"\u001b[0m\u001b[1;33m)\u001b[0m\u001b[1;33m)\u001b[0m\u001b[1;33m\u001b[0m\u001b[0m\n\u001b[0m\u001b[0;32m      4\u001b[0m \u001b[1;33m\u001b[0m\u001b[0m\n\u001b[0;32m      5\u001b[0m \u001b[0mnum_candidates\u001b[0m \u001b[1;33m=\u001b[0m \u001b[1;36m6\u001b[0m\u001b[1;33m\u001b[0m\u001b[0m\n",
      "\u001b[1;31mIOError\u001b[0m: [Errno 2] No such file or directory: 'votes.pickle'"
     ]
    }
   ],
   "source": [
    "from cPickle import *\n",
    "\n",
    "votes = load(open(\"votes.pickle\",\"rb\"))\n",
    "\n",
    "num_candidates = 6\n",
    "\n",
    "# create a list to store the number of votes per candidate\n",
    "first_votes = [0] * num_candidates\n",
    "\n",
    "# go through the list of votes and add up the first votes per candidate\n",
    "\n",
    "for candidates in votes:\n",
    "    sum(first_votes)\n",
    "\n",
    "print first_votes\n",
    "\n",
    "# in the first round, if any candidate has > 50% of the votes, he wins\n",
    "\n",
    "### YOUR CODE HERE ###\n",
    "\n",
    "#print \"We have a winner! Candidate \" + str(i) + \" with \" + str(first_votes[i]/float(len(votes))) + \"%\"\n",
    "\n",
    "\n",
    "# For the elimination round, we need to find the two candidates with the most\n",
    "# first votes.\n",
    "# The code below does just that: It returns a tuple of the indices of the \n",
    "# top two candidates. Don't worry if you don't understand how this works yet --\n",
    "# we will see a much simpler and more elegant way to achieve the same later in the course.\n",
    "elimination_candidates  = zip(*sorted(zip(first_votes, range(len(first_votes))))[-2:])[1]\n",
    "\n",
    "# make a copy so we can add votes\n",
    "second_votes = first_votes[:]\n",
    "\n",
    "# add second votes to first votes for remaining candidates\n",
    "second_votes.append = second_votes\n",
    "\n",
    "print second_votes\n",
    "\n",
    "# find and display the winner\n",
    "# you can either try to adapt the code used to find the top two candidates above, \n",
    "# or simply use another for loop\n",
    "\n",
    "### YOUR CODE HERE ###\n",
    "\n",
    "winner = 0 # fill in ...\n",
    "print \"We have a winner! Candidate \" + str(winner) + \" with \" + str(second_votes[winner]) + \" votes\"\n",
    "\n"
   ]
  },
  {
   "cell_type": "markdown",
   "metadata": {},
   "source": [
    ">**(b)** Fill in the code required to count the first votes and to dermine the possible first-round winner. You should find that, sadly, in the given data set no candidate wins in the first round."
   ]
  },
  {
   "cell_type": "markdown",
   "metadata": {},
   "source": [
    ">**(c)** Implement the second round process described above. If you do this correctly, you should find that candidate 2 wins with 45619 votes. There are some hints in the skeleton above to get you started"
   ]
  },
  {
   "cell_type": "markdown",
   "metadata": {},
   "source": [
    "### Problem 5. Text processing for Alice in Wonderland"
   ]
  },
  {
   "cell_type": "markdown",
   "metadata": {},
   "source": [
    ">The following code will create a file called alice.txt that contains the text of Alice in Wonderland. The code below will create the file in iPython’s current directory. This is the same as going to the webiste http://www.guttenberg.org/, finding the .txt file for Alice in Wonderland, and clicking *File* and then *Save as* and entering ‘alice.txt’ into the save dialog of your browser. The advantage of knowing how to do this in python is that you can then write a script to automatically download the data that you need for an experiment, which will save you time when there are a lot of files."
   ]
  },
  {
   "cell_type": "code",
   "execution_count": null,
   "metadata": {
    "collapsed": false
   },
   "outputs": [],
   "source": [
    "import urllib2\n",
    "URL = \"http://www.gutenberg.org/files/11/11.txt\"\n",
    "# Local URL on UCL webserver\n",
    "URL = \"http://www.cs.ucl.ac.uk/scipython/resources/alice.txt\"\n",
    "f = urllib2.urlopen(URL)\n",
    "open(\"alice.txt\",\"w\").write(f.read())"
   ]
  },
  {
   "cell_type": "markdown",
   "metadata": {},
   "source": [
    ">**(a)** Open up the file ‘alice.txt’ in Sublime Text 2 (or the text editor of your choice). There might be some text at the beginning or the end that isn’t part of Alice in Wonderland. Delete it and then save the file again."
   ]
  },
  {
   "cell_type": "markdown",
   "metadata": {},
   "source": [
    ">**(b)** The following code will count the number of words in Alice in Wonderland. Change the code so that it prints out the number of times the word Alice appears."
   ]
  },
  {
   "cell_type": "code",
   "execution_count": null,
   "metadata": {
    "collapsed": false
   },
   "outputs": [],
   "source": [
    "f = open(\"alice.txt\", \"r\")\n",
    "num_words = 0\n",
    "\n",
    "for line in f.readlines():\n",
    "    for word in line.strip().split():\n",
    "        num_words += 1 \n",
    "\n",
    "print num_words"
   ]
  },
  {
   "cell_type": "markdown",
   "metadata": {},
   "source": [
    "We will revisit this exercise later when dictionaries have been introduced to analyse the frequency of all words!"
   ]
  },
  {
   "cell_type": "markdown",
   "metadata": {},
   "source": [
    "### Problem 6. Cryptograms"
   ]
  },
  {
   "cell_type": "markdown",
   "metadata": {},
   "source": [
    ">The code below ‘encrypts’ some text by rotating the alphabet by a given amount:"
   ]
  },
  {
   "cell_type": "code",
   "execution_count": 119,
   "metadata": {
    "collapsed": false
   },
   "outputs": [
    {
     "name": "stdout",
     "output_type": "stream",
     "text": [
      "What amount do you want to rotate by? 3\n",
      "Enter text to be rotated.\n",
      "Enter \"EOF\" on a line on it's own when you are done.\n",
      "This is not the right one\n",
      "WKLV LV QRW WKH ULJKW RQH\n",
      "-3\n",
      "-3\n",
      "\n",
      "\n",
      "break\n",
      "EUHDN\n",
      "EOF\n"
     ]
    }
   ],
   "source": [
    "amount = int(raw_input('What amount do you want to rotate by? '))\n",
    "\n",
    "print 'Enter text to be rotated.'\n",
    "print 'Enter \"EOF\" on a line on it\\'s own when you are done.'\n",
    "\n",
    "A_value = ord('A')\n",
    "Z_value = ord('Z')\n",
    "\n",
    "while True:\n",
    "  input_line = raw_input()\n",
    "  if input_line == 'EOF':\n",
    "    break\n",
    "\n",
    "  output_line = ''\n",
    "\n",
    "  for c in input_line:\n",
    "    if c.isalpha():\n",
    "      c = c.upper()\n",
    "      value = ord(c)\n",
    "      value = value + amount\n",
    "      if value > Z_value:\n",
    "        value = A_value + (value - Z_value) - 1\n",
    "\n",
    "      elif value < A_value:\n",
    "        value = Z_value - (A_value - value) + 1\n",
    "\n",
    "      c = chr(value)\n",
    "\n",
    "    output_line += c\n",
    "\n",
    "  print output_line"
   ]
  },
  {
   "cell_type": "markdown",
   "metadata": {},
   "source": [
    ">**(a)** If you encrypt some text by rotating some amount, what amount do you need to rotate by to decrypt it?"
   ]
  },
  {
   "cell_type": "code",
   "execution_count": null,
   "metadata": {
    "collapsed": true
   },
   "outputs": [],
   "source": []
  },
  {
   "cell_type": "markdown",
   "metadata": {},
   "source": [
    ">**(b)** Encrypt some text and email it to the person next to you. Tell them what amount you rotated by so they can decrypt it."
   ]
  },
  {
   "cell_type": "markdown",
   "metadata": {},
   "source": [
    ">**(c)** Figure out what <code>ord</code> and <code>chr</code> do"
   ]
  },
  {
   "cell_type": "markdown",
   "metadata": {},
   "source": [
    ">**(d)** Do you understand the bit where it wraps around by checking if it’s moved past ‘A’ or ‘Z’?"
   ]
  },
  {
   "cell_type": "markdown",
   "metadata": {},
   "source": [
    ">**(e)** What does this part of the code do:"
   ]
  },
  {
   "cell_type": "code",
   "execution_count": null,
   "metadata": {
    "collapsed": false
   },
   "outputs": [],
   "source": [
    "while True:\n",
    "    input_line = raw_input()\n",
    "    if input_line == \"EOF\":\n",
    "        break"
   ]
  },
  {
   "cell_type": "markdown",
   "metadata": {},
   "source": [
    ">**(f)** You should notice that our program converts lower case to upper case letters as a side effect as it rotates. Change it so that it doesn’t convert lower case to upper case (instead preserving the case of the letters) but still rotates them."
   ]
  },
  {
   "cell_type": "code",
   "execution_count": null,
   "metadata": {
    "collapsed": false
   },
   "outputs": [],
   "source": []
  }
 ],
 "metadata": {
  "kernelspec": {
   "display_name": "Python 2",
   "language": "python",
   "name": "python2"
  },
  "language_info": {
   "codemirror_mode": {
    "name": "ipython",
    "version": 2
   },
   "file_extension": ".py",
   "mimetype": "text/x-python",
   "name": "python",
   "nbconvert_exporter": "python",
   "pygments_lexer": "ipython2",
   "version": "2.7.11"
  }
 },
 "nbformat": 4,
 "nbformat_minor": 0
}
