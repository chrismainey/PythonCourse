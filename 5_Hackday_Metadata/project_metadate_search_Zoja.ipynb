{
 "cells": [
  {
   "cell_type": "code",
   "execution_count": 14,
   "metadata": {
    "collapsed": true
   },
   "outputs": [],
   "source": [
    "import urllib2\n",
    "import requests\n",
    "\n",
    "URL = \"http://eutils.ncbi.nlm.nih.gov/entrez/eutils/esearch.fcgi?db=pubmed&retmode=json&retmax=20&sort=relevance&term=[fever%20heat]\"\n",
    "# Local URL on UCL webserver\n",
    "\n",
    "#\n",
    "\n",
    "#open(\"Test.txt\",\"w\").write(f.read())"
   ]
  },
  {
   "cell_type": "code",
   "execution_count": 15,
   "metadata": {
    "collapsed": true
   },
   "outputs": [],
   "source": [
    "#atm just search for restricted number of 20 publocation\n",
    "def search_pub(terms):\n",
    "    URL = \"http://eutils.ncbi.nlm.nih.gov/entrez/eutils/esearch.fcgi?db=pubmed&retmode=json&retmax=20&sort=relevance&term=[\"+terms+\"]\"\n",
    "        f = requests.get(URL)\n",
    "    return f"
   ]
  },
  {
   "cell_type": "code",
   "execution_count": 16,
   "metadata": {
    "collapsed": false
   },
   "outputs": [],
   "source": [
    "x = search_pub(\"mass\")"
   ]
  },
  {
   "cell_type": "code",
   "execution_count": 17,
   "metadata": {
    "collapsed": false
   },
   "outputs": [
    {
     "name": "stdout",
     "output_type": "stream",
     "text": [
      "<Response [200]>\n"
     ]
    }
   ],
   "source": [
    "print x #need a response "
   ]
  },
  {
   "cell_type": "code",
   "execution_count": 19,
   "metadata": {
    "collapsed": false
   },
   "outputs": [],
   "source": [
    "y = x.json() # to return in in a certain format"
   ]
  },
  {
   "cell_type": "code",
   "execution_count": 20,
   "metadata": {
    "collapsed": false
   },
   "outputs": [
    {
     "name": "stdout",
     "output_type": "stream",
     "text": [
      "{u'header': {u'version': u'0.3', u'type': u'esearch'}, u'esearchresult': {u'count': u'1116707', u'retmax': u'20', u'idlist': [u'25103690', u'26665407', u'25701653', u'26576621', u'26572050', u'25263766', u'23963826', u'26369227', u'24997927', u'25732588', u'24473239', u'25808152', u'25106092', u'25362811', u'25664891', u'25603345', u'25069387', u'25160949', u'25325948', u'26350236'], u'translationstack': [{u'count': u'147718', u'field': u'MeSH Terms', u'term': u'\"molecular weight\"[MeSH Terms]', u'explode': u'Y'}, {u'count': u'2373379', u'field': u'All Fields', u'term': u'\"molecular\"[All Fields]', u'explode': u'N'}, {u'count': u'893502', u'field': u'All Fields', u'term': u'\"weight\"[All Fields]', u'explode': u'N'}, u'AND', u'GROUP', u'OR', {u'count': u'244568', u'field': u'All Fields', u'term': u'\"molecular weight\"[All Fields]', u'explode': u'N'}, u'OR', {u'count': u'879842', u'field': u'All Fields', u'term': u'\"mass\"[All Fields]', u'explode': u'N'}, u'OR', u'GROUP'], u'translationset': [{u'to': u'\"molecular weight\"[MeSH Terms] OR (\"molecular\"[All Fields] AND \"weight\"[All Fields]) OR \"molecular weight\"[All Fields] OR \"mass\"[All Fields]', u'from': u'mass'}], u'retstart': u'0', u'querytranslation': u'\"molecular weight\"[MeSH Terms] OR (\"molecular\"[All Fields] AND \"weight\"[All Fields]) OR \"molecular weight\"[All Fields] OR \"mass\"[All Fields]'}}\n"
     ]
    }
   ],
   "source": [
    "print y"
   ]
  },
  {
   "cell_type": "code",
   "execution_count": 21,
   "metadata": {
    "collapsed": false
   },
   "outputs": [
    {
     "data": {
      "text/plain": [
       "[u'header', u'esearchresult']"
      ]
     },
     "execution_count": 21,
     "metadata": {},
     "output_type": "execute_result"
    }
   ],
   "source": [
    "y.keys()"
   ]
  },
  {
   "cell_type": "code",
   "execution_count": 23,
   "metadata": {
    "collapsed": false
   },
   "outputs": [
    {
     "data": {
      "text/plain": [
       "[u'count',\n",
       " u'retmax',\n",
       " u'idlist',\n",
       " u'translationstack',\n",
       " u'translationset',\n",
       " u'retstart',\n",
       " u'querytranslation']"
      ]
     },
     "execution_count": 23,
     "metadata": {},
     "output_type": "execute_result"
    }
   ],
   "source": [
    "y['esearchresult'].keys()"
   ]
  },
  {
   "cell_type": "code",
   "execution_count": 26,
   "metadata": {
    "collapsed": false
   },
   "outputs": [
    {
     "name": "stdout",
     "output_type": "stream",
     "text": [
      "[u'25103690', u'26665407', u'25701653', u'26576621', u'26572050', u'25263766', u'23963826', u'26369227', u'24997927', u'25732588', u'24473239', u'25808152', u'25106092', u'25362811', u'25664891', u'25603345', u'25069387', u'25160949', u'25325948', u'26350236']\n"
     ]
    }
   ],
   "source": [
    "ids = y['esearchresult']['idlist']\n",
    "print ids"
   ]
  },
  {
   "cell_type": "code",
   "execution_count": 27,
   "metadata": {
    "collapsed": false
   },
   "outputs": [
    {
     "data": {
      "text/plain": [
       "list"
      ]
     },
     "execution_count": 27,
     "metadata": {},
     "output_type": "execute_result"
    }
   ],
   "source": [
    "type(ids)"
   ]
  },
  {
   "cell_type": "code",
   "execution_count": 164,
   "metadata": {
    "collapsed": false
   },
   "outputs": [],
   "source": [
    "#convert it into a string\n",
    "#ids_str = ','.join(ids)\n",
    "#print ids_str"
   ]
  },
  {
   "cell_type": "code",
   "execution_count": 157,
   "metadata": {
    "collapsed": false
   },
   "outputs": [],
   "source": [
    "\n",
    "\n",
    "#use ids to access separate papers to get a list of papers containing list of words\n",
    "#from xml.etree import ElementTree as ET\n",
    "\n",
    "#def get_list(ids_str):\n",
    " #   URL2 = 'http://eutils.ncbi.nlm.nih.gov/entrez/eutils/efetch.fcgi?db=pubmed&retmode=xml&id='+ids_str\n",
    "    #print URL2\n",
    "#    f2 = requests.get(URL2)\n",
    "#    tree = ET.fromstring(f2.content)\n",
    "#    return f2"
   ]
  },
  {
   "cell_type": "code",
   "execution_count": 45,
   "metadata": {
    "collapsed": false
   },
   "outputs": [],
   "source": [
    "#to get a content structure we added it to\n",
    "#a = get_list(ids_str)\n",
    "#a.content"
   ]
  },
  {
   "cell_type": "code",
   "execution_count": 64,
   "metadata": {
    "collapsed": false
   },
   "outputs": [],
   "source": []
  },
  {
   "cell_type": "code",
   "execution_count": 136,
   "metadata": {
    "collapsed": false
   },
   "outputs": [
    {
     "name": "stdout",
     "output_type": "stream",
     "text": [
      "http://eutils.ncbi.nlm.nih.gov/entrez/eutils/efetch.fcgi?db=pubmed&retmode=xml&id=25103690\n"
     ]
    }
   ],
   "source": [
    "#a = get_list(ids[0]) #get it for the 1st article "
   ]
  },
  {
   "cell_type": "code",
   "execution_count": null,
   "metadata": {
    "collapsed": true
   },
   "outputs": [],
   "source": []
  },
  {
   "cell_type": "code",
   "execution_count": 67,
   "metadata": {
    "collapsed": false
   },
   "outputs": [],
   "source": [
    "#root = ET.fromstring(a.content)"
   ]
  },
  {
   "cell_type": "code",
   "execution_count": 76,
   "metadata": {
    "collapsed": false
   },
   "outputs": [],
   "source": [
    "#print root"
   ]
  },
  {
   "cell_type": "code",
   "execution_count": 77,
   "metadata": {
    "collapsed": false
   },
   "outputs": [],
   "source": [
    "#to split "
   ]
  },
  {
   "cell_type": "code",
   "execution_count": 137,
   "metadata": {
    "collapsed": false
   },
   "outputs": [],
   "source": [
    "#print tree"
   ]
  },
  {
   "cell_type": "code",
   "execution_count": 138,
   "metadata": {
    "collapsed": false
   },
   "outputs": [],
   "source": [
    "#print a.content #to see levels"
   ]
  },
  {
   "cell_type": "code",
   "execution_count": 139,
   "metadata": {
    "collapsed": false
   },
   "outputs": [],
   "source": [
    "#tree[3][0][3][1].text # Article title export as text"
   ]
  },
  {
   "cell_type": "code",
   "execution_count": 140,
   "metadata": {
    "collapsed": false
   },
   "outputs": [],
   "source": [
    "#tree[0][0][3][4][1].text #article abstract export as text"
   ]
  },
  {
   "cell_type": "code",
   "execution_count": 165,
   "metadata": {
    "collapsed": true
   },
   "outputs": [],
   "source": [
    "from lxml import etree"
   ]
  },
  {
   "cell_type": "code",
   "execution_count": 160,
   "metadata": {
    "collapsed": false
   },
   "outputs": [],
   "source": [
    "def get_list(ids_str):\n",
    "    URL2 = 'http://eutils.ncbi.nlm.nih.gov/entrez/eutils/efetch.fcgi?db=pubmed&retmode=xml&id='+ids_str\n",
    "    #print URL2\n",
    "    f2 = requests.get(URL2)\n",
    "    tree = etree.fromstring(f2.content)\n",
    "    return tree\n"
   ]
  },
  {
   "cell_type": "code",
   "execution_count": 141,
   "metadata": {
    "collapsed": false
   },
   "outputs": [
    {
     "name": "stdout",
     "output_type": "stream",
     "text": [
      "http://eutils.ncbi.nlm.nih.gov/entrez/eutils/efetch.fcgi?db=pubmed&retmode=xml&id=25103690\n"
     ]
    }
   ],
   "source": [
    "A = get_list(ids[0]) # to just get it for 1st article"
   ]
  },
  {
   "cell_type": "code",
   "execution_count": 142,
   "metadata": {
    "collapsed": false
   },
   "outputs": [],
   "source": [
    "abstract = ' '.join(A.xpath('//PubmedArticle/MedlineCitation/Article/Abstract/AbstractText/text()'))"
   ]
  },
  {
   "cell_type": "code",
   "execution_count": 143,
   "metadata": {
    "collapsed": false
   },
   "outputs": [],
   "source": [
    "year = ' '.join(A.xpath('//PubmedArticle/MedlineCitation/Article/Journal/JournalIssue/PubDate/Year/text()'))"
   ]
  },
  {
   "cell_type": "code",
   "execution_count": 144,
   "metadata": {
    "collapsed": true
   },
   "outputs": [],
   "source": [
    "title = ' '.join(A.xpath('//PubmedArticle/MedlineCitation/Article/ArticleTitle/text()'))"
   ]
  },
  {
   "cell_type": "code",
   "execution_count": 145,
   "metadata": {
    "collapsed": false
   },
   "outputs": [],
   "source": [
    "keywords = (' '.join(A.xpath('//PubmedArticle/MedlineCitation/KeywordList/Keyword/text()'))).lstrip()\n",
    "#A.xpath('//PubmedArticle/MedlineCitation/KeywordList/Keyword/text()')"
   ]
  },
  {
   "cell_type": "code",
   "execution_count": 146,
   "metadata": {
    "collapsed": false
   },
   "outputs": [
    {
     "data": {
      "text/plain": [
       "'2015'"
      ]
     },
     "execution_count": 146,
     "metadata": {},
     "output_type": "execute_result"
    }
   ],
   "source": [
    "year"
   ]
  },
  {
   "cell_type": "code",
   "execution_count": 147,
   "metadata": {
    "collapsed": false
   },
   "outputs": [
    {
     "data": {
      "text/plain": [
       "str"
      ]
     },
     "execution_count": 147,
     "metadata": {},
     "output_type": "execute_result"
    }
   ],
   "source": [
    "type(year)"
   ]
  },
  {
   "cell_type": "code",
   "execution_count": 170,
   "metadata": {
    "collapsed": false
   },
   "outputs": [],
   "source": [
    "def pubmed_parser(ids):\n",
    "    list_of_papers=list()\n",
    "    for i in ids:\n",
    "        A=get_list(i)\n",
    "        title = ' '.join(A.xpath('//PubmedArticle/MedlineCitation/Article/ArticleTitle/text()'))\n",
    "        year = ' '.join(A.xpath('//PubmedArticle/MedlineCitation/Article/Journal/JournalIssue/PubDate/Year/text()'))\n",
    "        abstract = ' '.join(A.xpath('//PubmedArticle/MedlineCitation/Article/Abstract/AbstractText/text()'))\n",
    "        keywords = (','.join(A.xpath('//PubmedArticle/MedlineCitation/KeywordList/Keyword/text()'))).lstrip()\n",
    "        dict_={'Title': title, 'Year': year, 'Abstract': abstract, 'Keywords': keywords}\n",
    "        list_of_papers.append(dict_)\n",
    "    return list_of_papers\n",
    "    "
   ]
  },
  {
   "cell_type": "code",
   "execution_count": 177,
   "metadata": {
    "collapsed": false
   },
   "outputs": [
    {
     "name": "stdout",
     "output_type": "stream",
     "text": [
      "Diospyros kaki,HPLC-DAD/ESI-MSn analysis,low-molecular-weight phenols,persimmon pulp,routine three-dimensional ion trap\n"
     ]
    }
   ],
   "source": [
    "test = pubmed_parser(ids)\n",
    "print test[0]['Keywords']"
   ]
  },
  {
   "cell_type": "code",
   "execution_count": 172,
   "metadata": {
    "collapsed": false
   },
   "outputs": [],
   "source": [
    "import pandas as pd"
   ]
  },
  {
   "cell_type": "code",
   "execution_count": 173,
   "metadata": {
    "collapsed": false
   },
   "outputs": [],
   "source": [
    "d = pd.DataFrame(test)"
   ]
  },
  {
   "cell_type": "code",
   "execution_count": 174,
   "metadata": {
    "collapsed": false
   },
   "outputs": [
    {
     "name": "stdout",
     "output_type": "stream",
     "text": [
      "                                             Abstract  \\\n",
      "0   Persimmon fruits have been widely used in trad...   \n",
      "1   Sustained release matrix pellets loaded with 5...   \n",
      "2   Low molecular weight heparins (LMWHs) are line...   \n",
      "3   While human plasma serves as a great source fo...   \n",
      "4   A method by hydrophilic interaction liquid chr...   \n",
      "5   Molecular weight degradation effects of schizo...   \n",
      "6   The present study was undertaken to examine th...   \n",
      "7   An liquid phase plasma process system was appl...   \n",
      "8   Different weathering factors act to change pet...   \n",
      "9   There has recently been increased interest in ...   \n",
      "10  This paper presents an understanding of how in...   \n",
      "11  The evaluation of weight average molecular wei...   \n",
      "12  Previous studies have shown the ability of hig...   \n",
      "13  Sustained release matrix pellets loaded with 5...   \n",
      "14  While the use of sodium dodecyl sulfate (SDS) ...   \n",
      "15  Phlorotannins are a group of complex polymers ...   \n",
      "16  Rivaroxaban is increasingly used to prevent ve...   \n",
      "17  The aqueous biphasic system (ABS) plays a key ...   \n",
      "18  Glycosaminoglycan samples are usually polydisp...   \n",
      "19  Tissue proteomics has relied heavily on two-di...   \n",
      "\n",
      "                                             Keywords  \\\n",
      "0   Diospyros kaki,HPLC-DAD/ESI-MSn analysis,low-m...   \n",
      "1                                                       \n",
      "2   Fragment profiling,Low molecular weight hepari...   \n",
      "3   biomarker,cleaved products,colorectal cancer (...   \n",
      "4   Aglaonema extracts,Hydrophilic interaction liq...   \n",
      "5   Molecular weight degradation,Rheological prope...   \n",
      "6                                                       \n",
      "7                                                       \n",
      "8   Disulfur heterocycles,Fourier transform ion cy...   \n",
      "9   Anions,High resolution mass spectrometry,Ion c...   \n",
      "10  Biodegradable polymers,End scission,Initial mo...   \n",
      "11                                                      \n",
      "12  Barley β-glucan,Energy intake,Molecular weight...   \n",
      "13                                                      \n",
      "14                                                      \n",
      "15                                                      \n",
      "16  arthroplasty,low molecular weight heparin,prop...   \n",
      "17  Aqueous biphasic system,High-speed countercurr...   \n",
      "18                                                      \n",
      "19  Capillary liquid chromatography–MS,Lipids,Low-...   \n",
      "\n",
      "                                                Title  Year  \n",
      "0   Rapid screening of low-molecular-weight phenol...  2015  \n",
      "1   EVALUATION OF DICLOFENAC SODIUM SUSTAINED RELE...        \n",
      "2   Fragment profiling of low molecular weight hep...  2015  \n",
      "3   Comprehensive Analysis of Low-Molecular-Weight...  2016  \n",
      "4   Analysis of iminosugars and other low molecula...  2015  \n",
      "5   Molecular weight degradation and rheological p...  2015  \n",
      "6   A lower serum level of middle-molecular-weight...  2014  \n",
      "7   Preparation and Characterization of Low Molecu...  2015  \n",
      "8   Weathering trend characterization of medium-mo...  2014  \n",
      "9   Organic solvent and temperature-enhanced ion c...  2015  \n",
      "10  Degradation mechanisms of bioresorbable polyes...  2014  \n",
      "11  Determination of the molecular weight of low-m...  2015  \n",
      "12  Molecular weight of barley β-glucan does not i...  2014  \n",
      "13  Evaluation of diclofenac sodium sustained rele...        \n",
      "14  Electrophoretic extraction of low molecular we...  2015  \n",
      "15  Profiling of the molecular weight and structur...  2015  \n",
      "16  Rivaroxaban vs. low molecular weight heparin f...  2014  \n",
      "17  Aqueous biphasic system based on low-molecular...  2014  \n",
      "18  Chromatographic molecular weight measurements ...  2015  \n",
      "19  Novel \"omics\" approach for study of low-abunda...  2015  \n"
     ]
    }
   ],
   "source": [
    "print d\n",
    "    "
   ]
  },
  {
   "cell_type": "code",
   "execution_count": 203,
   "metadata": {
    "collapsed": true
   },
   "outputs": [],
   "source": [
    "%matplotlib inline\n",
    "import matplotlib.pyplot as plt # it is a convention use to import it as\n",
    "import numpy as np"
   ]
  },
  {
   "cell_type": "code",
   "execution_count": 201,
   "metadata": {
    "collapsed": false
   },
   "outputs": [
    {
     "data": {
      "text/plain": [
       "0     2015\n",
       "1         \n",
       "2     2015\n",
       "3     2016\n",
       "4     2015\n",
       "5     2015\n",
       "6     2014\n",
       "7     2015\n",
       "8     2014\n",
       "9     2015\n",
       "10    2014\n",
       "11    2015\n",
       "12    2014\n",
       "13        \n",
       "14    2015\n",
       "15    2015\n",
       "16    2014\n",
       "17    2014\n",
       "18    2015\n",
       "19    2015\n",
       "Name: Year, dtype: object"
      ]
     },
     "execution_count": 201,
     "metadata": {},
     "output_type": "execute_result"
    }
   ],
   "source": [
    "d['Year']"
   ]
  },
  {
   "cell_type": "code",
   "execution_count": 199,
   "metadata": {
    "collapsed": false
   },
   "outputs": [],
   "source": [
    "#year_sort = d.groupby('Year')['Abstract'].count()\n",
    "#plt.boxplot([x,y], labels = ['x', 'y']\n",
    "count_dict={}\n",
    "for each in d['Year']:\n",
    "    if each not in count_dict:\n",
    "        count_dict[each]=1\n",
    "    else:\n",
    "        count_dict[each] +=1"
   ]
  },
  {
   "cell_type": "code",
   "execution_count": 200,
   "metadata": {
    "collapsed": false
   },
   "outputs": [
    {
     "data": {
      "text/plain": [
       "{'': 2, '2014': 6, '2015': 11, '2016': 1}"
      ]
     },
     "execution_count": 200,
     "metadata": {},
     "output_type": "execute_result"
    }
   ],
   "source": [
    "count_dict"
   ]
  },
  {
   "cell_type": "code",
   "execution_count": 204,
   "metadata": {
    "collapsed": false
   },
   "outputs": [
    {
     "data": {
      "text/plain": [
       "{'boxes': [<matplotlib.lines.Line2D at 0x7fa94413b350>],\n",
       " 'caps': [<matplotlib.lines.Line2D at 0x7fa944159290>,\n",
       "  <matplotlib.lines.Line2D at 0x7fa9441598d0>],\n",
       " 'fliers': [<matplotlib.lines.Line2D at 0x7fa9440dc590>],\n",
       " 'means': [],\n",
       " 'medians': [<matplotlib.lines.Line2D at 0x7fa944159f10>],\n",
       " 'whiskers': [<matplotlib.lines.Line2D at 0x7fa94413b550>,\n",
       "  <matplotlib.lines.Line2D at 0x7fa94413bc10>]}"
      ]
     },
     "execution_count": 204,
     "metadata": {},
     "output_type": "execute_result"
    },
    {
     "data": {
      "image/png": "[encoded data removed]",
      "text/plain": [
       "<matplotlib.figure.Figure at 0x7fa94417f690>"
      ]
     },
     "metadata": {},
     "output_type": "display_data"
    }
   ],
   "source": [
    "plt.boxplot([count_dict.values()])"
   ]
  },
  {
   "cell_type": "code",
   "execution_count": 212,
   "metadata": {
    "collapsed": false
   },
   "outputs": [],
   "source": [
    "#plt.hist([count_dict.values()], bins= 4)\n"
   ]
  },
  {
   "cell_type": "code",
   "execution_count": 214,
   "metadata": {
    "collapsed": false
   },
   "outputs": [],
   "source": [
    "#year_labels = ['missing', '2014', '2015', '2016']\n",
    "#plt.pie([count_dict.values()], labels = year_labels)"
   ]
  },
  {
   "cell_type": "code",
   "execution_count": 229,
   "metadata": {
    "collapsed": false
   },
   "outputs": [
    {
     "data": {
      "text/plain": [
       "[<matplotlib.text.Text at 0x7fa93d402050>,\n",
       " <matplotlib.text.Text at 0x7fa93d3a1c90>,\n",
       " <matplotlib.text.Text at 0x7fa93d475250>,\n",
       " <matplotlib.text.Text at 0x7fa93d4a8710>]"
      ]
     },
     "execution_count": 229,
     "metadata": {},
     "output_type": "execute_result"
    },
    {
     "data": {
      "image/png": "[encoded data removed]",
      "text/plain": [
       "<matplotlib.figure.Figure at 0x7fa93d250890>"
      ]
     },
     "metadata": {},
     "output_type": "display_data"
    }
   ],
   "source": [
    "#use bar plot\n",
    "import collections\n",
    "import numpy\n",
    "fig,ax=plt.subplots()\n",
    "ordered_dict =collections.OrderedDict(sorted(count_dict.items()))\n",
    "ax.bar(range(len(count_dict.values())),ordered_dict.values())\n",
    "\n",
    "ax.set_xticks(0.44*numpy.ones(shape=(len(count_dict.values()),))+range(len(count_dict.values())))\n",
    "ax.set_xticklabels(ordered_dict.keys())"
   ]
  },
  {
   "cell_type": "code",
   "execution_count": null,
   "metadata": {
    "collapsed": true
   },
   "outputs": [],
   "source": []
  }
 ],
 "metadata": {
  "kernelspec": {
   "display_name": "Python 2",
   "language": "python",
   "name": "python2"
  },
  "language_info": {
   "codemirror_mode": {
    "name": "ipython",
    "version": 2
   },
   "file_extension": ".py",
   "mimetype": "text/x-python",
   "name": "python",
   "nbconvert_exporter": "python",
   "pygments_lexer": "ipython2",
   "version": "2.7.11"
  }
 },
 "nbformat": 4,
 "nbformat_minor": 0
}
