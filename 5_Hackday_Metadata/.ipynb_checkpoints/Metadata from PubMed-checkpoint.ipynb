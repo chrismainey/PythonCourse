{
 "cells": [
  {
   "cell_type": "markdown",
   "metadata": {},
   "source": [
    "Use online database search to connect to pubmed"
   ]
  },
  {
   "cell_type": "code",
   "execution_count": 5,
   "metadata": {
    "collapsed": true
   },
   "outputs": [],
   "source": [
    "import urllib2\n",
    "import os\n",
    "import requests"
   ]
  },
  {
   "cell_type": "code",
   "execution_count": null,
   "metadata": {
    "collapsed": true
   },
   "outputs": [],
   "source": []
  },
  {
   "cell_type": "code",
   "execution_count": 215,
   "metadata": {
    "collapsed": false
   },
   "outputs": [],
   "source": [
    "def Search_Pub(terms):\n",
    "    #from os.path import exists\n",
    "    import requests\n",
    "    #import os\n",
    "    URL = 'http://eutils.ncbi.nlm.nih.gov/entrez/eutils/esearch.fcgi?db=pubmed&retmode=json&retmax=20&sort=relevance&term=[' + terms +']'\n",
    "    f = requests.get(URL)\n",
    "    print(f)\n",
    "    f2 = f.json()\n",
    "    print f2\n",
    "    \n",
    "      \n",
    "    str1 = ('')\n",
    "    for i in xrange(0,len(f2['esearchresult']['idlist'])-1):\n",
    "        str1 += str(f2['esearchresult']['idlist'][i] + ', ',)\n",
    "\n",
    "    print(str1[:-2])\n",
    "    return str((str1[:-2]))  #str1[0:len(str1)])\n",
    "    \n",
    "            \n"
   ]
  },
  {
   "cell_type": "code",
   "execution_count": 21,
   "metadata": {
    "collapsed": false
   },
   "outputs": [],
   "source": [
    "x=Search_Pub('fever')"
   ]
  },
  {
   "cell_type": "code",
   "execution_count": 185,
   "metadata": {
    "collapsed": false
   },
   "outputs": [
    {
     "name": "stdout",
     "output_type": "stream",
     "text": [
      "{u'header': {u'version': u'0.3', u'type': u'esearch'}, u'esearchresult': {u'count': u'175787', u'retmax': u'20', u'idlist': [u'26179160', u'26149859', u'25800617', u'26436473', u'24902928', u'26196350', u'26024659', u'25104731', u'24406312', u'24132129', u'25502509', u'25779022', u'25703012', u'25456000', u'24917213', u'25929242', u'25727281', u'25445814', u'25733261', u'25690317'], u'translationstack': [{u'count': u'37295', u'field': u'MeSH Terms', u'term': u'\"fever\"[MeSH Terms]', u'explode': u'Y'}, {u'count': u'175778', u'field': u'All Fields', u'term': u'\"fever\"[All Fields]', u'explode': u'N'}, u'OR', u'GROUP'], u'translationset': [{u'to': u'\"fever\"[MeSH Terms] OR \"fever\"[All Fields]', u'from': u'fever'}], u'retstart': u'0', u'querytranslation': u'\"fever\"[MeSH Terms] OR \"fever\"[All Fields]'}}\n"
     ]
    }
   ],
   "source": [
    "pub_med_dict=x.json()\n",
    "print y"
   ]
  },
  {
   "cell_type": "code",
   "execution_count": 30,
   "metadata": {
    "collapsed": false
   },
   "outputs": [],
   "source": [
    "z = y['esearchresult']['idlist']"
   ]
  },
  {
   "cell_type": "code",
   "execution_count": 184,
   "metadata": {
    "collapsed": false
   },
   "outputs": [
    {
     "ename": "SyntaxError",
     "evalue": "invalid syntax (<ipython-input-184-0b26c42c400c>, line 1)",
     "output_type": "error",
     "traceback": [
      "\u001b[1;36m  File \u001b[1;32m\"<ipython-input-184-0b26c42c400c>\"\u001b[1;36m, line \u001b[1;32m1\u001b[0m\n\u001b[1;33m    def Extract_ids:\u001b[0m\n\u001b[1;37m                   ^\u001b[0m\n\u001b[1;31mSyntaxError\u001b[0m\u001b[1;31m:\u001b[0m invalid syntax\n"
     ]
    }
   ],
   "source": [
    "def Extract_ids(pub_med_dict):\n",
    "    str1 = ('')\n",
    "    for i in xrange(0,len(pub_med_dict['esearchresult']['idlist'])-1):\n",
    "        str1 += str(pub_med_dict['esearchresult']['idlist'][i] + ', ',)\n",
    "\n",
    "returns(str1[:-2])#str1[0:len(str1)])"
   ]
  },
  {
   "cell_type": "code",
   "execution_count": 93,
   "metadata": {
    "collapsed": true
   },
   "outputs": [],
   "source": [
    "def Return_results(IDS):\n",
    "    #from os.path import exists\n",
    "    import requests\n",
    "    URL2 = 'http://eutils.ncbi.nlm.nih.gov/entrez/eutils/efetch.fcgi?db=pubmed&retmode=xml&id=' + IDS\n",
    "    f2 = requests.get(URL2)\n",
    "    print URL2\n",
    "    #print(f2)\n",
    "    return f2.content"
   ]
  },
  {
   "cell_type": "code",
   "execution_count": 94,
   "metadata": {
    "collapsed": false
   },
   "outputs": [
    {
     "name": "stdout",
     "output_type": "stream",
     "text": [
      "http://eutils.ncbi.nlm.nih.gov/entrez/eutils/efetch.fcgi?db=pubmed&retmode=xml&id=26179160\n"
     ]
    }
   ],
   "source": [
    "x2=Return_results(z[0])\n",
    "\n"
   ]
  },
  {
   "cell_type": "code",
   "execution_count": 95,
   "metadata": {
    "collapsed": false
   },
   "outputs": [
    {
     "name": "stdout",
     "output_type": "stream",
     "text": [
      "<?xml version=\"1.0\"?>\n",
      "<!DOCTYPE PubmedArticleSet PUBLIC \"-//NLM//DTD PubMedArticle, 1st January 2016//EN\" \"http://www.ncbi.nlm.nih.gov/corehtml/query/DTD/pubmed_160101.dtd\">\n",
      "<PubmedArticleSet>\n",
      "<PubmedArticle>\n",
      "    <MedlineCitation Owner=\"NLM\" Status=\"MEDLINE\">\n",
      "        <PMID Version=\"1\">26179160</PMID>\n",
      "        <DateCreated>\n",
      "            <Year>2015</Year>\n",
      "            <Month>09</Month>\n",
      "            <Day>25</Day>\n",
      "        </DateCreated>\n",
      "        <DateCompleted>\n",
      "            <Year>2015</Year>\n",
      "            <Month>12</Month>\n",
      "            <Day>18</Day>\n",
      "        </DateCompleted>\n",
      "        <Article PubModel=\"Print-Electronic\">\n",
      "            <Journal>\n",
      "                <ISSN IssnType=\"Electronic\">1545-5017</ISSN>\n",
      "                <JournalIssue CitedMedium=\"Internet\">\n",
      "                    <Volume>62</Volume>\n",
      "                    <Issue>11</Issue>\n",
      "                    <PubDate>\n",
      "                        <Year>2015</Year>\n",
      "                        <Month>Nov</Month>\n",
      "                    </PubDate>\n",
      "                </JournalIssue>\n",
      "                <Title>Pediatric blood &amp; cancer</Title>\n",
      "                <ISOAbbreviation>Pediatr Blood Cancer</ISOAbbreviation>\n",
      "            </Journal>\n",
      "            <ArticleTitle>Adherence to prompt fever evaluation in children with sickle cell disease and the health belief model.</ArticleTitle>\n",
      "            <Pagination>\n",
      "                <MedlinePgn>1968-73</MedlinePgn>\n",
      "            </Pagination>\n",
      "            <ELocationID EIdType=\"doi\" ValidYN=\"Y\">10.1002/pbc.25634</ELocationID>\n",
      "            <Abstract>\n",
      "                <AbstractText Label=\"BACKGROUND\" NlmCategory=\"BACKGROUND\">Children with sickle cell disease (SCD) are at increased risk of death from invasive bacterial infections. Emergent evaluation of fever allows early treatment of potentially fatal infections. Limited data exist regarding caregiver adherence to physician recommendations of prompt medical evaluation of fever in children with SCD. Better understanding of parental behavior around fever management may inform improved models for support in families of children with SCD.</AbstractText>\n",
      "                <AbstractText Label=\"PROCEDURE\" NlmCategory=\"METHODS\">Cross-sectional survey based on health belief domains, Wake Forest trust scales, and self-reported adherence among 163 caregivers of children with SCD during routine hematology visit.</AbstractText>\n",
      "                <AbstractText Label=\"RESULTS\" NlmCategory=\"RESULTS\">Fifty-five percent of caregivers were adherent to fever evaluation recommendations as defined by &quot;always&quot; seeking medical evaluation of fever in their child with SCD. Perceived susceptibility to fever/infection, benefits of prompt evaluation, and cues to action were significantly different between those who adhere to recommendations versus those who do not. Twenty-five percent believe their child does not need antibiotics with every fever whereas 17% believe their child does not need evaluation of fever after immunizations. Fifty-seven percent report their employer understands missing work whereas 25% report concern regarding cost of evaluation. Trust in their child's hematologist and medical profession was high (composite scores 23.4/25 and 21/25, respectively).</AbstractText>\n",
      "                <AbstractText Label=\"CONCLUSION\" NlmCategory=\"CONCLUSIONS\">Despite a high degree of agreement in importance of fever evaluation and high levels of trust, many caregivers do not consistently seek care when their child has a fever. Future studies should address additional barriers to seeking emergency care in children with SCD and fever.</AbstractText>\n",
      "                <CopyrightInformation>© 2015 Wiley Periodicals, Inc.</CopyrightInformation>\n",
      "            </Abstract>\n",
      "            <AuthorList CompleteYN=\"Y\">\n",
      "                <Author ValidYN=\"Y\">\n",
      "                    <LastName>Schultz</LastName>\n",
      "                    <ForeName>Corinna L</ForeName>\n",
      "                    <Initials>CL</Initials>\n",
      "                    <AffiliationInfo>\n",
      "                        <Affiliation>The Children's Hospital of Philadelphia, Philadelphia, Pennsylvania.</Affiliation>\n",
      "                    </AffiliationInfo>\n",
      "                </Author>\n",
      "                <Author ValidYN=\"Y\">\n",
      "                    <LastName>Tchume-Johnson</LastName>\n",
      "                    <ForeName>Trudy</ForeName>\n",
      "                    <Initials>T</Initials>\n",
      "                    <AffiliationInfo>\n",
      "                        <Affiliation>The Children's Hospital of Philadelphia, Philadelphia, Pennsylvania.</Affiliation>\n",
      "                    </AffiliationInfo>\n",
      "                </Author>\n",
      "                <Author ValidYN=\"Y\">\n",
      "                    <LastName>Schapira</LastName>\n",
      "                    <ForeName>Marilyn M</ForeName>\n",
      "                    <Initials>MM</Initials>\n",
      "                    <AffiliationInfo>\n",
      "                        <Affiliation>Abramson Cancer Center, Philadelphia, Pennsylvania.</Affiliation>\n",
      "                    </AffiliationInfo>\n",
      "                    <AffiliationInfo>\n",
      "                        <Affiliation>Perelman School of Medicine at the University of Pennsylvania, Philadelphia, Pennsylvania.</Affiliation>\n",
      "                    </AffiliationInfo>\n",
      "                    <AffiliationInfo>\n",
      "                        <Affiliation>Philadelphia VA Hospital, Philadelphia, Pennsylvania.</Affiliation>\n",
      "                    </AffiliationInfo>\n",
      "                </Author>\n",
      "                <Author ValidYN=\"Y\">\n",
      "                    <LastName>Bellamy</LastName>\n",
      "                    <ForeName>Scarlett</ForeName>\n",
      "                    <Initials>S</Initials>\n",
      "                    <AffiliationInfo>\n",
      "                        <Affiliation>Department of Biostatistics and Epidemiology, Center for Clinical Epidemiology and Biostatistics at the University of Pennsylvania, Philadelphia, Pennsylvania.</Affiliation>\n",
      "                    </AffiliationInfo>\n",
      "                </Author>\n",
      "                <Author ValidYN=\"Y\">\n",
      "                    <LastName>Smith-Whitley</LastName>\n",
      "                    <ForeName>Kim</ForeName>\n",
      "                    <Initials>K</Initials>\n",
      "                    <AffiliationInfo>\n",
      "                        <Affiliation>The Children's Hospital of Philadelphia, Philadelphia, Pennsylvania.</Affiliation>\n",
      "                    </AffiliationInfo>\n",
      "                    <AffiliationInfo>\n",
      "                        <Affiliation>Perelman School of Medicine at the University of Pennsylvania, Philadelphia, Pennsylvania.</Affiliation>\n",
      "                    </AffiliationInfo>\n",
      "                </Author>\n",
      "                <Author ValidYN=\"Y\">\n",
      "                    <LastName>Ellison</LastName>\n",
      "                    <ForeName>Angela</ForeName>\n",
      "                    <Initials>A</Initials>\n",
      "                    <AffiliationInfo>\n",
      "                        <Affiliation>The Children's Hospital of Philadelphia, Philadelphia, Pennsylvania.</Affiliation>\n",
      "                    </AffiliationInfo>\n",
      "                    <AffiliationInfo>\n",
      "                        <Affiliation>Perelman School of Medicine at the University of Pennsylvania, Philadelphia, Pennsylvania.</Affiliation>\n",
      "                    </AffiliationInfo>\n",
      "                </Author>\n",
      "            </AuthorList>\n",
      "            <Language>eng</Language>\n",
      "            <PublicationTypeList>\n",
      "                <PublicationType UI=\"D016430\">Clinical Trial</PublicationType>\n",
      "                <PublicationType UI=\"D016428\">Journal Article</PublicationType>\n",
      "            </PublicationTypeList>\n",
      "            <ArticleDate DateType=\"Electronic\">\n",
      "                <Year>2015</Year>\n",
      "                <Month>07</Month>\n",
      "                <Day>14</Day>\n",
      "            </ArticleDate>\n",
      "        </Article>\n",
      "        <MedlineJournalInfo>\n",
      "            <Country>United States</Country>\n",
      "            <MedlineTA>Pediatr Blood Cancer</MedlineTA>\n",
      "            <NlmUniqueID>101186624</NlmUniqueID>\n",
      "            <ISSNLinking>1545-5009</ISSNLinking>\n",
      "        </MedlineJournalInfo>\n",
      "        <CitationSubset>IM</CitationSubset>\n",
      "        <MeshHeadingList>\n",
      "            <MeshHeading>\n",
      "                <DescriptorName MajorTopicYN=\"N\" UI=\"D000293\">Adolescent</DescriptorName>\n",
      "            </MeshHeading>\n",
      "            <MeshHeading>\n",
      "                <DescriptorName MajorTopicYN=\"N\" UI=\"D000328\">Adult</DescriptorName>\n",
      "            </MeshHeading>\n",
      "            <MeshHeading>\n",
      "                <DescriptorName MajorTopicYN=\"N\" UI=\"D000755\">Anemia, Sickle Cell</DescriptorName>\n",
      "                <QualifierName MajorTopicYN=\"N\" UI=\"Q000150\">complications</QualifierName>\n",
      "                <QualifierName MajorTopicYN=\"Y\" UI=\"Q000628\">therapy</QualifierName>\n",
      "            </MeshHeading>\n",
      "            <MeshHeading>\n",
      "                <DescriptorName MajorTopicYN=\"Y\" UI=\"D017028\">Caregivers</DescriptorName>\n",
      "            </MeshHeading>\n",
      "            <MeshHeading>\n",
      "                <DescriptorName MajorTopicYN=\"N\" UI=\"D002648\">Child</DescriptorName>\n",
      "            </MeshHeading>\n",
      "            <MeshHeading>\n",
      "                <DescriptorName MajorTopicYN=\"N\" UI=\"D002675\">Child, Preschool</DescriptorName>\n",
      "            </MeshHeading>\n",
      "            <MeshHeading>\n",
      "                <DescriptorName MajorTopicYN=\"N\" UI=\"D003430\">Cross-Sectional Studies</DescriptorName>\n",
      "            </MeshHeading>\n",
      "            <MeshHeading>\n",
      "                <DescriptorName MajorTopicYN=\"N\" UI=\"D005260\">Female</DescriptorName>\n",
      "            </MeshHeading>\n",
      "            <MeshHeading>\n",
      "                <DescriptorName MajorTopicYN=\"N\" UI=\"D005334\">Fever</DescriptorName>\n",
      "                <QualifierName MajorTopicYN=\"N\" UI=\"Q000209\">etiology</QualifierName>\n",
      "                <QualifierName MajorTopicYN=\"Y\" UI=\"Q000628\">therapy</QualifierName>\n",
      "            </MeshHeading>\n",
      "            <MeshHeading>\n",
      "                <DescriptorName MajorTopicYN=\"N\" UI=\"D006801\">Humans</DescriptorName>\n",
      "            </MeshHeading>\n",
      "            <MeshHeading>\n",
      "                <DescriptorName MajorTopicYN=\"N\" UI=\"D007223\">Infant</DescriptorName>\n",
      "            </MeshHeading>\n",
      "            <MeshHeading>\n",
      "                <DescriptorName MajorTopicYN=\"N\" UI=\"D007231\">Infant, Newborn</DescriptorName>\n",
      "            </MeshHeading>\n",
      "            <MeshHeading>\n",
      "                <DescriptorName MajorTopicYN=\"N\" UI=\"D007239\">Infection</DescriptorName>\n",
      "                <QualifierName MajorTopicYN=\"N\" UI=\"Q000209\">etiology</QualifierName>\n",
      "                <QualifierName MajorTopicYN=\"N\" UI=\"Q000628\">therapy</QualifierName>\n",
      "            </MeshHeading>\n",
      "            <MeshHeading>\n",
      "                <DescriptorName MajorTopicYN=\"N\" UI=\"D008297\">Male</DescriptorName>\n",
      "            </MeshHeading>\n",
      "            <MeshHeading>\n",
      "                <DescriptorName MajorTopicYN=\"Y\" UI=\"D055118\">Medication Adherence</DescriptorName>\n",
      "            </MeshHeading>\n",
      "            <MeshHeading>\n",
      "                <DescriptorName MajorTopicYN=\"Y\" UI=\"D008954\">Models, Biological</DescriptorName>\n",
      "            </MeshHeading>\n",
      "            <MeshHeading>\n",
      "                <DescriptorName MajorTopicYN=\"Y\" UI=\"D010349\">Patient Compliance</DescriptorName>\n",
      "            </MeshHeading>\n",
      "        </MeshHeadingList>\n",
      "        <KeywordList Owner=\"NOTNLM\">\n",
      "            <Keyword MajorTopicYN=\"N\">behavioral studies</Keyword>\n",
      "            <Keyword MajorTopicYN=\"N\">hemoglobinopathies</Keyword>\n",
      "            <Keyword MajorTopicYN=\"N\">infections</Keyword>\n",
      "            <Keyword MajorTopicYN=\"N\">psychosocial</Keyword>\n",
      "            <Keyword MajorTopicYN=\"N\">sickle cell disease</Keyword>\n",
      "        </KeywordList>\n",
      "    </MedlineCitation>\n",
      "    <PubmedData>\n",
      "        <History>\n",
      "            <PubMedPubDate PubStatus=\"received\">\n",
      "                <Year>2015</Year>\n",
      "                <Month>3</Month>\n",
      "                <Day>2</Day>\n",
      "            </PubMedPubDate>\n",
      "            <PubMedPubDate PubStatus=\"accepted\">\n",
      "                <Year>2015</Year>\n",
      "                <Month>5</Month>\n",
      "                <Day>27</Day>\n",
      "            </PubMedPubDate>\n",
      "            <PubMedPubDate PubStatus=\"aheadofprint\">\n",
      "                <Year>2015</Year>\n",
      "                <Month>7</Month>\n",
      "                <Day>14</Day>\n",
      "            </PubMedPubDate>\n",
      "            <PubMedPubDate PubStatus=\"entrez\">\n",
      "                <Year>2015</Year>\n",
      "                <Month>7</Month>\n",
      "                <Day>17</Day>\n",
      "                <Hour>6</Hour>\n",
      "                <Minute>0</Minute>\n",
      "            </PubMedPubDate>\n",
      "            <PubMedPubDate PubStatus=\"pubmed\">\n",
      "                <Year>2015</Year>\n",
      "                <Month>7</Month>\n",
      "                <Day>17</Day>\n",
      "                <Hour>6</Hour>\n",
      "                <Minute>0</Minute>\n",
      "            </PubMedPubDate>\n",
      "            <PubMedPubDate PubStatus=\"medline\">\n",
      "                <Year>2015</Year>\n",
      "                <Month>12</Month>\n",
      "                <Day>19</Day>\n",
      "                <Hour>6</Hour>\n",
      "                <Minute>0</Minute>\n",
      "            </PubMedPubDate>\n",
      "        </History>\n",
      "        <PublicationStatus>ppublish</PublicationStatus>\n",
      "        <ArticleIdList>\n",
      "            <ArticleId IdType=\"pubmed\">26179160</ArticleId>\n",
      "            <ArticleId IdType=\"doi\">10.1002/pbc.25634</ArticleId>\n",
      "        </ArticleIdList>\n",
      "    </PubmedData>\n",
      "</PubmedArticle>\n",
      "\n",
      "</PubmedArticleSet>\n",
      "\n"
     ]
    }
   ],
   "source": [
    "print(x2)"
   ]
  },
  {
   "cell_type": "code",
   "execution_count": 123,
   "metadata": {
    "collapsed": false
   },
   "outputs": [
    {
     "name": "stdout",
     "output_type": "stream",
     "text": [
      "Adherence to prompt fever evaluation in children with sickle cell disease and the health belief model.\n",
      "Cross-sectional survey based on health belief domains, Wake Forest trust scales, and self-reported adherence among 163 caregivers of children with SCD during routine hematology visit.\n"
     ]
    }
   ],
   "source": [
    "#import minidom\n",
    "#y2=x2.\n",
    "#x2.content\n",
    "\n",
    "import xml.etree.ElementTree as ET\n",
    "#tree = ET.parse(x2)\n",
    "#root = tree.getroot()\n",
    "root = ET.fromstring(x2)\n",
    "\n",
    "Title = root[0][0][3][1].text\n",
    "Abstract = root[0][0][3][4][1].text\n",
    "\n",
    "        \n",
    "\n",
    "print (Title)\n",
    "print(Abstract)\n",
    "\n",
    "#print(abstract)"
   ]
  },
  {
   "cell_type": "code",
   "execution_count": 150,
   "metadata": {
    "collapsed": false
   },
   "outputs": [],
   "source": [
    "def getAbstract(xmlInput):\n",
    "    abst=('')\n",
    "    for i in range(4):\n",
    "        abst += xmlInput[0][0][3][4][i].text\n",
    "    return abst\n",
    "\n",
    "def getAuthors(xmlInput):\n",
    "    auth=('')\n",
    "    for i in range(12):\n",
    "        xmlInput[0][0][3][5][i]\n",
    "        try:    \n",
    "            auth += xmlInput[0][0][3][5][i][1].text + ', '\n",
    "        except index.ValueError:\n",
    "            break\n",
    "        try:\n",
    "            auth += xmlInput[0][0][3][5][i][2].text + ', '\n",
    "        except index.ValueError:\n",
    "            break\n",
    "    return auth[0:(len(auth)-2)]\n",
    "\n"
   ]
  },
  {
   "cell_type": "code",
   "execution_count": 151,
   "metadata": {
    "collapsed": false
   },
   "outputs": [
    {
     "ename": "NameError",
     "evalue": "global name 'index' is not defined",
     "output_type": "error",
     "traceback": [
      "\u001b[1;31m---------------------------------------------------------------------------\u001b[0m",
      "\u001b[1;31mNameError\u001b[0m                                 Traceback (most recent call last)",
      "\u001b[1;32m<ipython-input-151-9a53fd41424a>\u001b[0m in \u001b[0;36m<module>\u001b[1;34m()\u001b[0m\n\u001b[0;32m      1\u001b[0m \u001b[1;31m#getAbstract(root)\u001b[0m\u001b[1;33m\u001b[0m\u001b[1;33m\u001b[0m\u001b[0m\n\u001b[1;32m----> 2\u001b[1;33m \u001b[0mgetAuthors\u001b[0m\u001b[1;33m(\u001b[0m\u001b[0mroot\u001b[0m\u001b[1;33m)\u001b[0m\u001b[1;33m\u001b[0m\u001b[0m\n\u001b[0m\u001b[0;32m      3\u001b[0m \u001b[1;33m\u001b[0m\u001b[0m\n\u001b[0;32m      4\u001b[0m \u001b[1;33m\u001b[0m\u001b[0m\n",
      "\u001b[1;32m<ipython-input-150-6b7dec80fd44>\u001b[0m in \u001b[0;36mgetAuthors\u001b[1;34m(xmlInput)\u001b[0m\n\u001b[0;32m     10\u001b[0m         \u001b[1;32mtry\u001b[0m\u001b[1;33m:\u001b[0m\u001b[1;33m\u001b[0m\u001b[0m\n\u001b[0;32m     11\u001b[0m             \u001b[0mauth\u001b[0m \u001b[1;33m+=\u001b[0m \u001b[0mxmlInput\u001b[0m\u001b[1;33m[\u001b[0m\u001b[1;36m0\u001b[0m\u001b[1;33m]\u001b[0m\u001b[1;33m[\u001b[0m\u001b[1;36m0\u001b[0m\u001b[1;33m]\u001b[0m\u001b[1;33m[\u001b[0m\u001b[1;36m3\u001b[0m\u001b[1;33m]\u001b[0m\u001b[1;33m[\u001b[0m\u001b[1;36m5\u001b[0m\u001b[1;33m]\u001b[0m\u001b[1;33m[\u001b[0m\u001b[0mi\u001b[0m\u001b[1;33m]\u001b[0m\u001b[1;33m[\u001b[0m\u001b[1;36m1\u001b[0m\u001b[1;33m]\u001b[0m\u001b[1;33m.\u001b[0m\u001b[0mtext\u001b[0m \u001b[1;33m+\u001b[0m \u001b[1;34m', '\u001b[0m\u001b[1;33m\u001b[0m\u001b[0m\n\u001b[1;32m---> 12\u001b[1;33m         \u001b[1;32mexcept\u001b[0m \u001b[0mindex\u001b[0m\u001b[1;33m.\u001b[0m\u001b[0mValueError\u001b[0m\u001b[1;33m:\u001b[0m\u001b[1;33m\u001b[0m\u001b[0m\n\u001b[0m\u001b[0;32m     13\u001b[0m             \u001b[1;32mbreak\u001b[0m\u001b[1;33m\u001b[0m\u001b[0m\n\u001b[0;32m     14\u001b[0m         \u001b[1;32mtry\u001b[0m\u001b[1;33m:\u001b[0m\u001b[1;33m\u001b[0m\u001b[0m\n",
      "\u001b[1;31mNameError\u001b[0m: global name 'index' is not defined"
     ]
    }
   ],
   "source": [
    "#getAbstract(root)\n",
    "getAuthors(root)\n",
    "\n",
    "\n"
   ]
  },
  {
   "cell_type": "code",
   "execution_count": 181,
   "metadata": {
    "collapsed": false
   },
   "outputs": [],
   "source": [
    "def get_pubmed_details(xml_input):\n",
    "\n",
    "    from lxml import etree\n",
    "\n",
    "    tree = etree.fromstring(x2)\n",
    "\n",
    "    #Authors = ' '.join(tree.xpath('//abstract//text()'))\n",
    "    Year = ' '.join(tree.xpath('//PubmedArticleSet/PubmedArticle/MedlineCitation/DateCompleted/Year/text()'))\n",
    "    Title = ' '.join(tree.xpath('//PubmedArticleSet/PubmedArticle/MedlineCitation/Article/ArticleTitle/text()')).replace('\\n', ' ')\n",
    "    Abstract =  ' '.join(tree.xpath('//PubmedArticleSet/PubmedArticle/MedlineCitation/Article/Abstract/AbstractText/text()'))\n",
    "    Keywords =  (','.join(tree.xpath('//PubmedArticleSet/PubmedArticle/MedlineCitation/KeywordList/Keyword/text()'))).lstrip()\n",
    "    \n",
    "    return {'Year': Year, 'Title': Title, 'Abstract': Abstract, 'Keywords': Keywords}"
   ]
  },
  {
   "cell_type": "code",
   "execution_count": 183,
   "metadata": {
    "collapsed": false
   },
   "outputs": [
    {
     "name": "stdout",
     "output_type": "stream",
     "text": [
      "2015\n",
      "Adherence to prompt fever evaluation in children with sickle cell disease and the health belief model.\n",
      "Children with sickle cell disease (SCD) are at increased risk of death from invasive bacterial infections. Emergent evaluation of fever allows early treatment of potentially fatal infections. Limited data exist regarding caregiver adherence to physician recommendations of prompt medical evaluation of fever in children with SCD. Better understanding of parental behavior around fever management may inform improved models for support in families of children with SCD. Cross-sectional survey based on health belief domains, Wake Forest trust scales, and self-reported adherence among 163 caregivers of children with SCD during routine hematology visit. Fifty-five percent of caregivers were adherent to fever evaluation recommendations as defined by \"always\" seeking medical evaluation of fever in their child with SCD. Perceived susceptibility to fever/infection, benefits of prompt evaluation, and cues to action were significantly different between those who adhere to recommendations versus those who do not. Twenty-five percent believe their child does not need antibiotics with every fever whereas 17% believe their child does not need evaluation of fever after immunizations. Fifty-seven percent report their employer understands missing work whereas 25% report concern regarding cost of evaluation. Trust in their child's hematologist and medical profession was high (composite scores 23.4/25 and 21/25, respectively). Despite a high degree of agreement in importance of fever evaluation and high levels of trust, many caregivers do not consistently seek care when their child has a fever. Future studies should address additional barriers to seeking emergency care in children with SCD and fever.\n"
     ]
    },
    {
     "data": {
      "text/plain": [
       "{'Abstract': 'Children with sickle cell disease (SCD) are at increased risk of death from invasive bacterial infections. Emergent evaluation of fever allows early treatment of potentially fatal infections. Limited data exist regarding caregiver adherence to physician recommendations of prompt medical evaluation of fever in children with SCD. Better understanding of parental behavior around fever management may inform improved models for support in families of children with SCD. Cross-sectional survey based on health belief domains, Wake Forest trust scales, and self-reported adherence among 163 caregivers of children with SCD during routine hematology visit. Fifty-five percent of caregivers were adherent to fever evaluation recommendations as defined by \"always\" seeking medical evaluation of fever in their child with SCD. Perceived susceptibility to fever/infection, benefits of prompt evaluation, and cues to action were significantly different between those who adhere to recommendations versus those who do not. Twenty-five percent believe their child does not need antibiotics with every fever whereas 17% believe their child does not need evaluation of fever after immunizations. Fifty-seven percent report their employer understands missing work whereas 25% report concern regarding cost of evaluation. Trust in their child\\'s hematologist and medical profession was high (composite scores 23.4/25 and 21/25, respectively). Despite a high degree of agreement in importance of fever evaluation and high levels of trust, many caregivers do not consistently seek care when their child has a fever. Future studies should address additional barriers to seeking emergency care in children with SCD and fever.',\n",
       " 'Keywords': 'behavioral studies,hemoglobinopathies,infections,psychosocial,sickle cell disease',\n",
       " 'Title': 'Adherence to prompt fever evaluation in children with sickle cell disease and the health belief model.',\n",
       " 'Year': '2015'}"
      ]
     },
     "execution_count": 183,
     "metadata": {},
     "output_type": "execute_result"
    }
   ],
   "source": [
    "\n",
    "get_pubmed_details(x2)"
   ]
  },
  {
   "cell_type": "markdown",
   "metadata": {},
   "source": [
    "# This is the tidied version of the various scripts.  \n",
    "\n",
    "Function 1 searches for terms returning a string of PubMed ids.  \n",
    "Function 2 looks up each ID, parses details, selects Year, Title, abstract and keywords out, putting them in pandas dataframe for analysis."
   ]
  },
  {
   "cell_type": "code",
   "execution_count": 1,
   "metadata": {
    "collapsed": true
   },
   "outputs": [],
   "source": [
    "def Pubmed_search(terms):\n",
    "    #from os.path import exists\n",
    "    import requests\n",
    "    #import os\n",
    "    \n",
    "    URL = 'http://eutils.ncbi.nlm.nih.gov/entrez/eutils/esearch.fcgi?db=pubmed&retmode=json&retmax=100&sort=relevance&term=[' + terms.replace(' ','%20') +']'\n",
    "    f = requests.get(URL)\n",
    "    #print(f)\n",
    "    f2 = f.json()\n",
    "    #print f2\n",
    "    \n",
    "      \n",
    "    str1 = ('')\n",
    "    for i in xrange(0,len(f2['esearchresult']['idlist'])-1):\n",
    "        str1 += str(f2['esearchresult']['idlist'][i] + ', ',)\n",
    "\n",
    "    #print(str1[:-2])\n",
    "    return (str1[:-2])  #str1[0:len(str1)])\n",
    "    "
   ]
  },
  {
   "cell_type": "code",
   "execution_count": 6,
   "metadata": {
    "collapsed": true
   },
   "outputs": [],
   "source": [
    "def Pubmed_parser(xml_input):\n",
    "\n",
    "    from lxml import etree\n",
    "\n",
    "    tree = etree.fromstring(xml_input)\n",
    "\n",
    "    #Authors = ' '.join(tree.xpath('//abstract//text()'))\n",
    "    Year = ' '.join(tree.xpath('//PubmedArticleSet/PubmedArticle/MedlineCitation/DateCompleted/Year/text()'))\n",
    "    Title = ' '.join(tree.xpath('//PubmedArticleSet/PubmedArticle/MedlineCitation/Article/ArticleTitle/text()')).replace('\\n', ' ')\n",
    "    Abstract =  ' '.join(tree.xpath('//PubmedArticleSet/PubmedArticle/MedlineCitation/Article/Abstract/AbstractText/text()'))\n",
    "    Keywords =  (','.join(tree.xpath('//PubmedArticleSet/PubmedArticle/MedlineCitation/KeywordList/Keyword/text()'))).lstrip()\n",
    "    \n",
    "    return {'Year': Year, 'Title': Title, 'Abstract': Abstract, 'Keywords': Keywords}"
   ]
  },
  {
   "cell_type": "code",
   "execution_count": 12,
   "metadata": {
    "collapsed": false
   },
   "outputs": [],
   "source": [
    "def Pub_article_search(terms):\n",
    "    \n",
    "    import pandas as pd\n",
    "    \n",
    "    id_string = Pubmed_search(terms)\n",
    "    id_string2 = id_string.split()\n",
    "    \n",
    "    out_lst = []#{}     \n",
    "    for ids in id_string2:\n",
    "        #print ids\n",
    "        import requests\n",
    "        URL2 = 'http://eutils.ncbi.nlm.nih.gov/entrez/eutils/efetch.fcgi?db=pubmed&retmode=xml&id=' + ids\n",
    "        f2 = requests.get(URL2)\n",
    "        #print URL2\n",
    "    \n",
    "        dict_parse = Pubmed_parser(f2.content)\n",
    "        \n",
    "        row = {'Ids': ids, 'Year': dict_parse['Year'], 'Title': dict_parse['Title'], 'Abstract': dict_parse['Abstract'], 'Keywords': dict_parse['Keywords']}\n",
    "        \n",
    "        #print(row)\n",
    "        out_lst.append(row)\n",
    "        #out_lst[ids] = row\n",
    "        \n",
    "        #print (out_lst)\n",
    "        \n",
    "        #print (pd.DataFrame(out_lst))\n",
    "        #print out_lst\n",
    "    return pd.DataFrame(out_lst)\n",
    "    "
   ]
  },
  {
   "cell_type": "code",
   "execution_count": null,
   "metadata": {
    "collapsed": false
   },
   "outputs": [],
   "source": []
  },
  {
   "cell_type": "code",
   "execution_count": 15,
   "metadata": {
    "collapsed": false
   },
   "outputs": [],
   "source": [
    "%matplotlib inline"
   ]
  },
  {
   "cell_type": "code",
   "execution_count": 52,
   "metadata": {
    "collapsed": false
   },
   "outputs": [
    {
     "name": "stdout",
     "output_type": "stream",
     "text": [
      "Year\n",
      "2014    13\n",
      "2015    76\n",
      "2016    10\n",
      "Name: Ids, dtype: int64\n"
     ]
    },
    {
     "data": {
      "text/plain": [
       "<matplotlib.text.Text at 0x11326898>"
      ]
     },
     "execution_count": 52,
     "metadata": {},
     "output_type": "execute_result"
    },
    {
     "data": {
      "image/png": "[encoded data removed]",
      "text/plain": [
       "<matplotlib.figure.Figure at 0x1103f4e0>"
      ]
     },
     "metadata": {},
     "output_type": "display_data"
    }
   ],
   "source": [
    "import matplotlib.pyplot as plt\n",
    "import numpy as np\n",
    "\n",
    "print(tst1.groupby('Year')['Ids'].count())\n",
    "\n",
    "#plt.hist(tst1.groupby('Year')['Ids'].count(), bins = 3, color='LemonChiffon', label = ['2014', '2015', '2016'])\n",
    "\n",
    "fig, ax=plt.subplots()\n",
    "ax.bar([2014, 2015, 2016], tst1.groupby('Year')['Ids'].count(), width = 1, color='LemonChiffon')\n",
    "\n",
    "\n",
    "ax.set_xticks([2014.5,2015.5,2016.5])\n",
    "ax.set_xticklabels([2014,2015,2016])\n",
    "ax.set_title('Publication years of article')\n",
    "ax.set_xlabel('Year')\n",
    "ax.set_ylabel('Count of publications')\n"
   ]
  },
  {
   "cell_type": "code",
   "execution_count": 70,
   "metadata": {
    "collapsed": false,
    "scrolled": true
   },
   "outputs": [
    {
     "ename": "ValueError",
     "evalue": "color kwarg must have one color per dataset",
     "output_type": "error",
     "traceback": [
      "\u001b[1;31m---------------------------------------------------------------------------\u001b[0m",
      "\u001b[1;31mValueError\u001b[0m                                Traceback (most recent call last)",
      "\u001b[1;32m<ipython-input-70-1969c15f007f>\u001b[0m in \u001b[0;36m<module>\u001b[1;34m()\u001b[0m\n\u001b[1;32m----> 1\u001b[1;33m \u001b[0mplt\u001b[0m\u001b[1;33m.\u001b[0m\u001b[0mhist\u001b[0m\u001b[1;33m(\u001b[0m\u001b[0mtst1\u001b[0m\u001b[1;33m[\u001b[0m\u001b[1;34m'Year'\u001b[0m\u001b[1;33m]\u001b[0m\u001b[1;33m,\u001b[0m \u001b[0mbins\u001b[0m \u001b[1;33m=\u001b[0m \u001b[1;36m3\u001b[0m\u001b[1;33m,\u001b[0m \u001b[0mcolor\u001b[0m\u001b[1;33m=\u001b[0m\u001b[1;34m'LemonChiffon'\u001b[0m\u001b[1;33m,\u001b[0m \u001b[0mlabel\u001b[0m \u001b[1;33m=\u001b[0m \u001b[1;33m[\u001b[0m\u001b[1;34m'2014'\u001b[0m\u001b[1;33m,\u001b[0m \u001b[1;34m'2015'\u001b[0m\u001b[1;33m,\u001b[0m \u001b[1;34m'2016'\u001b[0m\u001b[1;33m]\u001b[0m\u001b[1;33m)\u001b[0m\u001b[1;33m\u001b[0m\u001b[0m\n\u001b[0m",
      "\u001b[1;32mC:\\Users\\Christopher\\Anaconda2\\lib\\site-packages\\matplotlib\\pyplot.pyc\u001b[0m in \u001b[0;36mhist\u001b[1;34m(x, bins, range, normed, weights, cumulative, bottom, histtype, align, orientation, rwidth, log, color, label, stacked, hold, data, **kwargs)\u001b[0m\n\u001b[0;32m   2956\u001b[0m                       \u001b[0mhisttype\u001b[0m\u001b[1;33m=\u001b[0m\u001b[0mhisttype\u001b[0m\u001b[1;33m,\u001b[0m \u001b[0malign\u001b[0m\u001b[1;33m=\u001b[0m\u001b[0malign\u001b[0m\u001b[1;33m,\u001b[0m \u001b[0morientation\u001b[0m\u001b[1;33m=\u001b[0m\u001b[0morientation\u001b[0m\u001b[1;33m,\u001b[0m\u001b[1;33m\u001b[0m\u001b[0m\n\u001b[0;32m   2957\u001b[0m                       \u001b[0mrwidth\u001b[0m\u001b[1;33m=\u001b[0m\u001b[0mrwidth\u001b[0m\u001b[1;33m,\u001b[0m \u001b[0mlog\u001b[0m\u001b[1;33m=\u001b[0m\u001b[0mlog\u001b[0m\u001b[1;33m,\u001b[0m \u001b[0mcolor\u001b[0m\u001b[1;33m=\u001b[0m\u001b[0mcolor\u001b[0m\u001b[1;33m,\u001b[0m \u001b[0mlabel\u001b[0m\u001b[1;33m=\u001b[0m\u001b[0mlabel\u001b[0m\u001b[1;33m,\u001b[0m\u001b[1;33m\u001b[0m\u001b[0m\n\u001b[1;32m-> 2958\u001b[1;33m                       stacked=stacked, data=data, **kwargs)\n\u001b[0m\u001b[0;32m   2959\u001b[0m     \u001b[1;32mfinally\u001b[0m\u001b[1;33m:\u001b[0m\u001b[1;33m\u001b[0m\u001b[0m\n\u001b[0;32m   2960\u001b[0m         \u001b[0max\u001b[0m\u001b[1;33m.\u001b[0m\u001b[0mhold\u001b[0m\u001b[1;33m(\u001b[0m\u001b[0mwashold\u001b[0m\u001b[1;33m)\u001b[0m\u001b[1;33m\u001b[0m\u001b[0m\n",
      "\u001b[1;32mC:\\Users\\Christopher\\Anaconda2\\lib\\site-packages\\matplotlib\\__init__.pyc\u001b[0m in \u001b[0;36minner\u001b[1;34m(ax, *args, **kwargs)\u001b[0m\n\u001b[0;32m   1808\u001b[0m                     warnings.warn(msg % (label_namer, func.__name__),\n\u001b[0;32m   1809\u001b[0m                                   RuntimeWarning, stacklevel=2)\n\u001b[1;32m-> 1810\u001b[1;33m             \u001b[1;32mreturn\u001b[0m \u001b[0mfunc\u001b[0m\u001b[1;33m(\u001b[0m\u001b[0max\u001b[0m\u001b[1;33m,\u001b[0m \u001b[1;33m*\u001b[0m\u001b[0margs\u001b[0m\u001b[1;33m,\u001b[0m \u001b[1;33m**\u001b[0m\u001b[0mkwargs\u001b[0m\u001b[1;33m)\u001b[0m\u001b[1;33m\u001b[0m\u001b[0m\n\u001b[0m\u001b[0;32m   1811\u001b[0m         \u001b[0mpre_doc\u001b[0m \u001b[1;33m=\u001b[0m \u001b[0minner\u001b[0m\u001b[1;33m.\u001b[0m\u001b[0m__doc__\u001b[0m\u001b[1;33m\u001b[0m\u001b[0m\n\u001b[0;32m   1812\u001b[0m         \u001b[1;32mif\u001b[0m \u001b[0mpre_doc\u001b[0m \u001b[1;32mis\u001b[0m \u001b[0mNone\u001b[0m\u001b[1;33m:\u001b[0m\u001b[1;33m\u001b[0m\u001b[0m\n",
      "\u001b[1;32mC:\\Users\\Christopher\\Anaconda2\\lib\\site-packages\\matplotlib\\axes\\_axes.pyc\u001b[0m in \u001b[0;36mhist\u001b[1;34m(self, x, bins, range, normed, weights, cumulative, bottom, histtype, align, orientation, rwidth, log, color, label, stacked, **kwargs)\u001b[0m\n\u001b[0;32m   5944\u001b[0m             \u001b[0mcolor\u001b[0m \u001b[1;33m=\u001b[0m \u001b[0mmcolors\u001b[0m\u001b[1;33m.\u001b[0m\u001b[0mcolorConverter\u001b[0m\u001b[1;33m.\u001b[0m\u001b[0mto_rgba_array\u001b[0m\u001b[1;33m(\u001b[0m\u001b[0mcolor\u001b[0m\u001b[1;33m)\u001b[0m\u001b[1;33m\u001b[0m\u001b[0m\n\u001b[0;32m   5945\u001b[0m             \u001b[1;32mif\u001b[0m \u001b[0mlen\u001b[0m\u001b[1;33m(\u001b[0m\u001b[0mcolor\u001b[0m\u001b[1;33m)\u001b[0m \u001b[1;33m!=\u001b[0m \u001b[0mnx\u001b[0m\u001b[1;33m:\u001b[0m\u001b[1;33m\u001b[0m\u001b[0m\n\u001b[1;32m-> 5946\u001b[1;33m                 \u001b[1;32mraise\u001b[0m \u001b[0mValueError\u001b[0m\u001b[1;33m(\u001b[0m\u001b[1;34m\"color kwarg must have one color per dataset\"\u001b[0m\u001b[1;33m)\u001b[0m\u001b[1;33m\u001b[0m\u001b[0m\n\u001b[0m\u001b[0;32m   5947\u001b[0m \u001b[1;33m\u001b[0m\u001b[0m\n\u001b[0;32m   5948\u001b[0m         \u001b[1;31m# We need to do to 'weights' what was done to 'x'\u001b[0m\u001b[1;33m\u001b[0m\u001b[1;33m\u001b[0m\u001b[0m\n",
      "\u001b[1;31mValueError\u001b[0m: color kwarg must have one color per dataset"
     ]
    },
    {
     "data": {
      "image/png": "[encoded data removed]",
      "text/plain": [
       "<matplotlib.figure.Figure at 0xef57748>"
      ]
     },
     "metadata": {},
     "output_type": "display_data"
    }
   ],
   "source": [
    "plt.hist(tst1['Year'], bins = 3, color='LemonChiffon', label = ['2014', '2015', '2016'])"
   ]
  },
  {
   "cell_type": "code",
   "execution_count": null,
   "metadata": {
    "collapsed": false
   },
   "outputs": [],
   "source": []
  },
  {
   "cell_type": "code",
   "execution_count": null,
   "metadata": {
    "collapsed": false
   },
   "outputs": [],
   "source": []
  },
  {
   "cell_type": "code",
   "execution_count": null,
   "metadata": {
    "collapsed": true
   },
   "outputs": [],
   "source": []
  }
 ],
 "metadata": {
  "kernelspec": {
   "display_name": "Python 2",
   "language": "python",
   "name": "python2"
  },
  "language_info": {
   "codemirror_mode": {
    "name": "ipython",
    "version": 2
   },
   "file_extension": ".py",
   "mimetype": "text/x-python",
   "name": "python",
   "nbconvert_exporter": "python",
   "pygments_lexer": "ipython2",
   "version": "2.7.11"
  }
 },
 "nbformat": 4,
 "nbformat_minor": 0
}
