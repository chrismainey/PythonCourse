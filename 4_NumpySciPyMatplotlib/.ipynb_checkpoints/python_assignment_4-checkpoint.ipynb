{
 "cells": [
  {
   "cell_type": "markdown",
   "metadata": {},
   "source": [
    "# Problem 1: Measuring butterflies\n",
    "To discover things about a butterfly population, the Natural History Museum has measured the width of several butterflies in its collection. "
   ]
  },
  {
   "cell_type": "markdown",
   "metadata": {},
   "source": [
    "![alt text](https://dl.dropboxusercontent.com/u/495646/bfly.png)"
   ]
  },
  {
   "cell_type": "markdown",
   "metadata": {},
   "source": [
    "They have provided you with the data, which is given below in a python list:"
   ]
  },
  {
   "cell_type": "code",
   "execution_count": 1,
   "metadata": {
    "collapsed": false
   },
   "outputs": [],
   "source": [
    "%matplotlib inline\n",
    "import matplotlib.pyplot as plt\n",
    "import numpy as np\n",
    "\n",
    "wing_widths = [7.02, 6.84, 6.56, 6.44, 0.0, 0.0, 4.92, 6.35, 6.07, 6.68, 6.91, 7.09, 8.90, 0.0,\n",
    "               9.79, 6.32, 7.24, 7.27, 8.02, 0.0, 7.76, 6.94, 5.80, 7.43, 6.85, 8.44, 5.16, 7.96, \n",
    "               0.0, 6.99, 8.56, 5.20, 5.76, 6.87, 6.41, 0.0, 7.36, 5.74, 7.06, 6.44, 8.06, 7.86]"
   ]
  },
  {
   "cell_type": "markdown",
   "metadata": {},
   "source": [
    "Complete the following tasks:\n",
    "\n",
    "\n",
    "> **1.** Find the mean width of the wings. Also find the median and the standard deviation. (It may help to convert the list to a numpy array first)"
   ]
  },
  {
   "cell_type": "code",
   "execution_count": 4,
   "metadata": {
    "collapsed": false
   },
   "outputs": [
    {
     "name": "stdout",
     "output_type": "stream",
     "text": [
      "5.97785714286\n",
      "6.845\n",
      "2.62540566998\n"
     ]
    }
   ],
   "source": [
    "dt=np.array(wing_widths)\n",
    "\n",
    "print np.mean(dt)\n",
    "print np.median(dt)\n",
    "print np.std(dt)"
   ]
  },
  {
   "cell_type": "markdown",
   "metadata": {},
   "source": [
    "> **2.** Find the width of the largest wing, and the smallest"
   ]
  },
  {
   "cell_type": "code",
   "execution_count": 5,
   "metadata": {
    "collapsed": false
   },
   "outputs": [
    {
     "name": "stdout",
     "output_type": "stream",
     "text": [
      "9.79\n",
      "0.0\n"
     ]
    }
   ],
   "source": [
    "print np.max(dt)\n",
    "print np.min(dt)"
   ]
  },
  {
   "cell_type": "markdown",
   "metadata": {},
   "source": [
    "> **3.** Now plot a histogram of the data. Try adjusting the number of bins in the histogram."
   ]
  },
  {
   "cell_type": "code",
   "execution_count": 8,
   "metadata": {
    "collapsed": false
   },
   "outputs": [
    {
     "data": {
      "text/plain": [
       "(array([  6.,   0.,   6.,  22.,   8.]),\n",
       " array([ 0.   ,  1.958,  3.916,  5.874,  7.832,  9.79 ]),\n",
       " <a list of 5 Patch objects>)"
      ]
     },
     "execution_count": 8,
     "metadata": {},
     "output_type": "execute_result"
    },
    {
     "data": {
      "image/png": "[encoded data removed]",
      "text/plain": [
       "<matplotlib.figure.Figure at 0xa87f358>"
      ]
     },
     "metadata": {},
     "output_type": "display_data"
    }
   ],
   "source": [
    "plt.hist(dt, bins = 5, color='green')"
   ]
  },
  {
   "cell_type": "markdown",
   "metadata": {},
   "source": [
    "> **4.** After talking to the natural history museum, you discover that butterflies that were missing from their collection were included in the data they gave you, but with a wing width of 0.0.\n",
    "\n",
    "> Count how many wings have been given a wing width of zero"
   ]
  },
  {
   "cell_type": "code",
   "execution_count": 14,
   "metadata": {
    "collapsed": false
   },
   "outputs": [
    {
     "name": "stdout",
     "output_type": "stream",
     "text": [
      "6\n"
     ]
    }
   ],
   "source": [
    "print((dt==0).sum())"
   ]
  },
  {
   "cell_type": "markdown",
   "metadata": {},
   "source": [
    "> **5.** You realise these zero-width wings have skewed your results. Create a new numpy array that only contains the wing widths greater than zero. (Use Boolean indexing for this task). Now find the new mean, median and min and max. Plot a histogram of this data"
   ]
  },
  {
   "cell_type": "code",
   "execution_count": 16,
   "metadata": {
    "collapsed": false
   },
   "outputs": [
    {
     "name": "stdout",
     "output_type": "stream",
     "text": [
      "6.97416666667\n",
      "6.925\n",
      "1.04552319439\n",
      "9.79\n",
      "4.92\n"
     ]
    },
    {
     "data": {
      "text/plain": [
       "(array([  6.,  10.,  12.,   6.,   2.]),\n",
       " array([ 4.92 ,  5.894,  6.868,  7.842,  8.816,  9.79 ]),\n",
       " <a list of 5 Patch objects>)"
      ]
     },
     "execution_count": 16,
     "metadata": {},
     "output_type": "execute_result"
    },
    {
     "data": {
      "image/png": "[encoded data removed]",
      "text/plain": [
       "<matplotlib.figure.Figure at 0xa7094a8>"
      ]
     },
     "metadata": {},
     "output_type": "display_data"
    }
   ],
   "source": [
    "dt2 = dt[dt>0]\n",
    "\n",
    "print np.mean(dt2)\n",
    "print np.median(dt2)\n",
    "print np.std(dt2)\n",
    "\n",
    "print np.max(dt2)\n",
    "print np.min(dt2)\n",
    "\n",
    "plt.hist(dt2, bins = 5, color='red')"
   ]
  },
  {
   "cell_type": "markdown",
   "metadata": {},
   "source": [
    "# Problem 2: Plotting parabolas\n",
    "Write Python code that produces the following figure:\n",
    "\n",
    "(You might want to make use of the `np.linspace` function)"
   ]
  },
  {
   "cell_type": "markdown",
   "metadata": {},
   "source": [
    "![alt text](http://www.cs.ucl.ac.uk/scipython/img/a4_parabolas.png \"Parabolas\")"
   ]
  },
  {
   "cell_type": "code",
   "execution_count": 31,
   "metadata": {
    "collapsed": false
   },
   "outputs": [
    {
     "data": {
      "text/plain": [
       "<matplotlib.legend.Legend at 0xd963470>"
      ]
     },
     "execution_count": 31,
     "metadata": {},
     "output_type": "execute_result"
    },
    {
     "data": {
      "image/png": "[encoded data removed]",
      "text/plain": [
       "<matplotlib.figure.Figure at 0xd3338d0>"
      ]
     },
     "metadata": {},
     "output_type": "display_data"
    }
   ],
   "source": [
    "\n",
    "def f1(x):\n",
    "    return 2*x**2+3\n",
    "\n",
    "def f2(x):\n",
    "    return 5*x**2+3\n",
    "\n",
    "\n",
    "x=np.linspace(-3,3,1000)\n",
    "y1 = [f1(i) for i in x]\n",
    "y2 = [f2(i) for i in x]\n",
    "\n",
    "plt.plot(x,y1, color = 'black', linestyle = '--')\n",
    "plt.plot(x,y2, color = 'red')\n",
    "plt.title('Some parabolas')\n",
    "plt.xlabel('x')\n",
    "plt.ylabel('y')\n",
    "plt.legend([r'$f(x) = 2x^{2} + 3$', r'$f(x) = 5x^{2} + 3$'])\n"
   ]
  },
  {
   "cell_type": "markdown",
   "metadata": {},
   "source": [
    "# Problem 3: Healthy Breakfast\n",
    "In this exercise we will do some simple analyses on a data set that contains information about 77 types of breakfast cereal. You can read about the data set at [CMU's website](http://lib.stat.cmu.edu/DASL/Stories/HealthyBreakfast.html). Download the files [cereal.csv](http://www.cs.ucl.ac.uk/scipython/resources/cereal.txt) from the course website. Below you can find a small code snippet to get you started on  reading the data set from the file."
   ]
  },
  {
   "cell_type": "code",
   "execution_count": 32,
   "metadata": {
    "collapsed": false
   },
   "outputs": [],
   "source": [
    "%matplotlib inline"
   ]
  },
  {
   "cell_type": "code",
   "execution_count": 34,
   "metadata": {
    "collapsed": false
   },
   "outputs": [
    {
     "data": {
      "image/png": "[encoded data removed]",
      "text/plain": [
       "<matplotlib.figure.Figure at 0xe222d30>"
      ]
     },
     "metadata": {},
     "output_type": "display_data"
    }
   ],
   "source": [
    "import pandas as pd\n",
    "import matplotlib.pylab as plt\n",
    "import numpy as np\n",
    "\n",
    "def getData(filename='cereal.txt'):\n",
    "    \"\"\"\n",
    "    Reads space separated CSV into a Pandas Dataframe\n",
    "    \"\"\"\n",
    "    col_labels = [\"name\", \"mfr\", \"type\", \"calories (number)\", \"protein (g)\", \"fat (g)\", \"sodium (mg)\", \n",
    "                      \"dietary fiber (g)\", \"complex carbohydrates (g)\", \"sugars (g)\", \n",
    "                      \"display shelf\", \"potassium (mg)\", \n",
    "                      \"vitamins and minerals\", \n",
    "                      \"weight (in ounces) of one serving (serving size)\", \"cups per serving\"]\n",
    "\n",
    "    df = pd.read_csv(filename, sep=' ', header=None, names=col_labels)\n",
    "    \n",
    "    return df\n",
    "\n",
    "def plotFatVsCalories(df):    \n",
    "    \"\"\"\n",
    "    Plots fat content vs calories\n",
    "    \"\"\"\n",
    "    \n",
    "    fat = df['fat (g)']\n",
    "    calories = df['calories (number)']\n",
    "    \n",
    "    plt.plot(fat, calories ,'kx')\n",
    "    plt.xlabel('fat (g)')\n",
    "    plt.ylabel('calories (number)')\n",
    "    plt.grid()\n",
    "\n",
    "    # fit a line through the points\n",
    "    coefficients = np.polyfit(fat, calories, 1)\n",
    "    poly = np.poly1d(coefficients)\n",
    "    plt.plot(fat,poly(fat), 'r-')\n",
    "\n",
    "\n",
    "df = getData()\n",
    "plotFatVsCalories(df)"
   ]
  },
  {
   "cell_type": "markdown",
   "metadata": {},
   "source": [
    "Please complete the following tasks:\n",
    "\n",
    "> **1.** Compute the average number of calories, as well as the average amount of complex carbohydrates and sugars in the data set."
   ]
  },
  {
   "cell_type": "code",
   "execution_count": 44,
   "metadata": {
    "collapsed": false
   },
   "outputs": [
    {
     "name": "stdout",
     "output_type": "stream",
     "text": [
      "name                                                100%_Bran\n",
      "mfr                                                         N\n",
      "type                                                        C\n",
      "calories (number)                                          70\n",
      "protein (g)                                                 4\n",
      "fat (g)                                                     1\n",
      "sodium (mg)                                               130\n",
      "dietary fiber (g)                                          10\n",
      "complex carbohydrates (g)                                   5\n",
      "sugars (g)                                                  6\n",
      "display shelf                                               3\n",
      "potassium (mg)                                            280\n",
      "vitamins and minerals                                      25\n",
      "weight (in ounces) of one serving (serving size)            1\n",
      "cups per serving                                         0.33\n",
      "Name: 0, dtype: object\n",
      "['average calories', 106.88311688311688]\n",
      "['average complex carbs', 14.597402597402597]\n",
      "['average sugars', 6.922077922077922]\n"
     ]
    }
   ],
   "source": [
    "#print df\n",
    "\n",
    "print(df.ix[0])\n",
    "\n",
    "print(['average calories', df['calories (number)'].mean()])\n",
    "print(['average complex carbs', df['complex carbohydrates (g)'].mean()])\n",
    "print(['average sugars', df['sugars (g)'].mean()])\n"
   ]
  },
  {
   "cell_type": "markdown",
   "metadata": {},
   "source": [
    "> **2.** What is the name of the cereal that has the highest sugar content?"
   ]
  },
  {
   "cell_type": "code",
   "execution_count": 48,
   "metadata": {
    "collapsed": false
   },
   "outputs": [
    {
     "name": "stdout",
     "output_type": "stream",
     "text": [
      "name                                                Golden_Crisp\n",
      "mfr                                                            P\n",
      "type                                                           C\n",
      "calories (number)                                            100\n",
      "protein (g)                                                    2\n",
      "fat (g)                                                        0\n",
      "sodium (mg)                                                   45\n",
      "dietary fiber (g)                                              0\n",
      "complex carbohydrates (g)                                     11\n",
      "sugars (g)                                                    15\n",
      "display shelf                                                  1\n",
      "potassium (mg)                                                40\n",
      "vitamins and minerals                                         25\n",
      "weight (in ounces) of one serving (serving size)               1\n",
      "cups per serving                                            0.88\n",
      "Name: 30, dtype: object\n"
     ]
    }
   ],
   "source": [
    "maxid = df['sugars (g)'].argmax()\n",
    "\n",
    "print(df.ix[maxid])"
   ]
  },
  {
   "cell_type": "markdown",
   "metadata": {},
   "source": [
    "> **3.** The 8th column of the data set contains the shelf at which the cereal is displayed in the supermarket (either 1, 2, or 3). Compute the mean number of calories of the cereals displayed in each shelf. If you do this correctly you should find the the cereals displayed on the middle shelf have a higher calory content on average. "
   ]
  },
  {
   "cell_type": "code",
   "execution_count": 57,
   "metadata": {
    "collapsed": false
   },
   "outputs": [
    {
     "data": {
      "text/plain": [
       "display shelf\n",
       "1    102.500000\n",
       "2    109.523810\n",
       "3    107.777778\n",
       "Name: calories (number), dtype: float64"
      ]
     },
     "execution_count": 57,
     "metadata": {},
     "output_type": "execute_result"
    }
   ],
   "source": [
    "df.groupby('display shelf')['calories (number)'].mean()"
   ]
  },
  {
   "cell_type": "markdown",
   "metadata": {},
   "source": [
    "> **4.** Make a box plot showing the sugar content of cereals grouped by shelf (recreating the plot that you'll find on the homepage for this data set). "
   ]
  },
  {
   "cell_type": "code",
   "execution_count": null,
   "metadata": {
    "collapsed": false
   },
   "outputs": [],
   "source": []
  },
  {
   "cell_type": "markdown",
   "metadata": {},
   "source": [
    "> **5.** Explore the data set by plotting and regressing the different variables against each other."
   ]
  },
  {
   "cell_type": "code",
   "execution_count": null,
   "metadata": {
    "collapsed": false
   },
   "outputs": [],
   "source": []
  },
  {
   "cell_type": "markdown",
   "metadata": {},
   "source": [
    "# Problem 4: Chocolate makes you faster?\n",
    "Your colleague (a psychologist) has conducted an experiment where he measured subjects' performance on a memory and a reaction time task. He claims to have found a correlation between the two, but you are sceptical, because you know your colleague is not very good at clicking buttons in SPSS. Luckily, you can convince your colleague to give you his data file so you can assess his claims. \n",
    " \n",
    "> **1.** He gives you the file [experiment.csv](http://www.cs.ucl.ac.uk/scipython/resources/experiment.csv). It contains one line per subject, and each line contains the values for the following variables that he measured: `height`, `weight`, `amount-chocolate`, `task-one-score`, `task-two-score`. (He allowed the participants to eat chocolate during the experiment, and the third column shows the amount of chocolate they ate in grams.) Load the data into an array. \n",
    "\n",
    "> You can choose whether to use Pandas or Numpy for this exercise - or both!"
   ]
  },
  {
   "cell_type": "code",
   "execution_count": null,
   "metadata": {
    "collapsed": false
   },
   "outputs": [],
   "source": []
  },
  {
   "cell_type": "markdown",
   "metadata": {},
   "source": [
    "> **2.** As a sanity check, create a scatter plot of height vs. weight. These two should clearly be correlated and you should see a straight line relationship."
   ]
  },
  {
   "cell_type": "code",
   "execution_count": null,
   "metadata": {
    "collapsed": false
   },
   "outputs": [],
   "source": []
  },
  {
   "cell_type": "markdown",
   "metadata": {},
   "source": [
    "> **3.** To assess your colleague's claim, first create a box plot of the scores in task 1 and task 2. Also, compute the correlation between the two (using Pearson's $r$) and check whether it is significant. _Hint_: Use the function `scipy.stats.pearsonr`."
   ]
  },
  {
   "cell_type": "code",
   "execution_count": null,
   "metadata": {
    "collapsed": false
   },
   "outputs": [],
   "source": []
  },
  {
   "cell_type": "markdown",
   "metadata": {},
   "source": [
    "> **4.** When your colleague hears about your results, he is a bit disappointed. However, he already has a new hypothesis: maybe chocolate is acting as a promoter somehow and the amount of chocolate consumed has some effect? Create some plots and hypothesis tests to assess this new hypothesis. "
   ]
  },
  {
   "cell_type": "code",
   "execution_count": null,
   "metadata": {
    "collapsed": false
   },
   "outputs": [],
   "source": []
  },
  {
   "cell_type": "markdown",
   "metadata": {},
   "source": [
    "> **5.** After you come back with your results, your colleague has one last idea: Maybe you need to eat more than some critical amount of chocolate (which depends on your body mass index) in order for there to be a correlation between the two tasks? He guesses that you need to eat at least six times your BMI in chocolate in order for the correlation to show up. You think your colleague is crazy, but go ahead an test his claim. What do you find? Again, produce some figures, compute correlations and test for significance."
   ]
  },
  {
   "cell_type": "code",
   "execution_count": null,
   "metadata": {
    "collapsed": false
   },
   "outputs": [],
   "source": []
  }
 ],
 "metadata": {
  "kernelspec": {
   "display_name": "Python 2",
   "language": "python",
   "name": "python2"
  },
  "language_info": {
   "codemirror_mode": {
    "name": "ipython",
    "version": 2
   },
   "file_extension": ".py",
   "mimetype": "text/x-python",
   "name": "python",
   "nbconvert_exporter": "python",
   "pygments_lexer": "ipython2",
   "version": "2.7.11"
  }
 },
 "nbformat": 4,
 "nbformat_minor": 0
}
