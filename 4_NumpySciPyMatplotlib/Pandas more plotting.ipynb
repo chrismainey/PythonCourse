{
 "cells": [
  {
   "cell_type": "markdown",
   "metadata": {},
   "source": [
    "# Pandas is really useful for analysis, numbers and text types, e.g. sort of thing you might do in R.\n",
    "\n",
    "Going to work with students.csv"
   ]
  },
  {
   "cell_type": "code",
   "execution_count": 1,
   "metadata": {
    "collapsed": true
   },
   "outputs": [],
   "source": [
    "import pandas as pd"
   ]
  },
  {
   "cell_type": "code",
   "execution_count": 4,
   "metadata": {
    "collapsed": false
   },
   "outputs": [],
   "source": [
    "students = pd.read_csv('students.csv')"
   ]
  },
  {
   "cell_type": "markdown",
   "metadata": {},
   "source": [
    "This creates a Pandas data frame"
   ]
  },
  {
   "cell_type": "code",
   "execution_count": 3,
   "metadata": {
    "collapsed": false
   },
   "outputs": [
    {
     "name": "stdout",
     "output_type": "stream",
     "text": [
      "   StudentID             Name    Course  AmountOwed\n",
      "0     123410         John Doe  Medicine         2.3\n",
      "1     102100     Alice Carter   CompSci         0.0\n",
      "2     102101       Paul Smith  Medicine         3.9\n",
      "3     100201        Tom Jones     Music         1.0\n",
      "4     102001  Richard Dunning   Physics         0.0\n",
      "5     102012       Reg Dwight     Music        10.9\n",
      "6     102014       Joe Turner   Physics         1.2\n",
      "7     102019         Ed Chalk   CompSci         0.0\n"
     ]
    }
   ],
   "source": [
    "print(students)"
   ]
  },
  {
   "cell_type": "code",
   "execution_count": 16,
   "metadata": {
    "collapsed": false
   },
   "outputs": [
    {
     "name": "stdout",
     "output_type": "stream",
     "text": [
      "0           John Doe\n",
      "1       Alice Carter\n",
      "2         Paul Smith\n",
      "3          Tom Jones\n",
      "4    Richard Dunning\n",
      "5         Reg Dwight\n",
      "6         Joe Turner\n",
      "7           Ed Chalk\n",
      "Name: Name, dtype: object\n",
      "0           John Doe\n",
      "1       Alice Carter\n",
      "2         Paul Smith\n",
      "3          Tom Jones\n",
      "4    Richard Dunning\n",
      "5         Reg Dwight\n",
      "6         Joe Turner\n",
      "7           Ed Chalk\n",
      "Name: Name, dtype: object\n"
     ]
    }
   ],
   "source": [
    "#select columns, returns another data frames (sub frame)\n",
    "print students['Name']\n",
    "\n",
    "#or\n",
    "\n",
    "print(students.Name)"
   ]
  },
  {
   "cell_type": "code",
   "execution_count": 9,
   "metadata": {
    "collapsed": false
   },
   "outputs": [
    {
     "name": "stdout",
     "output_type": "stream",
     "text": [
      "3          Tom Jones\n",
      "4    Richard Dunning\n",
      "5         Reg Dwight\n",
      "6         Joe Turner\n",
      "7           Ed Chalk\n",
      "Name: Name, dtype: object\n"
     ]
    }
   ],
   "source": [
    "\n",
    "#can also sub-index this frame:\n",
    "print(students['Name'][3:])"
   ]
  },
  {
   "cell_type": "code",
   "execution_count": 10,
   "metadata": {
    "collapsed": false
   },
   "outputs": [
    {
     "name": "stdout",
     "output_type": "stream",
     "text": [
      "StudentID         102014\n",
      "Name          Joe Turner\n",
      "Course           Physics\n",
      "AmountOwed           1.2\n",
      "Name: 6, dtype: object\n"
     ]
    }
   ],
   "source": [
    "#to refer to rows instead\n",
    "print(students.ix[6])"
   ]
  },
  {
   "cell_type": "code",
   "execution_count": 44,
   "metadata": {
    "collapsed": false
   },
   "outputs": [
    {
     "name": "stdout",
     "output_type": "stream",
     "text": [
      "Index([u'StudentID', u'Name', u'Course', u'AmountOwed'], dtype='object')\n"
     ]
    }
   ],
   "source": [
    "print(students.columns)"
   ]
  },
  {
   "cell_type": "code",
   "execution_count": 17,
   "metadata": {
    "collapsed": false
   },
   "outputs": [
    {
     "data": {
      "text/plain": [
       "19.3"
      ]
     },
     "execution_count": 17,
     "metadata": {},
     "output_type": "execute_result"
    }
   ],
   "source": [
    "students['AmountOwed'].sum()"
   ]
  },
  {
   "cell_type": "markdown",
   "metadata": {},
   "source": [
    "Using argmax to get the entry with the most owed out"
   ]
  },
  {
   "cell_type": "code",
   "execution_count": 22,
   "metadata": {
    "collapsed": true
   },
   "outputs": [],
   "source": [
    "maxidx =students['AmountOwed'].argmax()  #  this returns the index of the maximum in the column selected"
   ]
  },
  {
   "cell_type": "code",
   "execution_count": 23,
   "metadata": {
    "collapsed": false
   },
   "outputs": [
    {
     "data": {
      "text/plain": [
       "StudentID         102012\n",
       "Name          Reg Dwight\n",
       "Course             Music\n",
       "AmountOwed          10.9\n",
       "Name: 5, dtype: object"
      ]
     },
     "execution_count": 23,
     "metadata": {},
     "output_type": "execute_result"
    }
   ],
   "source": [
    "students.ix[maxidx]"
   ]
  },
  {
   "cell_type": "markdown",
   "metadata": {},
   "source": [
    "Example of finding the max"
   ]
  },
  {
   "cell_type": "code",
   "execution_count": 28,
   "metadata": {
    "collapsed": false
   },
   "outputs": [
    {
     "name": "stdout",
     "output_type": "stream",
     "text": [
      "1\n"
     ]
    },
    {
     "data": {
      "text/plain": [
       "array([1, 2], dtype=int64)"
      ]
     },
     "execution_count": 28,
     "metadata": {},
     "output_type": "execute_result"
    }
   ],
   "source": [
    "import numpy as np\n",
    "a = np.array([1,2,2,0,0])\n",
    "print(a.argmax())\n",
    "np.where(a==a.max())[0]"
   ]
  },
  {
   "cell_type": "code",
   "execution_count": 30,
   "metadata": {
    "collapsed": false
   },
   "outputs": [
    {
     "name": "stdout",
     "output_type": "stream",
     "text": [
      "Medicine\n"
     ]
    }
   ],
   "source": [
    "print (students.ix[2]['Course'])"
   ]
  },
  {
   "cell_type": "code",
   "execution_count": 31,
   "metadata": {
    "collapsed": false
   },
   "outputs": [
    {
     "name": "stdout",
     "output_type": "stream",
     "text": [
      "Medicine\n"
     ]
    }
   ],
   "source": [
    "print (students['Course'][2])"
   ]
  },
  {
   "cell_type": "code",
   "execution_count": 33,
   "metadata": {
    "collapsed": false
   },
   "outputs": [
    {
     "name": "stdout",
     "output_type": "stream",
     "text": [
      "     Course             Name\n",
      "0  Medicine         John Doe\n",
      "1   CompSci     Alice Carter\n",
      "2  Medicine       Paul Smith\n",
      "3     Music        Tom Jones\n",
      "4   Physics  Richard Dunning\n",
      "5     Music       Reg Dwight\n",
      "6   Physics       Joe Turner\n",
      "7   CompSci         Ed Chalk\n"
     ]
    }
   ],
   "source": [
    "print (students[['Course', 'Name']])"
   ]
  },
  {
   "cell_type": "markdown",
   "metadata": {},
   "source": [
    "Can still do all the same boolean operations as in numpy"
   ]
  },
  {
   "cell_type": "code",
   "execution_count": 36,
   "metadata": {
    "collapsed": false
   },
   "outputs": [
    {
     "data": {
      "text/plain": [
       "0    False\n",
       "1    False\n",
       "2     True\n",
       "3    False\n",
       "4    False\n",
       "5     True\n",
       "6    False\n",
       "7    False\n",
       "Name: AmountOwed, dtype: bool"
      ]
     },
     "execution_count": 36,
     "metadata": {},
     "output_type": "execute_result"
    }
   ],
   "source": [
    "students['AmountOwed'] >3 "
   ]
  },
  {
   "cell_type": "code",
   "execution_count": 39,
   "metadata": {
    "collapsed": false
   },
   "outputs": [
    {
     "name": "stdout",
     "output_type": "stream",
     "text": [
      "   StudentID        Name    Course  AmountOwed\n",
      "2     102101  Paul Smith  Medicine         3.9\n",
      "5     102012  Reg Dwight     Music        10.9\n"
     ]
    }
   ],
   "source": [
    "owes_more_than3 = students['AmountOwed']>3\n",
    "print(students.ix[owes_more_than3])"
   ]
  },
  {
   "cell_type": "markdown",
   "metadata": {},
   "source": [
    "Can us describe similar to R"
   ]
  },
  {
   "cell_type": "code",
   "execution_count": 40,
   "metadata": {
    "collapsed": false
   },
   "outputs": [
    {
     "name": "stdout",
     "output_type": "stream",
     "text": [
      "           StudentID  AmountOwed\n",
      "count       8.000000      8.0000\n",
      "mean   104482.250000      2.4125\n",
      "std      7675.125718      3.6876\n",
      "min    100201.000000      0.0000\n",
      "25%    102009.250000      0.0000\n",
      "50%    102016.500000      1.1000\n",
      "75%    102100.250000      2.7000\n",
      "max    123410.000000     10.9000\n"
     ]
    }
   ],
   "source": [
    "print(students.describe())"
   ]
  },
  {
   "cell_type": "code",
   "execution_count": null,
   "metadata": {
    "collapsed": true
   },
   "outputs": [],
   "source": [
    "Can use group by, as sql syle group by "
   ]
  },
  {
   "cell_type": "code",
   "execution_count": 43,
   "metadata": {
    "collapsed": false
   },
   "outputs": [
    {
     "name": "stdout",
     "output_type": "stream",
     "text": [
      "Course\n",
      "CompSci     0.00\n",
      "Medicine    3.10\n",
      "Music       5.95\n",
      "Physics     0.60\n",
      "Name: AmountOwed, dtype: float64\n"
     ]
    }
   ],
   "source": [
    "print(students.groupby('Course')['AmountOwed'].mean())"
   ]
  },
  {
   "cell_type": "code",
   "execution_count": null,
   "metadata": {
    "collapsed": true
   },
   "outputs": [],
   "source": [
    "print(students.groupby('Course')['AmountOwed'].mean(), students.groupby('Course')['AmountOwed'].count())"
   ]
  }
 ],
 "metadata": {
  "kernelspec": {
   "display_name": "Python 2",
   "language": "python",
   "name": "python2"
  },
  "language_info": {
   "codemirror_mode": {
    "name": "ipython",
    "version": 2
   },
   "file_extension": ".py",
   "mimetype": "text/x-python",
   "name": "python",
   "nbconvert_exporter": "python",
   "pygments_lexer": "ipython2",
   "version": "2.7.12"
  }
 },
 "nbformat": 4,
 "nbformat_minor": 0
}
