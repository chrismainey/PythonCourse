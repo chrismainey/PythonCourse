{
 "cells": [
  {
   "cell_type": "markdown",
   "metadata": {},
   "source": [
    "Imagine you have some reaction times and you want to calcualte the mean:"
   ]
  },
  {
   "cell_type": "code",
   "execution_count": 3,
   "metadata": {
    "collapsed": false
   },
   "outputs": [],
   "source": [
    "reaction_list = [10.2, 11.3, 12.0, 9.6, 8.2, 12.3, 10.0, 8.3]"
   ]
  },
  {
   "cell_type": "code",
   "execution_count": 7,
   "metadata": {
    "collapsed": false
   },
   "outputs": [
    {
     "name": "stdout",
     "output_type": "stream",
     "text": [
      "10.2375\n"
     ]
    }
   ],
   "source": [
    "N = len(reaction_list)\n",
    "total = 0\n",
    "for time in reaction_list:\n",
    "    total +=time\n",
    "average = total /N\n",
    "print average"
   ]
  },
  {
   "cell_type": "markdown",
   "metadata": {},
   "source": [
    "If you are doing generic numerica operations, good chance some one has done it before and it is included in numpy"
   ]
  },
  {
   "cell_type": "markdown",
   "metadata": {},
   "source": [
    "Numpy is a big fan of arrays, so after import, we convert to array"
   ]
  },
  {
   "cell_type": "code",
   "execution_count": 9,
   "metadata": {
    "collapsed": true
   },
   "outputs": [],
   "source": [
    "import numpy as np"
   ]
  },
  {
   "cell_type": "code",
   "execution_count": 14,
   "metadata": {
    "collapsed": true
   },
   "outputs": [],
   "source": [
    "reactions_array = np.array(reaction_list)"
   ]
  },
  {
   "cell_type": "code",
   "execution_count": 16,
   "metadata": {
    "collapsed": false
   },
   "outputs": [
    {
     "name": "stdout",
     "output_type": "stream",
     "text": [
      "[ 10.2  11.3  12.    9.6   8.2  12.3  10.    8.3]\n"
     ]
    }
   ],
   "source": [
    "print reactions_array"
   ]
  },
  {
   "cell_type": "code",
   "execution_count": 17,
   "metadata": {
    "collapsed": false
   },
   "outputs": [
    {
     "name": "stdout",
     "output_type": "stream",
     "text": [
      "10.2375\n"
     ]
    }
   ],
   "source": [
    "print np.mean(reactions_array)"
   ]
  },
  {
   "cell_type": "code",
   "execution_count": 19,
   "metadata": {
    "collapsed": false
   },
   "outputs": [
    {
     "name": "stdout",
     "output_type": "stream",
     "text": [
      "10.1\n"
     ]
    }
   ],
   "source": [
    "print(np.median(reactions_array))"
   ]
  },
  {
   "cell_type": "markdown",
   "metadata": {},
   "source": [
    "There is also another syntax option:"
   ]
  },
  {
   "cell_type": "code",
   "execution_count": 21,
   "metadata": {
    "collapsed": false
   },
   "outputs": [
    {
     "name": "stdout",
     "output_type": "stream",
     "text": [
      "10.2375\n"
     ]
    }
   ],
   "source": [
    "print(reactions_array.mean())"
   ]
  },
  {
   "cell_type": "markdown",
   "metadata": {},
   "source": [
    "As the array is all same formatted numerics, can do thing that you couldn't with lists, like directly add to them."
   ]
  },
  {
   "cell_type": "code",
   "execution_count": 49,
   "metadata": {
    "collapsed": false
   },
   "outputs": [
    {
     "name": "stdout",
     "output_type": "stream",
     "text": [
      "[ 26.4  27.5  28.2  25.8  24.4  28.5  26.2  24.5]\n"
     ]
    }
   ],
   "source": [
    "print(reactions_array +10)"
   ]
  },
  {
   "cell_type": "markdown",
   "metadata": {},
   "source": [
    "In terms of storage, python sees everything as objects and treates them all the same.  It passess arguments to objects and the object deals with them. e.g. object + 10 would add 10 to an object and if tht object can do that, it won't return error. e.g. numpy array will accept it, but a list wouldn't.  List might store in (lets call it a cell) a reference to where the data is, wheras array stores the number."
   ]
  },
  {
   "cell_type": "code",
   "execution_count": 25,
   "metadata": {
    "collapsed": false
   },
   "outputs": [
    {
     "name": "stdout",
     "output_type": "stream",
     "text": [
      "[-0.69987469 -0.95401925 -0.53657292 -0.17432678  0.94073056 -0.26323179\n",
      " -0.54402111  0.90217183]\n"
     ]
    }
   ],
   "source": [
    "print(np.sin(reactions_array))"
   ]
  },
  {
   "cell_type": "code",
   "execution_count": 26,
   "metadata": {
    "collapsed": true
   },
   "outputs": [],
   "source": [
    "a = np.array([1,2,6,10])\n",
    "b = np.array([10,30,40,50])"
   ]
  },
  {
   "cell_type": "code",
   "execution_count": 27,
   "metadata": {
    "collapsed": false
   },
   "outputs": [
    {
     "name": "stdout",
     "output_type": "stream",
     "text": [
      "[11 32 46 60]\n"
     ]
    }
   ],
   "source": [
    "print(a+b) # they are numerics, so don't concatenate or display together, they combine in arithmetic"
   ]
  },
  {
   "cell_type": "code",
   "execution_count": 48,
   "metadata": {
    "collapsed": true
   },
   "outputs": [],
   "source": [
    "reactions_array = reactions_array /2"
   ]
  },
  {
   "cell_type": "markdown",
   "metadata": {},
   "source": [
    "In multiplication, python does this element-wise(which is different from matlab)"
   ]
  },
  {
   "cell_type": "markdown",
   "metadata": {},
   "source": [
    "How could you handle arrays?  Typically, its hard to extend an array, so you create a new one with the parts of the old one you require."
   ]
  },
  {
   "cell_type": "code",
   "execution_count": 56,
   "metadata": {
    "collapsed": false
   },
   "outputs": [
    {
     "name": "stdout",
     "output_type": "stream",
     "text": [
      "[False False  True False False  True False False]\n",
      "[ 18.2  18.5]\n"
     ]
    }
   ],
   "source": [
    "print reactions_array >18\n",
    "print reactions_array[reactions_array >18]"
   ]
  },
  {
   "cell_type": "markdown",
   "metadata": {},
   "source": [
    "To bring back the index or the value"
   ]
  },
  {
   "cell_type": "code",
   "execution_count": 55,
   "metadata": {
    "collapsed": false
   },
   "outputs": [
    {
     "name": "stdout",
     "output_type": "stream",
     "text": [
      "[2 5]\n"
     ]
    }
   ],
   "source": [
    "print (np.where(reactions_array >18)[0])"
   ]
  },
  {
   "cell_type": "code",
   "execution_count": 57,
   "metadata": {
    "collapsed": false
   },
   "outputs": [
    {
     "name": "stdout",
     "output_type": "stream",
     "text": [
      "float64\n"
     ]
    }
   ],
   "source": [
    "print(reactions_array.dtype)"
   ]
  },
  {
   "cell_type": "markdown",
   "metadata": {},
   "source": [
    "Lets say you want to truncate after 18,as it's not possible to go above 18 in your experiment:"
   ]
  },
  {
   "cell_type": "code",
   "execution_count": 58,
   "metadata": {
    "collapsed": true
   },
   "outputs": [],
   "source": [
    "reactions_array[reactions_array >18] = 18"
   ]
  },
  {
   "cell_type": "code",
   "execution_count": 59,
   "metadata": {
    "collapsed": false
   },
   "outputs": [
    {
     "name": "stdout",
     "output_type": "stream",
     "text": [
      "[ 16.4  17.5  18.   15.8  14.4  18.   16.2  14.5]\n"
     ]
    }
   ],
   "source": [
    "print(reactions_array)"
   ]
  },
  {
   "cell_type": "markdown",
   "metadata": {},
   "source": [
    "Storage-wise, as list is not contiguous in memory.  Position 1 in list points to the area of memory that contains the data, position 1 itself does not hold the data.  When you appeand to a lits, a new pointer is added easily.  To get to your item, you need to naviaget the list.  For an array, you specify the size at the outset to hold the space.  If you try to extend it, the next space may already be ocupied.  To add two arrays together, you need to find some space large enough for the two arrays to create in.\n",
    "\n",
    "How to extend an array:"
   ]
  },
  {
   "cell_type": "code",
   "execution_count": 60,
   "metadata": {
    "collapsed": false
   },
   "outputs": [
    {
     "name": "stdout",
     "output_type": "stream",
     "text": [
      "[ 1  2  6 10]\n",
      "[10 30 40 50]\n"
     ]
    }
   ],
   "source": [
    "print a\n",
    "print b"
   ]
  },
  {
   "cell_type": "code",
   "execution_count": 67,
   "metadata": {
    "collapsed": false
   },
   "outputs": [
    {
     "name": "stdout",
     "output_type": "stream",
     "text": [
      "[ 1  2  6 10 10 30 40 50]\n"
     ]
    }
   ],
   "source": [
    "c = np.hstack((a,b))  # horizontal stack\n",
    "print c"
   ]
  },
  {
   "cell_type": "markdown",
   "metadata": {},
   "source": [
    "You can use the boolean indexing demonstrated above with the square brackets (e.g. <), but can also directly use the indexing position"
   ]
  },
  {
   "cell_type": "code",
   "execution_count": 64,
   "metadata": {
    "collapsed": false
   },
   "outputs": [
    {
     "name": "stdout",
     "output_type": "stream",
     "text": [
      "15.8\n"
     ]
    }
   ],
   "source": [
    "print reactions_array[3]"
   ]
  },
  {
   "cell_type": "code",
   "execution_count": 66,
   "metadata": {
    "collapsed": false
   },
   "outputs": [
    {
     "name": "stdout",
     "output_type": "stream",
     "text": [
      "[[ 1  2  6 10]\n",
      " [10 30 40 50]]\n",
      "(2L, 4L)\n"
     ]
    }
   ],
   "source": [
    "d = np.vstack((a,b))  # vertical stack\n",
    "print d\n",
    "print d.shape"
   ]
  },
  {
   "cell_type": "markdown",
   "metadata": {},
   "source": [
    "lots of useful fucntinso in numpy, many of which you won't find out unless you need them. Well optimised for linear algebra, value decomposition, eigen values, eigen vectors etc.  Here are some useful bits:"
   ]
  },
  {
   "cell_type": "code",
   "execution_count": 70,
   "metadata": {
    "collapsed": false
   },
   "outputs": [
    {
     "name": "stdout",
     "output_type": "stream",
     "text": [
      "[[11 12 14 ..., 16 12 19]\n",
      " [19 16 19 ..., 18 19 18]\n",
      " [13 14 14 ..., 10 18 15]\n",
      " ..., \n",
      " [13 14 19 ..., 17 17 18]\n",
      " [16 17 13 ..., 12 17 11]\n",
      " [14 10 15 ..., 10 14 15]]\n"
     ]
    }
   ],
   "source": [
    "print np.random.randint(10, 20, (100, 100))"
   ]
  },
  {
   "cell_type": "code",
   "execution_count": 72,
   "metadata": {
    "collapsed": false
   },
   "outputs": [
    {
     "data": {
      "text/plain": [
       "array([ 0,  1,  2,  3,  4,  5,  6,  7,  8,  9, 10, 11, 12, 13, 14, 15, 16,\n",
       "       17, 18, 19, 20, 21, 22, 23, 24, 25, 26, 27, 28, 29])"
      ]
     },
     "execution_count": 72,
     "metadata": {},
     "output_type": "execute_result"
    }
   ],
   "source": [
    "np.arange(30)"
   ]
  },
  {
   "cell_type": "code",
   "execution_count": 73,
   "metadata": {
    "collapsed": false
   },
   "outputs": [
    {
     "data": {
      "text/plain": [
       "array([ 0.        ,  0.02020202,  0.04040404,  0.06060606,  0.08080808,\n",
       "        0.1010101 ,  0.12121212,  0.14141414,  0.16161616,  0.18181818,\n",
       "        0.2020202 ,  0.22222222,  0.24242424,  0.26262626,  0.28282828,\n",
       "        0.3030303 ,  0.32323232,  0.34343434,  0.36363636,  0.38383838,\n",
       "        0.4040404 ,  0.42424242,  0.44444444,  0.46464646,  0.48484848,\n",
       "        0.50505051,  0.52525253,  0.54545455,  0.56565657,  0.58585859,\n",
       "        0.60606061,  0.62626263,  0.64646465,  0.66666667,  0.68686869,\n",
       "        0.70707071,  0.72727273,  0.74747475,  0.76767677,  0.78787879,\n",
       "        0.80808081,  0.82828283,  0.84848485,  0.86868687,  0.88888889,\n",
       "        0.90909091,  0.92929293,  0.94949495,  0.96969697,  0.98989899,\n",
       "        1.01010101,  1.03030303,  1.05050505,  1.07070707,  1.09090909,\n",
       "        1.11111111,  1.13131313,  1.15151515,  1.17171717,  1.19191919,\n",
       "        1.21212121,  1.23232323,  1.25252525,  1.27272727,  1.29292929,\n",
       "        1.31313131,  1.33333333,  1.35353535,  1.37373737,  1.39393939,\n",
       "        1.41414141,  1.43434343,  1.45454545,  1.47474747,  1.49494949,\n",
       "        1.51515152,  1.53535354,  1.55555556,  1.57575758,  1.5959596 ,\n",
       "        1.61616162,  1.63636364,  1.65656566,  1.67676768,  1.6969697 ,\n",
       "        1.71717172,  1.73737374,  1.75757576,  1.77777778,  1.7979798 ,\n",
       "        1.81818182,  1.83838384,  1.85858586,  1.87878788,  1.8989899 ,\n",
       "        1.91919192,  1.93939394,  1.95959596,  1.97979798,  2.        ])"
      ]
     },
     "execution_count": 73,
     "metadata": {},
     "output_type": "execute_result"
    }
   ],
   "source": [
    "np.linspace(0,2,100)  #  linear spaced.  100 evenly spaced numbers between 0 and 2"
   ]
  },
  {
   "cell_type": "code",
   "execution_count": 79,
   "metadata": {
    "collapsed": false
   },
   "outputs": [
    {
     "name": "stdout",
     "output_type": "stream",
     "text": [
      "[0 0 1 1 1 1 0 0 0 1 1 1 1 0 1 1 1 1 0 1 1 1 0 1 0 0 0 0 0 1 1 1 0 0 0 0 1\n",
      " 1 1 1 1 1 0 0 1 0 1 1 0 0 1 1 1 1 1 1 0 0 0 0 1 1 1 1 0 1 1 1 1 0 1 0 1 1\n",
      " 0 1 0 1 0 0 1 1 1 0 0 1 1 0 0 1 1 1 0 0 1 1 1 1 0 1]\n"
     ]
    }
   ],
   "source": [
    "print np.random.binomial(1, 0.6, 100)  #  100 values from binomial distribution with p = 0.6 "
   ]
  },
  {
   "cell_type": "markdown",
   "metadata": {},
   "source": [
    "# Matplotlib:  modelled after matlab plotting.  Fairly straightforward and nice looking.\n",
    "\n",
    "Huge code-base to mat plot-lib which can seem daunting.  Principle is that there are different levels to plot at, e.g. high level might be draw histogram, and low level might be colour this pixel green.\n",
    "\n",
    "The online gallery is a greate resource as it show plot and the clicking on the give you the code for them, that you can alter and apply:\n",
    "\n",
    "http://matplotlib.org/gallery.html\n",
    "\n",
    "Plotting happens at the end normally, but we will force it to be inline this time."
   ]
  },
  {
   "cell_type": "code",
   "execution_count": 81,
   "metadata": {
    "collapsed": false
   },
   "outputs": [],
   "source": [
    "%matplotlib inline"
   ]
  },
  {
   "cell_type": "code",
   "execution_count": 82,
   "metadata": {
    "collapsed": true
   },
   "outputs": [],
   "source": [
    "import matplotlib.pyplot as plt\n",
    "import numpy as np"
   ]
  },
  {
   "cell_type": "code",
   "execution_count": 95,
   "metadata": {
    "collapsed": false
   },
   "outputs": [
    {
     "data": {
      "text/plain": [
       "[<matplotlib.lines.Line2D at 0xbac6fd0>]"
      ]
     },
     "execution_count": 95,
     "metadata": {},
     "output_type": "execute_result"
    },
    {
     "data": {
      "image/png": "[encoded data removed]",
      "text/plain": [
       "<matplotlib.figure.Figure at 0xb845dd8>"
      ]
     },
     "metadata": {},
     "output_type": "display_data"
    }
   ],
   "source": [
    "y = np.array([1,3,5])\n",
    "\n",
    "plt.plot(y, marker = 'o', color='darksage')\n",
    "\n",
    "#we've called it y, but python assumes you are specifying y first and uses x asindex"
   ]
  },
  {
   "cell_type": "code",
   "execution_count": 96,
   "metadata": {
    "collapsed": false
   },
   "outputs": [
    {
     "name": "stdout",
     "output_type": "stream",
     "text": [
      "{u'indigo': u'#4B0082', u'gold': u'#FFD700', u'hotpink': u'#FF69B4', u'firebrick': u'#B22222', u'indianred': u'#CD5C5C', u'sage': u'#87AE73', u'yellow': u'#FFFF00', u'mistyrose': u'#FFE4E1', u'darkolivegreen': u'#556B2F', u'olive': u'#808000', u'darkseagreen': u'#8FBC8F', u'pink': u'#FFC0CB', u'tomato': u'#FF6347', u'lightcoral': u'#F08080', u'orangered': u'#FF4500', u'navajowhite': u'#FFDEAD', u'lime': u'#00FF00', u'palegreen': u'#98FB98', u'darkslategrey': u'#2F4F4F', u'greenyellow': u'#ADFF2F', u'burlywood': u'#DEB887', u'seashell': u'#FFF5EE', u'mediumspringgreen': u'#00FA9A', u'fuchsia': u'#FF00FF', u'papayawhip': u'#FFEFD5', u'blanchedalmond': u'#FFEBCD', u'chartreuse': u'#7FFF00', u'dimgray': u'#696969', u'black': u'#000000', u'peachpuff': u'#FFDAB9', u'springgreen': u'#00FF7F', u'aquamarine': u'#7FFFD4', u'white': u'#FFFFFF', u'orange': u'#FFA500', u'lightsalmon': u'#FFA07A', u'darkslategray': u'#2F4F4F', u'brown': u'#A52A2A', u'ivory': u'#FFFFF0', u'dodgerblue': u'#1E90FF', u'peru': u'#CD853F', u'darkgrey': u'#A9A9A9', u'lawngreen': u'#7CFC00', u'chocolate': u'#D2691E', u'crimson': u'#DC143C', u'forestgreen': u'#228B22', u'slateblue': u'#6A5ACD', u'lightseagreen': u'#20B2AA', u'cyan': u'#00FFFF', u'mintcream': u'#F5FFFA', u'silver': u'#C0C0C0', u'antiquewhite': u'#FAEBD7', u'mediumorchid': u'#BA55D3', u'skyblue': u'#87CEEB', u'gray': u'#808080', u'darkturquoise': u'#00CED1', u'goldenrod': u'#DAA520', u'darkgreen': u'#006400', u'floralwhite': u'#FFFAF0', u'darkviolet': u'#9400D3', u'darkgray': u'#A9A9A9', u'moccasin': u'#FFE4B5', u'saddlebrown': u'#8B4513', u'grey': u'#808080', u'darkslateblue': u'#483D8B', u'lightskyblue': u'#87CEFA', u'lightpink': u'#FFB6C1', u'mediumvioletred': u'#C71585', u'slategrey': u'#708090', u'red': u'#FF0000', u'deeppink': u'#FF1493', u'limegreen': u'#32CD32', u'darkmagenta': u'#8B008B', u'palegoldenrod': u'#EEE8AA', u'plum': u'#DDA0DD', u'turquoise': u'#40E0D0', u'lightgrey': u'#D3D3D3', u'lightgoldenrodyellow': u'#FAFAD2', u'darkgoldenrod': u'#B8860B', u'lavender': u'#E6E6FA', u'maroon': u'#800000', u'yellowgreen': u'#9ACD32', u'sandybrown': u'#FAA460', u'thistle': u'#D8BFD8', u'violet': u'#EE82EE', u'navy': u'#000080', u'magenta': u'#FF00FF', u'dimgrey': u'#696969', u'tan': u'#D2B48C', u'rosybrown': u'#BC8F8F', u'olivedrab': u'#6B8E23', u'blue': u'#0000FF', u'lightblue': u'#ADD8E6', u'ghostwhite': u'#F8F8FF', u'honeydew': u'#F0FFF0', u'cornflowerblue': u'#6495ED', u'linen': u'#FAF0E6', u'darkblue': u'#00008B', u'powderblue': u'#B0E0E6', u'seagreen': u'#2E8B57', u'darkkhaki': u'#BDB76B', u'snow': u'#FFFAFA', u'sienna': u'#A0522D', u'mediumblue': u'#0000CD', u'royalblue': u'#4169E1', u'lightcyan': u'#E0FFFF', u'green': u'#008000', u'mediumpurple': u'#9370DB', u'midnightblue': u'#191970', u'cornsilk': u'#FFF8DC', u'paleturquoise': u'#AFEEEE', u'bisque': u'#FFE4C4', u'slategray': u'#708090', u'darkcyan': u'#008B8B', u'khaki': u'#F0E68C', u'wheat': u'#F5DEB3', u'teal': u'#008080', u'darkorchid': u'#9932CC', u'deepskyblue': u'#00BFFF', u'salmon': u'#FA8072', u'darkred': u'#8B0000', u'steelblue': u'#4682B4', u'palevioletred': u'#DB7093', u'lightslategray': u'#778899', u'aliceblue': u'#F0F8FF', u'lightslategrey': u'#778899', u'lightgreen': u'#90EE90', u'orchid': u'#DA70D6', u'gainsboro': u'#DCDCDC', u'mediumseagreen': u'#3CB371', u'lightgray': u'#D3D3D3', u'mediumturquoise': u'#48D1CC', u'darksage': u'#598556', u'lemonchiffon': u'#FFFACD', u'cadetblue': u'#5F9EA0', u'lightyellow': u'#FFFFE0', u'lavenderblush': u'#FFF0F5', u'coral': u'#FF7F50', u'purple': u'#800080', u'aqua': u'#00FFFF', u'lightsage': u'#BCECAC', u'whitesmoke': u'#F5F5F5', u'mediumslateblue': u'#7B68EE', u'darkorange': u'#FF8C00', u'mediumaquamarine': u'#66CDAA', u'darksalmon': u'#E9967A', u'beige': u'#F5F5DC', u'blueviolet': u'#8A2BE2', u'azure': u'#F0FFFF', u'lightsteelblue': u'#B0C4DE', u'oldlace': u'#FDF5E6'}\n"
     ]
    },
    {
     "ename": "NameError",
     "evalue": "name 'markers' is not defined",
     "output_type": "error",
     "traceback": [
      "\u001b[1;31m---------------------------------------------------------------------------\u001b[0m",
      "\u001b[1;31mNameError\u001b[0m                                 Traceback (most recent call last)",
      "\u001b[1;32m<ipython-input-96-28f2e6bf7a4e>\u001b[0m in \u001b[0;36m<module>\u001b[1;34m()\u001b[0m\n\u001b[0;32m      2\u001b[0m \u001b[1;32mprint\u001b[0m \u001b[0mcolors\u001b[0m\u001b[1;33m.\u001b[0m\u001b[0mcnames\u001b[0m\u001b[1;33m\u001b[0m\u001b[0m\n\u001b[0;32m      3\u001b[0m \u001b[1;33m\u001b[0m\u001b[0m\n\u001b[1;32m----> 4\u001b[1;33m \u001b[1;32mprint\u001b[0m\u001b[1;33m(\u001b[0m\u001b[0mmarkers\u001b[0m\u001b[1;33m.\u001b[0m\u001b[0mMarkerStyle\u001b[0m\u001b[1;33m.\u001b[0m\u001b[0mmarkers\u001b[0m\u001b[1;33m)\u001b[0m\u001b[1;33m\u001b[0m\u001b[0m\n\u001b[0m",
      "\u001b[1;31mNameError\u001b[0m: name 'markers' is not defined"
     ]
    }
   ],
   "source": [
    "from matplotlib import colors\n",
    "print colors.cnames\n",
    "\n",
    "print(markers.MarkerStyle.markers)"
   ]
  },
  {
   "cell_type": "code",
   "execution_count": 100,
   "metadata": {
    "collapsed": false
   },
   "outputs": [
    {
     "data": {
      "text/plain": [
       "<matplotlib.text.Text at 0xbe39dd8>"
      ]
     },
     "execution_count": 100,
     "metadata": {},
     "output_type": "execute_result"
    },
    {
     "data": {
      "image/png": "[encoded data removed]",
      "text/plain": [
       "<matplotlib.figure.Figure at 0xc11beb8>"
      ]
     },
     "metadata": {},
     "output_type": "display_data"
    }
   ],
   "source": [
    "y = np.array([1,3,5])\n",
    "x = np.array([2,4,-1])\n",
    "\n",
    "plt.plot(x,y, marker = 'o', color='darksage')\n",
    "plt.xlim((min(x)-1, max(x)+1))\n",
    "plt.ylim((min(y)-1, max(y)+1))\n",
    "plt.title('my first plot')"
   ]
  },
  {
   "cell_type": "code",
   "execution_count": 126,
   "metadata": {
    "collapsed": false
   },
   "outputs": [],
   "source": [
    "def f(x):\n",
    "    return 2 * x**2 +3"
   ]
  },
  {
   "cell_type": "code",
   "execution_count": 112,
   "metadata": {
    "collapsed": false
   },
   "outputs": [
    {
     "name": "stdout",
     "output_type": "stream",
     "text": [
      "[-3, -2, -1, 0, 1, 2]\n"
     ]
    }
   ],
   "source": [
    "x = range(-3,3)\n",
    "print(x)"
   ]
  },
  {
   "cell_type": "code",
   "execution_count": 115,
   "metadata": {
    "collapsed": false
   },
   "outputs": [],
   "source": [
    "y = []\n",
    "\n",
    "for xi in x:\n",
    "    y.append(f(xi))"
   ]
  },
  {
   "cell_type": "code",
   "execution_count": 116,
   "metadata": {
    "collapsed": false
   },
   "outputs": [
    {
     "name": "stdout",
     "output_type": "stream",
     "text": [
      "[21.0, 11.0, 5.0, 3.0, 5.0, 11.0]\n"
     ]
    }
   ],
   "source": [
    "print(y)"
   ]
  },
  {
   "cell_type": "code",
   "execution_count": 117,
   "metadata": {
    "collapsed": false
   },
   "outputs": [
    {
     "data": {
      "text/plain": [
       "[<matplotlib.lines.Line2D at 0xc3bfef0>]"
      ]
     },
     "execution_count": 117,
     "metadata": {},
     "output_type": "execute_result"
    },
    {
     "data": {
      "image/png": "[encoded data removed]",
      "text/plain": [
       "<matplotlib.figure.Figure at 0xc1247f0>"
      ]
     },
     "metadata": {},
     "output_type": "display_data"
    }
   ],
   "source": [
    "plt.plot(x,y)"
   ]
  },
  {
   "cell_type": "markdown",
   "metadata": {},
   "source": [
    "The problem with doing this with a range of integer values is that the loop/function only has results at integers.  This means it is not very smooth.  An alternative would be to use linspace descipbed above to generate smaller values between -3 and 3.\n"
   ]
  },
  {
   "cell_type": "code",
   "execution_count": 132,
   "metadata": {
    "collapsed": false
   },
   "outputs": [
    {
     "data": {
      "text/plain": [
       "[<matplotlib.lines.Line2D at 0xceb8588>]"
      ]
     },
     "execution_count": 132,
     "metadata": {},
     "output_type": "execute_result"
    },
    {
     "data": {
      "image/png": "[encoded data removed]",
      "text/plain": [
       "<matplotlib.figure.Figure at 0xcc9ef28>"
      ]
     },
     "metadata": {},
     "output_type": "display_data"
    }
   ],
   "source": [
    "\n",
    "x = np.linspace(-3,3,1000)\n",
    "\n",
    "#print(x)\n",
    "\n",
    "#Actually you don't need to respecify the iterations of y, as x is now and array\n",
    "y = []\n",
    "\n",
    "for xi in x:\n",
    "    y.append(f(xi))\n",
    "    \n",
    "\n",
    "plt.plot(x,y, label='fit')\n",
    "plt.plot(x[0::1000],y[0::1000], 'ro', markersize = 10, label = 'measured')"
   ]
  },
  {
   "cell_type": "markdown",
   "metadata": {},
   "source": [
    "Here is a list comprehension version of generating y.  We did this on list day and it saves additional lines of a loop."
   ]
  },
  {
   "cell_type": "code",
   "execution_count": 120,
   "metadata": {
    "collapsed": false
   },
   "outputs": [
    {
     "name": "stdout",
     "output_type": "stream",
     "text": [
      "[21.0, 20.280073461891643, 19.574839302112032, 18.884297520661157, 18.208448117539028, 17.54729109274564, 16.90082644628099, 16.269054178145087, 15.651974288337925, 15.049586776859504, 14.461891643709826, 13.888888888888886, 13.330578512396691, 12.78696051423324, 12.258034894398529, 11.74380165289256, 11.244260789715335, 10.75941230486685, 10.289256198347108, 9.833792470156105, 9.393021120293847, 8.966942148760332, 8.555555555555554, 8.158861340679522, 7.776859504132231, 7.409550045913682, 7.056932966023876, 6.7190082644628095, 6.395775941230486, 6.087235996326905, 5.793388429752065, 5.514233241505968, 5.249770431588614, 5.0, 4.764921946740129, 4.544536271808999, 4.338842975206612, 4.147842056932966, 3.971533516988062, 3.8099173553719003, 3.6629935720844813, 3.5307621671258036, 3.4132231404958677, 3.310376492194674, 3.222222222222222, 3.1487603305785123, 3.089990817263544, 3.0459136822773187, 3.0165289256198347, 3.001836547291093, 3.001836547291093, 3.0165289256198347, 3.0459136822773187, 3.0899908172635446, 3.148760330578513, 3.2222222222222223, 3.310376492194674, 3.4132231404958677, 3.5307621671258036, 3.6629935720844813, 3.8099173553719017, 3.971533516988063, 4.147842056932967, 4.338842975206612, 4.544536271808999, 4.764921946740129, 5.0, 5.249770431588614, 5.514233241505968, 5.793388429752065, 6.087235996326904, 6.395775941230485, 6.719008264462808, 7.056932966023878, 7.409550045913685, 7.776859504132234, 8.158861340679525, 8.555555555555557, 8.966942148760332, 9.393021120293849, 9.833792470156109, 10.289256198347108, 10.75941230486685, 11.244260789715335, 11.74380165289256, 12.258034894398529, 12.78696051423324, 13.330578512396691, 13.888888888888895, 14.461891643709832, 15.04958677685951, 15.651974288337929, 16.26905417814509, 16.900826446280995, 17.547291092745642, 18.208448117539028, 18.884297520661157, 19.574839302112032, 20.280073461891643, 21.0]\n"
     ]
    }
   ],
   "source": [
    "y2 = [f(i) for i in x]\n",
    "print(y2)"
   ]
  },
  {
   "cell_type": "code",
   "execution_count": 127,
   "metadata": {
    "collapsed": false
   },
   "outputs": [
    {
     "data": {
      "text/plain": [
       "[<matplotlib.lines.Line2D at 0xc9a6c18>]"
      ]
     },
     "execution_count": 127,
     "metadata": {},
     "output_type": "execute_result"
    },
    {
     "data": {
      "image/png": "[encoded data removed]",
      "text/plain": [
       "<matplotlib.figure.Figure at 0xc9a6400>"
      ]
     },
     "metadata": {},
     "output_type": "display_data"
    }
   ],
   "source": [
    "x_vals = range(-3,3)\n",
    "x = np.linspace(-3,3,num=1000)\n",
    "y = f(x)\n",
    "\n",
    "\n",
    "\n",
    "plt.plot(x,y)\n",
    "plt.plot(x_vals, 'ro')"
   ]
  },
  {
   "cell_type": "markdown",
   "metadata": {
    "collapsed": true
   },
   "source": [
    "Going to create a histogram of random variables generated from numpy"
   ]
  },
  {
   "cell_type": "code",
   "execution_count": 133,
   "metadata": {
    "collapsed": true
   },
   "outputs": [],
   "source": [
    "y= np.random.randn(1000)"
   ]
  },
  {
   "cell_type": "code",
   "execution_count": 137,
   "metadata": {
    "collapsed": false
   },
   "outputs": [
    {
     "data": {
      "text/plain": [
       "(array([   4.,   10.,   17.,   39.,   75.,  111.,  122.,  168.,  149.,\n",
       "         119.,   77.,   61.,   28.,   14.,    6.]),\n",
       " array([-3.05926692, -2.66331144, -2.26735595, -1.87140046, -1.47544497,\n",
       "        -1.07948948, -0.68353399, -0.28757851,  0.10837698,  0.50433247,\n",
       "         0.90028796,  1.29624345,  1.69219894,  2.08815442,  2.48410991,\n",
       "         2.8800654 ]),\n",
       " <a list of 15 Patch objects>)"
      ]
     },
     "execution_count": 137,
     "metadata": {},
     "output_type": "execute_result"
    },
    {
     "data": {
      "image/png": "[encoded data removed]",
      "text/plain": [
       "<matplotlib.figure.Figure at 0xbdf8ef0>"
      ]
     },
     "metadata": {},
     "output_type": "display_data"
    }
   ],
   "source": [
    "plt.hist(y, bins=15, color='gray')"
   ]
  },
  {
   "cell_type": "code",
   "execution_count": 138,
   "metadata": {
    "collapsed": false
   },
   "outputs": [
    {
     "name": "stdout",
     "output_type": "stream",
     "text": [
      "Help on function hist in module matplotlib.pyplot:\n",
      "\n",
      "hist(x, bins=10, range=None, normed=False, weights=None, cumulative=False, bottom=None, histtype=u'bar', align=u'mid', orientation=u'vertical', rwidth=None, log=False, color=None, label=None, stacked=False, hold=None, data=None, **kwargs)\n",
      "    Plot a histogram.\n",
      "    \n",
      "    Compute and draw the histogram of *x*. The return value is a\n",
      "    tuple (*n*, *bins*, *patches*) or ([*n0*, *n1*, ...], *bins*,\n",
      "    [*patches0*, *patches1*,...]) if the input contains multiple\n",
      "    data.\n",
      "    \n",
      "    Multiple data can be provided via *x* as a list of datasets\n",
      "    of potentially different length ([*x0*, *x1*, ...]), or as\n",
      "    a 2-D ndarray in which each column is a dataset.  Note that\n",
      "    the ndarray form is transposed relative to the list form.\n",
      "    \n",
      "    Masked arrays are not supported at present.\n",
      "    \n",
      "    Parameters\n",
      "    ----------\n",
      "    x : (n,) array or sequence of (n,) arrays\n",
      "        Input values, this takes either a single array or a sequency of\n",
      "        arrays which are not required to be of the same length\n",
      "    \n",
      "    bins : integer or array_like, optional\n",
      "        If an integer is given, `bins + 1` bin edges are returned,\n",
      "        consistently with :func:`numpy.histogram` for numpy version >=\n",
      "        1.3.\n",
      "    \n",
      "        Unequally spaced bins are supported if `bins` is a sequence.\n",
      "    \n",
      "        default is 10\n",
      "    \n",
      "    range : tuple or None, optional\n",
      "        The lower and upper range of the bins. Lower and upper outliers\n",
      "        are ignored. If not provided, `range` is (x.min(), x.max()). Range\n",
      "        has no effect if `bins` is a sequence.\n",
      "    \n",
      "        If `bins` is a sequence or `range` is specified, autoscaling\n",
      "        is based on the specified bin range instead of the\n",
      "        range of x.\n",
      "    \n",
      "        Default is ``None``\n",
      "    \n",
      "    normed : boolean, optional\n",
      "        If `True`, the first element of the return tuple will\n",
      "        be the counts normalized to form a probability density, i.e.,\n",
      "        ``n/(len(x)`dbin)``, i.e., the integral of the histogram will sum\n",
      "        to 1. If *stacked* is also *True*, the sum of the histograms is\n",
      "        normalized to 1.\n",
      "    \n",
      "        Default is ``False``\n",
      "    \n",
      "    weights : (n, ) array_like or None, optional\n",
      "        An array of weights, of the same shape as `x`.  Each value in `x`\n",
      "        only contributes its associated weight towards the bin count\n",
      "        (instead of 1).  If `normed` is True, the weights are normalized,\n",
      "        so that the integral of the density over the range remains 1.\n",
      "    \n",
      "        Default is ``None``\n",
      "    \n",
      "    cumulative : boolean, optional\n",
      "        If `True`, then a histogram is computed where each bin gives the\n",
      "        counts in that bin plus all bins for smaller values. The last bin\n",
      "        gives the total number of datapoints.  If `normed` is also `True`\n",
      "        then the histogram is normalized such that the last bin equals 1.\n",
      "        If `cumulative` evaluates to less than 0 (e.g., -1), the direction\n",
      "        of accumulation is reversed.  In this case, if `normed` is also\n",
      "        `True`, then the histogram is normalized such that the first bin\n",
      "        equals 1.\n",
      "    \n",
      "        Default is ``False``\n",
      "    \n",
      "    bottom : array_like, scalar, or None\n",
      "        Location of the bottom baseline of each bin.  If a scalar,\n",
      "        the base line for each bin is shifted by the same amount.\n",
      "        If an array, each bin is shifted independently and the length\n",
      "        of bottom must match the number of bins.  If None, defaults to 0.\n",
      "    \n",
      "        Default is ``None``\n",
      "    \n",
      "    histtype : {'bar', 'barstacked', 'step',  'stepfilled'}, optional\n",
      "        The type of histogram to draw.\n",
      "    \n",
      "        - 'bar' is a traditional bar-type histogram.  If multiple data\n",
      "          are given the bars are aranged side by side.\n",
      "    \n",
      "        - 'barstacked' is a bar-type histogram where multiple\n",
      "          data are stacked on top of each other.\n",
      "    \n",
      "        - 'step' generates a lineplot that is by default\n",
      "          unfilled.\n",
      "    \n",
      "        - 'stepfilled' generates a lineplot that is by default\n",
      "          filled.\n",
      "    \n",
      "        Default is 'bar'\n",
      "    \n",
      "    align : {'left', 'mid', 'right'}, optional\n",
      "        Controls how the histogram is plotted.\n",
      "    \n",
      "            - 'left': bars are centered on the left bin edges.\n",
      "    \n",
      "            - 'mid': bars are centered between the bin edges.\n",
      "    \n",
      "            - 'right': bars are centered on the right bin edges.\n",
      "    \n",
      "        Default is 'mid'\n",
      "    \n",
      "    orientation : {'horizontal', 'vertical'}, optional\n",
      "        If 'horizontal', `~matplotlib.pyplot.barh` will be used for\n",
      "        bar-type histograms and the *bottom* kwarg will be the left edges.\n",
      "    \n",
      "    rwidth : scalar or None, optional\n",
      "        The relative width of the bars as a fraction of the bin width.  If\n",
      "        `None`, automatically compute the width.\n",
      "    \n",
      "        Ignored if `histtype` is 'step' or 'stepfilled'.\n",
      "    \n",
      "        Default is ``None``\n",
      "    \n",
      "    log : boolean, optional\n",
      "        If `True`, the histogram axis will be set to a log scale. If `log`\n",
      "        is `True` and `x` is a 1D array, empty bins will be filtered out\n",
      "        and only the non-empty (`n`, `bins`, `patches`) will be returned.\n",
      "    \n",
      "        Default is ``False``\n",
      "    \n",
      "    color : color or array_like of colors or None, optional\n",
      "        Color spec or sequence of color specs, one per dataset.  Default\n",
      "        (`None`) uses the standard line color sequence.\n",
      "    \n",
      "        Default is ``None``\n",
      "    \n",
      "    label : string or None, optional\n",
      "        String, or sequence of strings to match multiple datasets.  Bar\n",
      "        charts yield multiple patches per dataset, but only the first gets\n",
      "        the label, so that the legend command will work as expected.\n",
      "    \n",
      "        default is ``None``\n",
      "    \n",
      "    stacked : boolean, optional\n",
      "        If `True`, multiple data are stacked on top of each other If\n",
      "        `False` multiple data are aranged side by side if histtype is\n",
      "        'bar' or on top of each other if histtype is 'step'\n",
      "    \n",
      "        Default is ``False``\n",
      "    \n",
      "    Returns\n",
      "    -------\n",
      "    n : array or list of arrays\n",
      "        The values of the histogram bins. See **normed** and **weights**\n",
      "        for a description of the possible semantics. If input **x** is an\n",
      "        array, then this is an array of length **nbins**. If input is a\n",
      "        sequence arrays ``[data1, data2,..]``, then this is a list of\n",
      "        arrays with the values of the histograms for each of the arrays\n",
      "        in the same order.\n",
      "    \n",
      "    bins : array\n",
      "        The edges of the bins. Length nbins + 1 (nbins left edges and right\n",
      "        edge of last bin).  Always a single array even when multiple data\n",
      "        sets are passed in.\n",
      "    \n",
      "    patches : list or list of lists\n",
      "        Silent list of individual patches used to create the histogram\n",
      "        or list of such list if multiple input datasets.\n",
      "    \n",
      "    Other Parameters\n",
      "    ----------------\n",
      "    kwargs : `~matplotlib.patches.Patch` properties\n",
      "    \n",
      "    See also\n",
      "    --------\n",
      "    hist2d : 2D histograms\n",
      "    \n",
      "    Notes\n",
      "    -----\n",
      "    Until numpy release 1.5, the underlying numpy histogram function was\n",
      "    incorrect with `normed`=`True` if bin sizes were unequal.  MPL\n",
      "    inherited that error.  It is now corrected within MPL when using\n",
      "    earlier numpy versions.\n",
      "    \n",
      "    Examples\n",
      "    --------\n",
      "    .. plot:: mpl_examples/statistics/histogram_demo_features.py\n",
      "    \n",
      "    Notes\n",
      "    -----\n",
      "    \n",
      "    In addition to the above described arguments, this function can take a\n",
      "    **data** keyword argument. If such a **data** argument is given, the\n",
      "    following arguments are replaced by **data[<arg>]**:\n",
      "    \n",
      "    * All arguments with the following names: 'x', 'weights'.\n",
      "    \n",
      "    \n",
      "    \n",
      "    \n",
      "    Additional kwargs: hold = [True|False] overrides default hold state\n",
      "\n"
     ]
    }
   ],
   "source": [
    "help(plt.hist)"
   ]
  },
  {
   "cell_type": "markdown",
   "metadata": {},
   "source": [
    "2d histogram is useful with 3 data items, e.g. x, y locations and a temperature value"
   ]
  },
  {
   "cell_type": "code",
   "execution_count": 146,
   "metadata": {
    "collapsed": false
   },
   "outputs": [],
   "source": [
    "x = np.random.randn(len(y))"
   ]
  },
  {
   "cell_type": "code",
   "execution_count": 147,
   "metadata": {
    "collapsed": false
   },
   "outputs": [
    {
     "data": {
      "text/plain": [
       "<matplotlib.colorbar.Colorbar at 0xe5f17f0>"
      ]
     },
     "execution_count": 147,
     "metadata": {},
     "output_type": "execute_result"
    },
    {
     "data": {
      "image/png": "[encoded data removed]",
      "text/plain": [
       "<matplotlib.figure.Figure at 0xe120278>"
      ]
     },
     "metadata": {},
     "output_type": "display_data"
    }
   ],
   "source": [
    "plt.hist2d(x,y)\n",
    "plt.colorbar()"
   ]
  },
  {
   "cell_type": "markdown",
   "metadata": {},
   "source": [
    "Box plots:"
   ]
  },
  {
   "cell_type": "code",
   "execution_count": 148,
   "metadata": {
    "collapsed": false
   },
   "outputs": [
    {
     "name": "stdout",
     "output_type": "stream",
     "text": [
      "Help on function boxplot in module matplotlib.pyplot:\n",
      "\n",
      "boxplot(x, notch=None, sym=None, vert=None, whis=None, positions=None, widths=None, patch_artist=None, bootstrap=None, usermedians=None, conf_intervals=None, meanline=None, showmeans=None, showcaps=None, showbox=None, showfliers=None, boxprops=None, labels=None, flierprops=None, medianprops=None, meanprops=None, capprops=None, whiskerprops=None, manage_xticks=True, hold=None, data=None)\n",
      "    Make a box and whisker plot.\n",
      "    \n",
      "    Call signature::\n",
      "    \n",
      "      boxplot(self, x, notch=None, sym=None, vert=None, whis=None,\n",
      "              positions=None, widths=None, patch_artist=False,\n",
      "              bootstrap=None, usermedians=None, conf_intervals=None,\n",
      "              meanline=False, showmeans=False, showcaps=True,\n",
      "              showbox=True, showfliers=True, boxprops=None, labels=None,\n",
      "              flierprops=None, medianprops=None, meanprops=None,\n",
      "              capprops=None, whiskerprops=None, manage_xticks=True):\n",
      "    \n",
      "    Make a box and whisker plot for each column of *x* or each\n",
      "    vector in sequence *x*.  The box extends from the lower to\n",
      "    upper quartile values of the data, with a line at the median.\n",
      "    The whiskers extend from the box to show the range of the\n",
      "    data.  Flier points are those past the end of the whiskers.\n",
      "    \n",
      "    Parameters\n",
      "    ----------\n",
      "    \n",
      "      x : Array or a sequence of vectors.\n",
      "        The input data.\n",
      "    \n",
      "      notch : bool, default = False\n",
      "        If False, produces a rectangular box plot.\n",
      "        If True, will produce a notched box plot\n",
      "    \n",
      "      sym : str or None, default = None\n",
      "        The default symbol for flier points.\n",
      "        Enter an empty string ('') if you don't want to show fliers.\n",
      "        If `None`, then the fliers default to 'b+'  If you want more\n",
      "        control use the flierprops kwarg.\n",
      "    \n",
      "      vert : bool, default = True\n",
      "        If True (default), makes the boxes vertical.\n",
      "        If False, makes horizontal boxes.\n",
      "    \n",
      "      whis : float, sequence (default = 1.5) or string\n",
      "        As a float, determines the reach of the whiskers past the first\n",
      "        and third quartiles (e.g., Q3 + whis*IQR, IQR = interquartile\n",
      "        range, Q3-Q1). Beyond the whiskers, data are considered outliers\n",
      "        and are plotted as individual points. Set this to an unreasonably\n",
      "        high value to force the whiskers to show the min and max values.\n",
      "        Alternatively, set this to an ascending sequence of percentile\n",
      "        (e.g., [5, 95]) to set the whiskers at specific percentiles of\n",
      "        the data. Finally, *whis* can be the string 'range' to force the\n",
      "        whiskers to the min and max of the data. In the edge case that\n",
      "        the 25th and 75th percentiles are equivalent, *whis* will be\n",
      "        automatically set to 'range'.\n",
      "    \n",
      "      bootstrap : None (default) or integer\n",
      "        Specifies whether to bootstrap the confidence intervals\n",
      "        around the median for notched boxplots. If bootstrap==None,\n",
      "        no bootstrapping is performed, and notches are calculated\n",
      "        using a Gaussian-based asymptotic approximation  (see McGill, R.,\n",
      "        Tukey, J.W., and Larsen, W.A., 1978, and Kendall and Stuart,\n",
      "        1967). Otherwise, bootstrap specifies the number of times to\n",
      "        bootstrap the median to determine it's 95% confidence intervals.\n",
      "        Values between 1000 and 10000 are recommended.\n",
      "    \n",
      "      usermedians : array-like or None (default)\n",
      "        An array or sequence whose first dimension (or length) is\n",
      "        compatible with *x*. This overrides the medians computed by\n",
      "        matplotlib for each element of *usermedians* that is not None.\n",
      "        When an element of *usermedians* == None, the median will be\n",
      "        computed by matplotlib as normal.\n",
      "    \n",
      "      conf_intervals : array-like or None (default)\n",
      "        Array or sequence whose first dimension (or length) is compatible\n",
      "        with *x* and whose second dimension is 2. When the current element\n",
      "        of *conf_intervals* is not None, the notch locations computed by\n",
      "        matplotlib are overridden (assuming notch is True). When an\n",
      "        element of *conf_intervals* is None, boxplot compute notches the\n",
      "        method specified by the other kwargs (e.g., *bootstrap*).\n",
      "    \n",
      "      positions : array-like, default = [1, 2, ..., n]\n",
      "        Sets the positions of the boxes. The ticks and limits\n",
      "        are automatically set to match the positions.\n",
      "    \n",
      "      widths : array-like, default = 0.5\n",
      "        Either a scalar or a vector and sets the width of each box. The\n",
      "        default is 0.5, or ``0.15*(distance between extreme positions)``\n",
      "        if that is smaller.\n",
      "    \n",
      "      labels : sequence or None (default)\n",
      "            Labels for each dataset. Length must be compatible with\n",
      "            dimensions  of *x*\n",
      "    \n",
      "      patch_artist : bool, default = False\n",
      "        If False produces boxes with the Line2D artist\n",
      "        If True produces boxes with the Patch artist\n",
      "    \n",
      "      showmeans : bool, default = False\n",
      "        If True, will toggle one the rendering of the means\n",
      "    \n",
      "      showcaps : bool, default = True\n",
      "        If True, will toggle one the rendering of the caps\n",
      "    \n",
      "      showbox : bool, default = True\n",
      "        If True, will toggle one the rendering of box\n",
      "    \n",
      "      showfliers : bool, default = True\n",
      "        If True, will toggle one the rendering of the fliers\n",
      "    \n",
      "      boxprops : dict or None (default)\n",
      "        If provided, will set the plotting style of the boxes\n",
      "    \n",
      "      whiskerprops : dict or None (default)\n",
      "        If provided, will set the plotting style of the whiskers\n",
      "    \n",
      "      capprops : dict or None (default)\n",
      "        If provided, will set the plotting style of the caps\n",
      "    \n",
      "      flierprops : dict or None (default)\n",
      "        If provided, will set the plotting style of the fliers\n",
      "    \n",
      "      medianprops : dict or None (default)\n",
      "        If provided, will set the plotting style of the medians\n",
      "    \n",
      "      meanprops : dict or None (default)\n",
      "        If provided, will set the plotting style of the means\n",
      "    \n",
      "      meanline : bool, default = False\n",
      "        If True (and *showmeans* is True), will try to render the mean\n",
      "        as a line spanning the full width of the box according to\n",
      "        *meanprops*. Not recommended if *shownotches* is also True.\n",
      "        Otherwise, means will be shown as points.\n",
      "    \n",
      "      manage_xticks : bool, default = True\n",
      "        If the function should adjust the xlim and xtick locations.\n",
      "    \n",
      "    Returns\n",
      "    -------\n",
      "    \n",
      "    result : dict\n",
      "        A dictionary mapping each component of the boxplot\n",
      "        to a list of the :class:`matplotlib.lines.Line2D`\n",
      "        instances created. That dictionary has the following keys\n",
      "        (assuming vertical boxplots):\n",
      "    \n",
      "        - boxes: the main body of the boxplot showing the quartiles\n",
      "          and the median's confidence intervals if enabled.\n",
      "        - medians: horizonal lines at the median of each box.\n",
      "        - whiskers: the vertical lines extending to the most extreme,\n",
      "          n-outlier data points.\n",
      "        - caps: the horizontal lines at the ends of the whiskers.\n",
      "        - fliers: points representing data that extend beyond the\n",
      "          whiskers (outliers).\n",
      "        - means: points or lines representing the means.\n",
      "    \n",
      "    Examples\n",
      "    --------\n",
      "    \n",
      "    .. plot:: mpl_examples/statistics/boxplot_demo.py\n",
      "    \n",
      "    Notes\n",
      "    -----\n",
      "    \n",
      "    In addition to the above described arguments, this function can take a\n",
      "    **data** keyword argument. If such a **data** argument is given, the\n",
      "    following arguments are replaced by **data[<arg>]**:\n",
      "    \n",
      "    * All positional and all keyword arguments.\n",
      "    \n",
      "    \n",
      "    \n",
      "    \n",
      "    Additional kwargs: hold = [True|False] overrides default hold state\n",
      "\n"
     ]
    }
   ],
   "source": [
    "help(plt.boxplot)"
   ]
  },
  {
   "cell_type": "code",
   "execution_count": 149,
   "metadata": {
    "collapsed": false
   },
   "outputs": [
    {
     "data": {
      "text/plain": [
       "{'boxes': [<matplotlib.lines.Line2D at 0xe759e80>],\n",
       " 'caps': [<matplotlib.lines.Line2D at 0xe769be0>,\n",
       "  <matplotlib.lines.Line2D at 0xe8bf198>],\n",
       " 'fliers': [<matplotlib.lines.Line2D at 0xe8bfc88>],\n",
       " 'means': [],\n",
       " 'medians': [<matplotlib.lines.Line2D at 0xe8bf710>],\n",
       " 'whiskers': [<matplotlib.lines.Line2D at 0xe769080>,\n",
       "  <matplotlib.lines.Line2D at 0xe769668>]}"
      ]
     },
     "execution_count": 149,
     "metadata": {},
     "output_type": "execute_result"
    },
    {
     "data": {
      "image/png": "[encoded data removed]",
      "text/plain": [
       "<matplotlib.figure.Figure at 0xd970438>"
      ]
     },
     "metadata": {},
     "output_type": "display_data"
    }
   ],
   "source": [
    "plt.boxplot(x)"
   ]
  },
  {
   "cell_type": "code",
   "execution_count": 156,
   "metadata": {
    "collapsed": false
   },
   "outputs": [
    {
     "data": {
      "text/plain": [
       "{'boxes': [<matplotlib.lines.Line2D at 0xf3fb3c8>,\n",
       "  <matplotlib.lines.Line2D at 0xf416748>],\n",
       " 'caps': [<matplotlib.lines.Line2D at 0xf409128>,\n",
       "  <matplotlib.lines.Line2D at 0xf4096a0>,\n",
       "  <matplotlib.lines.Line2D at 0xf4257b8>,\n",
       "  <matplotlib.lines.Line2D at 0xf425d30>],\n",
       " 'fliers': [<matplotlib.lines.Line2D at 0xf4161d0>,\n",
       "  <matplotlib.lines.Line2D at 0xf432860>],\n",
       " 'means': [],\n",
       " 'medians': [<matplotlib.lines.Line2D at 0xf409c18>,\n",
       "  <matplotlib.lines.Line2D at 0xf4322e8>],\n",
       " 'whiskers': [<matplotlib.lines.Line2D at 0xf3fb588>,\n",
       "  <matplotlib.lines.Line2D at 0xf3fbb70>,\n",
       "  <matplotlib.lines.Line2D at 0xf416cf8>,\n",
       "  <matplotlib.lines.Line2D at 0xf425240>]}"
      ]
     },
     "execution_count": 156,
     "metadata": {},
     "output_type": "execute_result"
    },
    {
     "data": {
      "image/png": "[encoded data removed]",
      "text/plain": [
       "<matplotlib.figure.Figure at 0xf092668>"
      ]
     },
     "metadata": {},
     "output_type": "display_data"
    }
   ],
   "source": [
    "plt.boxplot([x,y], notch=True, labels = ['x', 'y'])   #can supply as a lits like this or as with some group by look up values or dictionary maybe?"
   ]
  },
  {
   "cell_type": "markdown",
   "metadata": {},
   "source": [
    "pie charts"
   ]
  },
  {
   "cell_type": "code",
   "execution_count": 162,
   "metadata": {
    "collapsed": true
   },
   "outputs": [],
   "source": [
    "time_spent = [4,10,7,1,0.5]\n",
    "time_labels = ['work', 'coffee', 'commute','email', 'food']"
   ]
  },
  {
   "cell_type": "code",
   "execution_count": 168,
   "metadata": {
    "collapsed": false
   },
   "outputs": [
    {
     "data": {
      "text/plain": [
       "([<matplotlib.patches.Wedge at 0x10b3d710>,\n",
       "  <matplotlib.patches.Wedge at 0x10905080>,\n",
       "  <matplotlib.patches.Wedge at 0x109058d0>,\n",
       "  <matplotlib.patches.Wedge at 0x10918160>,\n",
       "  <matplotlib.patches.Wedge at 0x109189b0>],\n",
       " [<matplotlib.text.Text at 0x10b3dc88>,\n",
       "  <matplotlib.text.Text at 0x10905550>,\n",
       "  <matplotlib.text.Text at 0x10905da0>,\n",
       "  <matplotlib.text.Text at 0x10918630>,\n",
       "  <matplotlib.text.Text at 0x10918e80>])"
      ]
     },
     "execution_count": 168,
     "metadata": {},
     "output_type": "execute_result"
    },
    {
     "data": {
      "image/png": "[encoded data removed]",
      "text/plain": [
       "<matplotlib.figure.Figure at 0x108cd978>"
      ]
     },
     "metadata": {},
     "output_type": "display_data"
    }
   ],
   "source": [
    "plt.pie(time_spent, labels = time_labels)"
   ]
  },
  {
   "cell_type": "markdown",
   "metadata": {},
   "source": [
    "NOw focus on some of the different areas of the plot.  There are different levels within is. 'artist objects' are the smallest objects, many of which you can overlay on the plot.  You surround the plot with to axis', within and Axes, within a figure."
   ]
  },
  {
   "cell_type": "code",
   "execution_count": 187,
   "metadata": {
    "collapsed": false
   },
   "outputs": [
    {
     "data": {
      "image/png": "[encoded data removed]",
      "text/plain": [
       "<matplotlib.figure.Figure at 0x11612080>"
      ]
     },
     "metadata": {},
     "output_type": "display_data"
    }
   ],
   "source": [
    "fig = plt.figure()\n",
    "\n",
    "axl = fig.add_subplot(211)  #211 means 2 row 1 column ocupying position 1\n",
    "\n",
    "y = np.random.normal(size=1000)\n",
    "type(y)\n",
    "y = y[y > 0]\n",
    "y.sort()\n",
    "\n",
    "axl.plot(y)\n",
    "axl.set_ylabel(\"linear\")\n",
    "\n",
    "ax2 =fig.add_subplot(212)\n",
    "\n",
    "ax2.plot(y)\n",
    "ax2.set_ylabel('log')\n",
    "ax2.set_yscale(\"log\")\n",
    "\n",
    "fig.savefig(\"linearlog_figure.png\")"
   ]
  },
  {
   "cell_type": "markdown",
   "metadata": {},
   "source": [
    "There's more options in subplot2grid if you want to nest plots.  You can define the shape, but for each plot can span multiple positions."
   ]
  },
  {
   "cell_type": "code",
   "execution_count": 185,
   "metadata": {
    "collapsed": false
   },
   "outputs": [
    {
     "name": "stdout",
     "output_type": "stream",
     "text": [
      "Help on function subplot2grid in module matplotlib.pyplot:\n",
      "\n",
      "subplot2grid(shape, loc, rowspan=1, colspan=1, **kwargs)\n",
      "    Create a subplot in a grid.  The grid is specified by *shape*, at\n",
      "    location of *loc*, spanning *rowspan*, *colspan* cells in each\n",
      "    direction.  The index for loc is 0-based. ::\n",
      "    \n",
      "      subplot2grid(shape, loc, rowspan=1, colspan=1)\n",
      "    \n",
      "    is identical to ::\n",
      "    \n",
      "      gridspec=GridSpec(shape[0], shape[1])\n",
      "      subplotspec=gridspec.new_subplotspec(loc, rowspan, colspan)\n",
      "      subplot(subplotspec)\n",
      "\n"
     ]
    }
   ],
   "source": [
    "help(plt.subplot2grid)"
   ]
  },
  {
   "cell_type": "markdown",
   "metadata": {},
   "source": [
    "Now a 3d plot:"
   ]
  },
  {
   "cell_type": "code",
   "execution_count": 194,
   "metadata": {
    "collapsed": false
   },
   "outputs": [
    {
     "data": {
      "text/plain": [
       "[<mpl_toolkits.mplot3d.art3d.Line3D at 0x10fd7eb8>]"
      ]
     },
     "execution_count": 194,
     "metadata": {},
     "output_type": "execute_result"
    },
    {
     "data": {
      "image/png": "[encoded data removed]",
      "text/plain": [
       "<matplotlib.figure.Figure at 0x10db4518>"
      ]
     },
     "metadata": {},
     "output_type": "display_data"
    }
   ],
   "source": [
    "from mpl_toolkits.mplot3d import Axes3D\n",
    "\n",
    "x = np.random.normal(size = 30)\n",
    "y = np.random.normal(size = 30)\n",
    "z = np.random.normal(size = 30)\n",
    "\n",
    "fig = plt.figure()\n",
    "ax = fig.add_subplot(111, projection = '3d')\n",
    "ax.plot(x,y,z, 'ro')"
   ]
  },
  {
   "cell_type": "code",
   "execution_count": null,
   "metadata": {
    "collapsed": true
   },
   "outputs": [],
   "source": []
  }
 ],
 "metadata": {
  "kernelspec": {
   "display_name": "Python 2",
   "language": "python",
   "name": "python2"
  },
  "language_info": {
   "codemirror_mode": {
    "name": "ipython",
    "version": 2
   },
   "file_extension": ".py",
   "mimetype": "text/x-python",
   "name": "python",
   "nbconvert_exporter": "python",
   "pygments_lexer": "ipython2",
   "version": "2.7.12"
  }
 },
 "nbformat": 4,
 "nbformat_minor": 0
}
