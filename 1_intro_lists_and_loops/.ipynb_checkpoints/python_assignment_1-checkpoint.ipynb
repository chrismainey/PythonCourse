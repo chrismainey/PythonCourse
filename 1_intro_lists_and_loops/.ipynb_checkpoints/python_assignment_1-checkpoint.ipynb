{
 "cells": [
  {
   "cell_type": "markdown",
   "metadata": {},
   "source": [
    "# Scientific Programming in Python - Introduction"
   ]
  },
  {
   "cell_type": "markdown",
   "metadata": {},
   "source": [
    "## How to solve these exercises\n",
    "\n",
    "We use an iPython notebook for all of our exercises. The process is very similar compared to the live coding sessions, but instead of repeating what we do in front of the class we already made a notebook for you that you can complete yourself.\n",
    "\n",
    "If you have questions, just approach one of the tutors."
   ]
  },
  {
   "cell_type": "markdown",
   "metadata": {},
   "source": [
    "### Problem 1. Convert imperial to metric"
   ]
  },
  {
   "cell_type": "markdown",
   "metadata": {},
   "source": [
    "Write a formula to convert a weight from pounds into kilograms."
   ]
  },
  {
   "cell_type": "markdown",
   "metadata": {},
   "source": [
    ">**(a)** Modify the code in the following cell in such a way that it calculates the corresponding kilogram weight. Remember that all text to the right of a ‘#’ character is a comment that is ignored by python."
   ]
  },
  {
   "cell_type": "code",
   "execution_count": 1,
   "metadata": {
    "collapsed": false
   },
   "outputs": [
    {
     "name": "stdout",
     "output_type": "stream",
     "text": [
      "Weight in kilograms: 62.1\n"
     ]
    }
   ],
   "source": [
    "weight_lbs = 138.0 # in pounds\n",
    "weight_kg = 0.45 * weight_lbs\n",
    "print 'Weight in kilograms: ' + str(weight_kg)"
   ]
  },
  {
   "cell_type": "markdown",
   "metadata": {},
   "source": [
    ">**(b)** To get your program to ask you for a value and get a variable that contains that value, use the function <code>raw_input()</code>. This function will return a string and so you will have to convert it to a number using the function <code>float()</code>. Modify the the following cell so that it asks you for a weight in pounds. When you run it in ipython, it should work like this:"
   ]
  },
  {
   "cell_type": "raw",
   "metadata": {},
   "source": [
    "Enter weight in pounds: 138.0\n",
    "Weight in kilograms: 62.1"
   ]
  },
  {
   "cell_type": "code",
   "execution_count": 2,
   "metadata": {
    "collapsed": false
   },
   "outputs": [
    {
     "name": "stdout",
     "output_type": "stream",
     "text": [
      "\n"
     ]
    },
    {
     "ename": "ValueError",
     "evalue": "could not convert string to float: ",
     "output_type": "error",
     "traceback": [
      "\u001b[1;31m---------------------------------------------------------------------------\u001b[0m",
      "\u001b[1;31mValueError\u001b[0m                                Traceback (most recent call last)",
      "\u001b[1;32m<ipython-input-2-8c561bcdb706>\u001b[0m in \u001b[0;36m<module>\u001b[1;34m()\u001b[0m\n\u001b[0;32m      1\u001b[0m \u001b[0mweight_lbs\u001b[0m \u001b[1;33m=\u001b[0m \u001b[0mraw_input\u001b[0m\u001b[1;33m(\u001b[0m\u001b[1;33m)\u001b[0m\u001b[1;33m\u001b[0m\u001b[0m\n\u001b[1;32m----> 2\u001b[1;33m \u001b[0mweight_kg\u001b[0m \u001b[1;33m=\u001b[0m \u001b[1;36m0.45\u001b[0m \u001b[1;33m*\u001b[0m \u001b[0mfloat\u001b[0m\u001b[1;33m(\u001b[0m\u001b[0mweight_lbs\u001b[0m\u001b[1;33m)\u001b[0m\u001b[1;33m\u001b[0m\u001b[0m\n\u001b[0m\u001b[0;32m      3\u001b[0m \u001b[1;32mprint\u001b[0m \u001b[1;34m\"Weight in kilograms: \"\u001b[0m\u001b[1;33m,\u001b[0m \u001b[0mweight_kg\u001b[0m\u001b[1;33m\u001b[0m\u001b[0m\n",
      "\u001b[1;31mValueError\u001b[0m: could not convert string to float: "
     ]
    }
   ],
   "source": [
    "weight_lbs = raw_input()\n",
    "weight_kg = 0.45 * float(weight_lbs)\n",
    "print \"Weight in kilograms: \", weight_kg"
   ]
  },
  {
   "cell_type": "markdown",
   "metadata": {},
   "source": [
    ">**(c)** This program should convert Farenheit to Celcius, but there are two bugs in the code. Figure out what they are and fix them so that it converts Farenheit to Celcius.\n",
    "(Hint: if you are having trouble, break up the formula into multiple steps and put a ‘print’ statement after each one so you can see the result of the step. Make sure each of the steps are doing what you think they should do.)"
   ]
  },
  {
   "cell_type": "code",
   "execution_count": 11,
   "metadata": {
    "collapsed": false
   },
   "outputs": [
    {
     "name": "stdout",
     "output_type": "stream",
     "text": [
      "Enter a temperature in Farenheit: 180\n",
      "Temperature in Celcius: 82.2222222222\n"
     ]
    }
   ],
   "source": [
    "temp_far = float(raw_input('Enter a temperature in Farenheit: ')) \n",
    "temp_cel = 5.0/9.0 * (temp_far - 32)\n",
    "print 'Temperature in Celcius: ' + str(temp_cel)"
   ]
  },
  {
   "cell_type": "markdown",
   "metadata": {},
   "source": [
    ">**(d)** Convert the programs used in (b) and (c) in such a way that they use functions"
   ]
  },
  {
   "cell_type": "code",
   "execution_count": 18,
   "metadata": {
    "collapsed": false
   },
   "outputs": [
    {
     "data": {
      "text/plain": [
       "62.1"
      ]
     },
     "execution_count": 18,
     "metadata": {},
     "output_type": "execute_result"
    }
   ],
   "source": [
    "# Complete this function:\n",
    "\n",
    "def lb_to_kg(lb):\n",
    "    \"\"\"Function to convert punds(lb) to kilograms (kg)\"\"\"\n",
    "    \n",
    "    kg = 0.45 * float(lb)\n",
    "    \n",
    "    return kg\n",
    "\n",
    "lb_to_kg(138.0)\n",
    "\n",
    "\n",
    "\n",
    "# Wite a cel_to_far function from scratch!\n",
    "def cl_to_far(cel):\n",
    "    '''Function to convert celcius to Farenheit'''\n",
    "    \n",
    "    far = (float(cel) * 1.8 ) + 32\n",
    "    \n",
    "    return (far)\n",
    "\n",
    "\n",
    "cl_to_far(82.2222)\n"
   ]
  },
  {
   "cell_type": "markdown",
   "metadata": {},
   "source": [
    "### Problem 2. A little bit of math"
   ]
  },
  {
   "cell_type": "markdown",
   "metadata": {},
   "source": [
    "The following code asks you to enter three numbers and then finds the mean of those numbers."
   ]
  },
  {
   "cell_type": "code",
   "execution_count": 19,
   "metadata": {
    "collapsed": false
   },
   "outputs": [
    {
     "name": "stdout",
     "output_type": "stream",
     "text": [
      "Enter the first number: 55\n",
      "Enter the second number: 62\n",
      "Enter the third number: 68\n",
      "61.6666666667\n"
     ]
    }
   ],
   "source": [
    "x1 = float(raw_input('Enter the first number: '))\n",
    "x2 = float(raw_input('Enter the second number: '))\n",
    "x3 = float(raw_input('Enter the third number: '))\n",
    "xhat = (x1 + x2 + x3) / 3.0\n",
    "print xhat"
   ]
  },
  {
   "cell_type": "markdown",
   "metadata": {},
   "source": [
    ">**(a)** Modify this code so that it prints the mean on the first line of its output and prints the standard deviation of the three numbers on the second line of its output. Remember that the standard deviation of a sample $x_1,x_2,\\ldots,x_n$ with sample mean $\\hat{x}=\\sum_{i=1}^n x_i/n $ is defined to be:\n",
    "\n",
    "<center>$ s = \\sqrt{\\displaystyle\\frac{1}{n-1}\\displaystyle\\sum_{i=1}^n(x_i - \\hat{x})^2}$</center>\n",
    "\n",
    ">The program should work like this when run:"
   ]
  },
  {
   "cell_type": "code",
   "execution_count": 35,
   "metadata": {
    "collapsed": false
   },
   "outputs": [
    {
     "name": "stdout",
     "output_type": "stream",
     "text": [
      "Enter the first number: 12\n",
      "Enter the second number: 12\n",
      "Enter the third number: 12\n",
      "12.0\n",
      "0.0\n"
     ]
    }
   ],
   "source": [
    "from math import sqrt\n",
    "x1 = float(raw_input('Enter the first number: '))\n",
    "x2 = float(raw_input('Enter the second number: '))\n",
    "x3 = float(raw_input('Enter the third number: '))\n",
    "\n",
    "# Your code here\n",
    "\n",
    "def simple_stdev(x1, x2, x3):\n",
    "    '''This calculates the standard deviation for three numbers'''\n",
    "    xhat = float((x1 + x2 + x3) / 3.0)\n",
    "    stand = sqrt((((x1-xhat)**2) + ((x2-xhat)**2) + ((x3-xhat)**2) ) * 1.0/2.0 )\n",
    "    pass    \n",
    "    return xhat, stand\n",
    "\n",
    "xhat, stand = simple_stdev(x1, x2, x3)\n",
    "print(xhat)\n",
    "print(stand)"
   ]
  },
  {
   "cell_type": "raw",
   "metadata": {},
   "source": [
    "Enter the first number: 3\n",
    "Enter the second number: 7\n",
    "Enter the third number: 29\n",
    "13.0 \n",
    "14.0"
   ]
  },
  {
   "cell_type": "code",
   "execution_count": null,
   "metadata": {
    "collapsed": false
   },
   "outputs": [],
   "source": [
    "\n",
    "    "
   ]
  },
  {
   "cell_type": "markdown",
   "metadata": {},
   "source": [
    ">**Hint:** If you are having trouble, write out the standard deviation in the equation above for $n=3$ because in this example there are three samples (don't expand the squares). Then, make a new line of code where you assign a variable called $s$ to the equation you wrote out. To translate the standard deviation formula into code, $x_1,x_2$ and $x_3$ should be written as $x1$, $x2$ and $x3$. The expression $(x_1-\\hat{x})^2$ should be written as $(x1 - xhat)**2$. When you want to write the square root of something, you have to put it <code>sqrt(here)</code> inside brackets. If you are using ipython, then <code>sqrt()</code> is automatically loaded in the interpreter. Otherwise, you have to import it like this:"
   ]
  },
  {
   "cell_type": "code",
   "execution_count": null,
   "metadata": {
    "collapsed": false
   },
   "outputs": [],
   "source": [
    "from math import sqrt"
   ]
  },
  {
   "cell_type": "markdown",
   "metadata": {},
   "source": [
    "### Problem 3. Calculator"
   ]
  },
  {
   "cell_type": "markdown",
   "metadata": {},
   "source": [
    "Let’s now try our hands on computing some miscellaneous quantities."
   ]
  },
  {
   "cell_type": "markdown",
   "metadata": {},
   "source": [
    ">**(a)** The perimeter and area of a circle."
   ]
  },
  {
   "cell_type": "code",
   "execution_count": 54,
   "metadata": {
    "collapsed": false
   },
   "outputs": [
    {
     "name": "stdout",
     "output_type": "stream",
     "text": [
      "A circle of radius 5.0 has a perimeter of 31.4159265359 and an area of 78.5398163397\n"
     ]
    }
   ],
   "source": [
    "import math \n",
    "radius = 5.0\n",
    "circle_perimeter = 2.0 * math.pi * float(radius)\n",
    "circle_area = math.pi * (radius**2)\n",
    "print 'A circle of radius ' + str(radius) + ' has a perimeter of ' +  str(circle_perimeter) + ' and an area of ' + str(circle_area)"
   ]
  },
  {
   "cell_type": "markdown",
   "metadata": {},
   "source": [
    ">**(b)** The golden ratio."
   ]
  },
  {
   "cell_type": "code",
   "execution_count": 55,
   "metadata": {
    "collapsed": false
   },
   "outputs": [
    {
     "name": "stdout",
     "output_type": "stream",
     "text": [
      "The golden ratio is equal to 1.61803398875\n"
     ]
    }
   ],
   "source": [
    "golden_ratio = (1 + 5 ** 0.5) / 2\n",
    "print 'The golden ratio is equal to ' + str(golden_ratio)"
   ]
  },
  {
   "cell_type": "markdown",
   "metadata": {},
   "source": [
    ">**(c)** The height, volume and area of a **regular** pentagonal pyramid."
   ]
  },
  {
   "cell_type": "code",
   "execution_count": 61,
   "metadata": {
    "collapsed": false
   },
   "outputs": [
    {
     "name": "stdout",
     "output_type": "stream",
     "text": [
      "A regular pentagonal pyramid of side length 2.0 has a height of 1.41421356237, an area of 9.65685424949 and a volume of 1.88561808316. Interesting, I suppose.\n"
     ]
    }
   ],
   "source": [
    "from math import sqrt\n",
    "side_length = 2.\n",
    "pyramid_height = sqrt(side_length**2 / 2) # Replace me \n",
    "pyramid_area = 0.5 * (4.0 * side_length * pyramid_height) + side_length**2\n",
    "pyramid_volume = (side_length * side_length * pyramid_height) / 3 \n",
    "print 'A regular pentagonal pyramid of side length ' + str(side_length) + ' has a height of ' + str(pyramid_height) + ', an area of ' + str(pyramid_area) + ' and a volume of ' + str(pyramid_volume) + '. Interesting, I suppose.'"
   ]
  },
  {
   "cell_type": "markdown",
   "metadata": {},
   "source": [
    ">**(d)** The fractal dimension (Hausdorff dimension) of a Sierpinski Dodecahedron. Is it larger or smaller than the fractal dimension of a cauliflower?"
   ]
  },
  {
   "cell_type": "code",
   "execution_count": null,
   "metadata": {
    "collapsed": false
   },
   "outputs": [],
   "source": [
    "dodecahedron_fractal_dimension = 2.3296\n",
    "cauliflower_fractal_dimension = 0 # Replace me\n",
    "\n",
    "print 'A Sierpinski Dodecahedron has a fractal dimension of ' + str(dodecahedron_fractal_dimension) + ', how intriguing!'\n",
    "print 'A cauliflower has a fractal dimension of ' + str(cauliflower_fractal_dimension)\n",
    "\n",
    "if dodecahedron_fractal_dimension > cauliflower_fractal_dimension: \n",
    "    print 'The dodecahedron wins.'\n",
    "else: \n",
    "    print 'The cauliflower wins. Obviously.'"
   ]
  },
  {
   "cell_type": "markdown",
   "metadata": {},
   "source": [
    ">**Hints:** The use of Wikipedia to refresh your memory is completely encouraged. All the mathematic formulae that you’ll need are in the module math. Either check online (http://docs.python.org/library/math.html) or by importing the module and looking for its content using ipython:\n"
   ]
  },
  {
   "cell_type": "code",
   "execution_count": 3,
   "metadata": {
    "collapsed": false
   },
   "outputs": [],
   "source": [
    "import math"
   ]
  },
  {
   "cell_type": "markdown",
   "metadata": {},
   "source": [
    "### Problem 4. Strings manipulation\n",
    "\n",
    "We will now try a few functions from the standard library for strings. Everything you need should be available in the string module."
   ]
  },
  {
   "cell_type": "markdown",
   "metadata": {},
   "source": [
    ">**(a)** Find the functions to transform the following string into: lowercase, uppercase, sentence- case (first letter of first word is capitalized)."
   ]
  },
  {
   "cell_type": "code",
   "execution_count": 4,
   "metadata": {
    "collapsed": false
   },
   "outputs": [
    {
     "name": "stdout",
     "output_type": "stream",
     "text": [
      "uSiNg aPPrOpRiAtE cApiTaLISAtiOn iS iMpOrTaNt fOr yOuR rEaDer'S SANity\n",
      "using appropriate capitalisation is important for your reader's sanity\n",
      "Using appropriate capitalisation is important for your reader's sanity\n"
     ]
    }
   ],
   "source": [
    "import string\n",
    "\n",
    "message = \"uSiNg aPPrOpRiAtE cApiTaLISAtiOn iS iMpOrTaNt fOr yOuR rEaDer'S SANity\"\n",
    "lowercased =  str.lower(message)\n",
    "sentencecased =  str.capitalize(message)\n",
    "\n",
    "\n",
    "\n",
    "print message + '\\n' + lowercased + '\\n' + sentencecased"
   ]
  },
  {
   "cell_type": "markdown",
   "metadata": {},
   "source": [
    ">**Hints:** Read the string module documentation carefully! https://docs.python.org/2/library/string.html Functions sometimes have similar names, but do different things!\n"
   ]
  },
  {
   "cell_type": "markdown",
   "metadata": {},
   "source": [
    ">**(b)** Find how to align some text to the left, the right or to the center of a string of known fixed width. This could be useful to align your table in the next problem for example."
   ]
  },
  {
   "cell_type": "code",
   "execution_count": 16,
   "metadata": {
    "collapsed": false
   },
   "outputs": [
    {
     "name": "stdout",
     "output_type": "stream",
     "text": [
      "I want this aligned properly! \n",
      "********************\n",
      "align me            \n",
      "            align me\n",
      "      align me      \n",
      "********************\n"
     ]
    }
   ],
   "source": [
    "#from string import format_field\n",
    "# Question (b)\n",
    "text = 'align me'\n",
    "width = 20\n",
    "stars = '*'*width\n",
    "text_left   =  text.ljust(20)\n",
    "text_right  =  text.rjust(20)\n",
    "text_center =  text.center(20)\n",
    "\n",
    "print 'I want this aligned properly! ' + '\\n' + stars + '\\n' + text_left + '\\n' + text_right + '\\n' + text_center + '\\n' + stars"
   ]
  },
  {
   "cell_type": "markdown",
   "metadata": {},
   "source": [
    ">**(c)** Enforce the correct spelling of Python. It is not “Pyhton”, “python” or “pythons”. (Hint: you can chain multiple function calls: the output of one function can be the input of another one)"
   ]
  },
  {
   "cell_type": "code",
   "execution_count": 5,
   "metadata": {
    "collapsed": false
   },
   "outputs": [
    {
     "name": "stdout",
     "output_type": "stream",
     "text": [
      "Scientific Programming in Python: The student will be able to write simple programs in Python.\n"
     ]
    }
   ],
   "source": [
    "# Question (c)\n",
    "import string\n",
    "\n",
    "email = \"Scientific Programming in Pyhton: The student will be able to write simple programs in pythons.\"\n",
    "corrected = str.replace(str.replace(str.replace(email, 'Pyhton', 'Python'), 'pythons', 'Python'), 'python', 'Python')\n",
    "\n",
    "def spellchecker(email):\n",
    "    email = email.split()\n",
    "#print email\n",
    "    for i, word in enumerate(email):\n",
    "        #print i, word\n",
    "        if email[i] == \"pythons.\":\n",
    "            email[i] = \"Python.\"\n",
    "        elif email[i] == \"Pyhton:\":\n",
    "            email[i] = \"Python:\"\n",
    "    print \" \".join(email)\n",
    "\n",
    "\n",
    "spellchecker(email)"
   ]
  },
  {
   "cell_type": "markdown",
   "metadata": {},
   "source": [
    ">**(d)** Do what Python is doing to your code: remove everything after the first “#” you find on a line. Also remove all trailing (e.g. at the end) whitespaces."
   ]
  },
  {
   "cell_type": "code",
   "execution_count": 12,
   "metadata": {
    "collapsed": false
   },
   "outputs": [
    {
     "name": "stdout",
     "output_type": "stream",
     "text": [
      "print 'I quite like Python already!'\n"
     ]
    }
   ],
   "source": [
    "line = \"print 'I quite like Python already!'  # Actually, I just want easy credits\"\n",
    "no_comments = line[0:(line.find('#'))].rstrip()\n",
    "\n",
    "print(no_comments)"
   ]
  },
  {
   "cell_type": "markdown",
   "metadata": {},
   "source": [
    "### Problem 5. Times tables\n",
    "In this problem we’ll use for-loops, some lists and control how values are printed on screen, to produce a full times table (from 1 to 12)."
   ]
  },
  {
   "cell_type": "markdown",
   "metadata": {},
   "source": [
    ">**(a)** We’ll first start by creating the times table for 2. Using a for-loop, generate the 2-times table from 1 to 12:"
   ]
  },
  {
   "cell_type": "code",
   "execution_count": 37,
   "metadata": {
    "collapsed": true
   },
   "outputs": [],
   "source": [
    "del list1"
   ]
  },
  {
   "cell_type": "code",
   "execution_count": 13,
   "metadata": {
    "collapsed": false
   },
   "outputs": [
    {
     "name": "stdout",
     "output_type": "stream",
     "text": [
      "[2, 4, 6, 8, 10, 12, 14, 16, 18, 20, 22, 24]\n"
     ]
    }
   ],
   "source": [
    "max_time = 12\n",
    "number = 2\n",
    "\n",
    "#print(range(2, 26,2))\n",
    "\n",
    "#for i in range(number, max_time * number + number, number):\n",
    " #   print(i)\n",
    "\n",
    "#del list1\n",
    "list1=list()\n",
    "for i in range(1,max_time + 1):\n",
    "    list1.append((i*2))\n",
    "    \n",
    "print(list1) \n",
    "    \n",
    "# times_2 should now be [2, 4, 6, 8, 10, 12, 14, 16, 18, 20, 22, 24]"
   ]
  },
  {
   "cell_type": "markdown",
   "metadata": {},
   "source": [
    ">**Hint:** remember that <code>range(x)</code> starts at 0 and finishes at $(x − 1)$. Give it 2 parameters to control where it should start at.)"
   ]
  },
  {
   "cell_type": "markdown",
   "metadata": {},
   "source": [
    ">**(b)** Now we’ll just format the result so that it looks nicer. Write code to automatically convert times_2 into the following string (separate with spaces):"
   ]
  },
  {
   "cell_type": "raw",
   "metadata": {},
   "source": [
    "2 | 2 4 6 8 10 12 14 16 18 20"
   ]
  },
  {
   "cell_type": "code",
   "execution_count": 32,
   "metadata": {
    "collapsed": false
   },
   "outputs": [
    {
     "name": "stdout",
     "output_type": "stream",
     "text": [
      "2 | 2 4 6 8 10 12 14 16 18 20 22 24\n"
     ]
    }
   ],
   "source": [
    "some_text = '2 | '\n",
    "#for fig in list1:\n",
    " #   some_text.join(str(fig))\n",
    "entry = '2 |'\n",
    "\n",
    "for i in range(2,26,2):  \n",
    "    entry += ' ' +str(i)\n",
    "   \n",
    "print(entry)\n",
    "    \n",
    "# for i in xrange(1,max_time+1):\n",
    "#         print_row(row(i, max_time))\n",
    "\n"
   ]
  },
  {
   "cell_type": "markdown",
   "metadata": {},
   "source": [
    ">**(c)** We’ve actually already generated one line of our full table. You could just copy and paste your code and change the loop to get all the lines from 1 to 12, but you might make a mistake, or you might want to get lines from 1 to 1000. Looking at your code, if you change the <code>number</code> variable it should create the correct line for the value contained in <code>number</code>. So we just have to loop over the values of 1 to 12 for this <code>number</code> variable.\n",
    "This is called nested loops, and you’ll use nested loops over and over again in your programs. Simply put another loop into your loop (make sure that you give the iterating variable a different name for each loop). What does the following piece of code do? Write down what you think the output would be if <code>max\\_time</code> contained the value 4 and then set <code>max\\_time</code> to 4 and run this piece of code and make sure you were right."
   ]
  },
  {
   "cell_type": "code",
   "execution_count": 11,
   "metadata": {
    "collapsed": false
   },
   "outputs": [
    {
     "name": "stdout",
     "output_type": "stream",
     "text": [
      "0 0\n",
      "0 1\n",
      "0 2\n",
      "0 3\n",
      "0 4\n",
      "0 5\n",
      "0 6\n",
      "0 7\n",
      "0 8\n",
      "0 9\n",
      "0 10\n",
      "0 11\n",
      "1 0\n",
      "1 1\n",
      "1 2\n",
      "1 3\n",
      "1 4\n",
      "1 5\n",
      "1 6\n",
      "1 7\n",
      "1 8\n",
      "1 9\n",
      "1 10\n",
      "1 11\n",
      "2 0\n",
      "2 1\n",
      "2 2\n",
      "2 3\n",
      "2 4\n",
      "2 5\n",
      "2 6\n",
      "2 7\n",
      "2 8\n",
      "2 9\n",
      "2 10\n",
      "2 11\n",
      "3 0\n",
      "3 1\n",
      "3 2\n",
      "3 3\n",
      "3 4\n",
      "3 5\n",
      "3 6\n",
      "3 7\n",
      "3 8\n",
      "3 9\n",
      "3 10\n",
      "3 11\n",
      "4 0\n",
      "4 1\n",
      "4 2\n",
      "4 3\n",
      "4 4\n",
      "4 5\n",
      "4 6\n",
      "4 7\n",
      "4 8\n",
      "4 9\n",
      "4 10\n",
      "4 11\n",
      "5 0\n",
      "5 1\n",
      "5 2\n",
      "5 3\n",
      "5 4\n",
      "5 5\n",
      "5 6\n",
      "5 7\n",
      "5 8\n",
      "5 9\n",
      "5 10\n",
      "5 11\n",
      "6 0\n",
      "6 1\n",
      "6 2\n",
      "6 3\n",
      "6 4\n",
      "6 5\n",
      "6 6\n",
      "6 7\n",
      "6 8\n",
      "6 9\n",
      "6 10\n",
      "6 11\n",
      "7 0\n",
      "7 1\n",
      "7 2\n",
      "7 3\n",
      "7 4\n",
      "7 5\n",
      "7 6\n",
      "7 7\n",
      "7 8\n",
      "7 9\n",
      "7 10\n",
      "7 11\n",
      "8 0\n",
      "8 1\n",
      "8 2\n",
      "8 3\n",
      "8 4\n",
      "8 5\n",
      "8 6\n",
      "8 7\n",
      "8 8\n",
      "8 9\n",
      "8 10\n",
      "8 11\n",
      "9 0\n",
      "9 1\n",
      "9 2\n",
      "9 3\n",
      "9 4\n",
      "9 5\n",
      "9 6\n",
      "9 7\n",
      "9 8\n",
      "9 9\n",
      "9 10\n",
      "9 11\n",
      "10 0\n",
      "10 1\n",
      "10 2\n",
      "10 3\n",
      "10 4\n",
      "10 5\n",
      "10 6\n",
      "10 7\n",
      "10 8\n",
      "10 9\n",
      "10 10\n",
      "10 11\n",
      "11 0\n",
      "11 1\n",
      "11 2\n",
      "11 3\n",
      "11 4\n",
      "11 5\n",
      "11 6\n",
      "11 7\n",
      "11 8\n",
      "11 9\n",
      "11 10\n",
      "11 11\n"
     ]
    }
   ],
   "source": [
    "for i in range(max_time): \n",
    "    for j in range(max_time):\n",
    "        print i, j"
   ]
  },
  {
   "cell_type": "markdown",
   "metadata": {},
   "source": [
    ">**(d)** Using nested loops, create all the lines of the times table, for all numbers between 1 and 12. Use the same format as in part (b). Create two more lines on top to put the label of each column. You should get the following output:"
   ]
  },
  {
   "cell_type": "raw",
   "metadata": {},
   "source": [
    " 1 2 3 4 5 6 7 8 9 10 11 12\n",
    "------------------------------\n",
    "1 | 1 2 3 4 5 6 7 8 9 10 11 12\n",
    "2 | 2 4 6 8 10 12 14 16 18 20 22 24\n",
    "3 | 3 6 9 12 15 18 21 24 27 30 33 36\n",
    "4 | 4 8 12 16 20 24 28 32 36 40 44 48\n",
    "5 | 5 10 15 20 25 30 35 40 45 50 55 60\n",
    "6 | 6 12 18 24 30 36 42 48 54 60 66 72\n",
    "7 | 7 14 21 28 35 42 49 56 63 70 77 84\n",
    "8 | 8 16 24 32 40 48 56 64 72 80 88 96\n",
    "9 | 9 18 27 36 45 54 63 72 81 90 99 108\n",
    "10 | 10 20 30 40 50 60 70 80 90 100 110 120\n",
    "11 | 11 22 33 44 55 66 77 88 99 110 121 132\n",
    "12 | 12 24 36 48 60 72 84 96 108 120 132 144"
   ]
  },
  {
   "cell_type": "code",
   "execution_count": null,
   "metadata": {
    "collapsed": false
   },
   "outputs": [],
   "source": [
    "max_time = 10\n",
    "number = 3\n",
    "\n",
    "def row(number, max_time):\n",
    "    pass\n",
    "\n",
    "\n",
    "def times_table(max_time):\n",
    "    pass\n",
    "\n",
    "def print_row(row):\n",
    "    pass\n",
    "    \n",
    "    \n",
    "def print_header(max_time):\n",
    "    pass\n",
    "\n",
    "\n",
    "times_table(16)"
   ]
  },
  {
   "cell_type": "markdown",
   "metadata": {},
   "source": [
    ">**Hint**: Generate a line for each line, and print it only when it’s complete. You actually do not need to create the intermediate list anymore, you can generate the string for the current line directly"
   ]
  },
  {
   "cell_type": "markdown",
   "metadata": {},
   "source": [
    ">**(e)** As you can see, our table is not well-aligned. We really need to enforce a minimum “size” used by each number. We can do that easily by putting spaces around the numbers when they are too short. Modify the code for your multiplication table so that the columns of the table it prints are aligned. Hint: the code <code>len(str(n)) == 1</code> will be <code>true</code> if the number contained in the variable n is one digit long.\n",
    "Correct your code to get the following output:"
   ]
  },
  {
   "cell_type": "raw",
   "metadata": {},
   "source": [
    "        1    2    3    4    5    6    7    8    9   10   11   12\n",
    "    ------------------------------------------------------------------------\n",
    " 1 |    1    2    3    4    5    6    7    8    9   10   11   12 \n",
    " 2 |    2    4    6    8   10   12   14   16   18   20   22   24 \n",
    " 3 |    3    6    9   12   15   18   21   24   27   30   33   36 \n",
    " 4 |    4    8   12   16   20   24   28   32   36   40   44   48 \n",
    " 5 |    5   10   15   20   25   30   35   40   45   50   55   60 \n",
    " 6 |    6   12   18   24   30   36   42   48   54   60   66   72 \n",
    " 7 |    7   14   21   28   35   42   49   56   63   70   77   84 \n",
    " 8 |    8   16   24   32   40   48   56   64   72   80   88   96 \n",
    " 9 |    9   18   27   36   45   54   63   72   81   90   99  108 \n",
    "10 |   10   20   30   40   50   60   70   80   90  100  110  120 \n",
    "11 |   11   22   33   44   55   66   77   88   99  110  121  132 \n",
    "12 |   12   24   36   48   60   72   84   96  108  120  132  144 "
   ]
  },
  {
   "cell_type": "markdown",
   "metadata": {},
   "source": [
    ">**Hint:** Remember the <code>ljust(), rjust()</code> and <code>center()</code>functions!   "
   ]
  },
  {
   "cell_type": "code",
   "execution_count": null,
   "metadata": {
    "collapsed": false
   },
   "outputs": [],
   "source": [
    "# Your code here"
   ]
  },
  {
   "cell_type": "markdown",
   "metadata": {},
   "source": [
    "### Problem 7. Pascal’s triangle\n",
    "\n",
    "This is a slight variation on the previous exercise. The goal is to generate [Pascal's Triangle](http://en.wikipedia.org/wiki/Pascal's_triangle):\n",
    "\n",
    "<p><center><a href=\"http://commons.wikimedia.org/wiki/File:PascalTriangleAnimated2.gif#mediaviewer/File:PascalTriangleAnimated2.gif\"><img src=\"http://upload.wikimedia.org/wikipedia/commons/0/0d/PascalTriangleAnimated2.gif\" alt=\"PascalTriangleAnimated2.gif\"></a></center></p>\n",
    "\n",
    "The rules to generate the triangle are quite simple:\n",
    "\n",
    "* Each number is the sum of the two just above it, the above-left and the above-right one. (e.g. 5 on the last line is 1 + 4).\n",
    "* The top and sides of the triangle are initialised with 1s."
   ]
  },
  {
   "cell_type": "markdown",
   "metadata": {},
   "source": [
    ">**(a)** For this exercise, we’ll use a 2D list. This is really just a list of list, think of it like a matrix (or an Excel spreadsheet if you hate matrices). Example of usage:"
   ]
  },
  {
   "cell_type": "code",
   "execution_count": null,
   "metadata": {
    "collapsed": false
   },
   "outputs": [],
   "source": [
    "list_list = [[1], [2, 3], [4, 5]]\n",
    "list_list[0]\n",
    "[1]\n",
    "list_list[0][0]\n",
    "1\n",
    "list_list[1][1]\n",
    "3\n",
    "list_list[2].append(6)\n",
    "list_list"
   ]
  },
  {
   "cell_type": "markdown",
   "metadata": {},
   "source": [
    ">Let’s first start by generating a 2D list with the exact same structure as Pascal’s triangle (we’ll compute the correct values later, let’s fill it up with 1’s for now). We need to generate a list of lists with 1 element in the first list, 2 elements in the second list, 3 on the third list, etc... Modify the following code, using nested loops, to create the correct result:"
   ]
  },
  {
   "cell_type": "code",
   "execution_count": null,
   "metadata": {
    "collapsed": false
   },
   "outputs": [],
   "source": [
    "####\n",
    "# Pascal's Triangle\n",
    "#\n",
    "#  Create and print Pascal's triangle\n",
    "####\n",
    "\n",
    "number_lines = 6\n",
    "# Part (a)\n",
    "   triangle = [[1]]\n",
    "   # Complete the code here\n",
    "   #for i in ...\n",
    "   #    triangle.append([])\n",
    "# for j in ...\n",
    "print triangle\n",
    "# Should get [[1], [1, 1], [1, 1, 1], [1, 1, 1, 1], [1, 1, 1, 1, 1]]"
   ]
  },
  {
   "cell_type": "markdown",
   "metadata": {},
   "source": [
    ">**Hint:** remember range iterates up to a variable’s value"
   ]
  },
  {
   "cell_type": "markdown",
   "metadata": {},
   "source": [
    ">**(b)** Write some code to print your 2D list as a triangle! Where are the above-left and above-right items associated with each element in this view? This is relevant, as it corresponds exactly to accessing the items of your triangle with indices."
   ]
  },
  {
   "cell_type": "raw",
   "metadata": {},
   "source": [
    "1\n",
    "1 1\n",
    "1 1 1 \n",
    "1 1 1 1\n",
    "1 1 1 1 1"
   ]
  },
  {
   "cell_type": "code",
   "execution_count": null,
   "metadata": {
    "collapsed": false
   },
   "outputs": [],
   "source": [
    "# Your code here"
   ]
  },
  {
   "cell_type": "markdown",
   "metadata": {},
   "source": [
    ">**(c)** Now modify your code to get the actual values of Pascal’s triangle. Remember you can access elements you already generated in a previous iteration of the for-loop (e.g. <code>triangle[i-1][j]</code>). You will have to be careful about accessing numbers that do not exist, add if-statements to handle special cases.\n",
    "(**Hint:** When you try to access the “above-right” element, you can compare i and j to figure out whether or not it exists)"
   ]
  },
  {
   "cell_type": "raw",
   "metadata": {},
   "source": [
    "1\n",
    "1 1\n",
    "1 2 1\n",
    "1 3 3 1\n",
    "1 4 6 4 1"
   ]
  },
  {
   "cell_type": "code",
   "execution_count": null,
   "metadata": {
    "collapsed": false
   },
   "outputs": [],
   "source": [
    "# Your code here"
   ]
  },
  {
   "cell_type": "markdown",
   "metadata": {},
   "source": [
    ">**(d)** (advanced) Now modify the code printing your triangle to make it actually look just like the triangle shown at the start of the problem.\n",
    "You’ll have to adjust the space used by each element again, just like for the times table."
   ]
  },
  {
   "cell_type": "raw",
   "metadata": {},
   "source": [
    "           1            \n",
    "         1   1          \n",
    "       1   2   1        \n",
    "     1   3   3   1      \n",
    "   1   4   6   4   1    \n",
    " 1   5   10  10  5   1  "
   ]
  },
  {
   "cell_type": "code",
   "execution_count": null,
   "metadata": {
    "collapsed": false
   },
   "outputs": [],
   "source": [
    "# Your code here"
   ]
  },
  {
   "cell_type": "markdown",
   "metadata": {},
   "source": [
    "### Problem 7. Scrolling display\n",
    "\n",
    "This exercise will get you to play with strings and indices. The goal is to create a simulation of a dot-matrix display, and scroll some text through it. Remember how your cheap alarm-clock shows time? That’s a dot-matrix display. We want to get something like that: http://www.youtube.com/watch?v=vWFPXTyoZCA"
   ]
  },
  {
   "cell_type": "markdown",
   "metadata": {},
   "source": [
    ">**(a)** We start easy, and just try to scroll some text directly. Complete the following code in order to print only display_width characters of the message.\n",
    "Here, we use an infinite loop (this is a big source of errors, but sometimes useful. Stop your program by pressing CTRL-C), so we have to increment curr_start manually. Make sure to verify that it doesn’t go beyond the overall length of the message."
   ]
  },
  {
   "cell_type": "code",
   "execution_count": null,
   "metadata": {
    "collapsed": false
   },
   "outputs": [],
   "source": [
    "message = 'This is a completely relevant exercise'\n",
    "display_width = 15\n",
    "\n",
    "# Get the message length\n",
    "message_length = len(message)\n",
    "curr_start = 0\n",
    "\n",
    "while True:\n",
    "# Grab the important part of the message display = '' # ... Replace me\n",
    "         # Show the results\n",
    "print display\n",
    "# Complete me..."
   ]
  },
  {
   "cell_type": "markdown",
   "metadata": {},
   "source": [
    ">We should get something like this:"
   ]
  },
  {
   "cell_type": "raw",
   "metadata": {},
   "source": [
    "This is a completely relevant\n",
    "his is a completely relevant e\n",
    "is is a completely relevant ex\n",
    "s is a completely relevant exe\n",
    " is a completely relevant exer\n",
    "is a completely relevant exerc\n",
    "s a completely relevant exerci\n",
    " a completely relevant exercis\n",
    "a completely relevant exercise\n",
    " completely relevant exercise\n",
    "completely relevant exercise\n",
    "ompletely relevant exercise\n",
    "mpletely relevant exercise\n",
    "pletely relevant exercise\n",
    "letely relevant exercise\n",
    "etely relevant exercise\n",
    "tely relevant exercise\n",
    "ely relevant exercise\n",
    "ly relevant exercise"
   ]
  },
  {
   "cell_type": "markdown",
   "metadata": {},
   "source": [
    ">**(c)** Now we will make it so that the message is repeated accross the display. You will need to concatenate another part of the message at the end of the display string. You can modify the original string to add a few spaces at the end, so that it doesn’t repeat directly and look weird (e.g. instead of getting “exerciseThis” you should get “exercise This”). Your output should now be:"
   ]
  },
  {
   "cell_type": "raw",
   "metadata": {},
   "source": [
    "This is a completely relevant \n",
    "his is a completely relevant e\n",
    "is is a completely relevant ex\n",
    "s is a completely relevant exe\n",
    " is a completely relevant exer\n",
    "is a completely relevant exerc\n",
    "s a completely relevant exerci\n",
    " a completely relevant exercis\n",
    "a completely relevant exercise\n",
    " completely relevant exercise \n",
    "completely relevant exercise  \n",
    "ompletely relevant exercise   \n",
    "mpletely relevant exercise   T\n",
    "pletely relevant exercise   Th\n",
    "letely relevant exercise   Thi\n",
    "etely relevant exercise   This\n",
    "tely relevant exercise   This \n",
    "ely relevant exercise   This i\n",
    "ly relevant exercise   This is\n",
    "y relevant exercise   This is \n",
    " relevant exercise   This is a\n",
    "relevant exercise   This is a \n",
    "elevant exercise   This is a c\n",
    "levant exercise   This is a co\n",
    "evant exercise   This is a com"
   ]
  },
  {
   "cell_type": "code",
   "execution_count": null,
   "metadata": {
    "collapsed": false
   },
   "outputs": [],
   "source": [
    "# Your code here"
   ]
  },
  {
   "cell_type": "markdown",
   "metadata": {},
   "source": [
    ">**(c)** You can make it so that your terminal is “cleared” by using the “os” module and add the following command at the start of your loop:"
   ]
  },
  {
   "cell_type": "code",
   "execution_count": null,
   "metadata": {
    "collapsed": false
   },
   "outputs": [],
   "source": [
    "import os\n",
    "os.system('cls' if os.name=='nt' else 'clear')"
   ]
  },
  {
   "cell_type": "markdown",
   "metadata": {},
   "source": [
    ">You will see more about os.system later (if this looks complicated, it’s because this works on both Windows and Mac OS X/Linux).\n",
    "You can then slow down the speed of the display by putting small pauses between each iteration of the loop. You do that by importing the module time and using sleep:"
   ]
  },
  {
   "cell_type": "code",
   "execution_count": null,
   "metadata": {
    "collapsed": false
   },
   "outputs": [],
   "source": [
    "import time\n",
    "time.sleep(0.05)"
   ]
  },
  {
   "cell_type": "markdown",
   "metadata": {},
   "source": [
    ">Remember to read on function you do not know, for example in the Standard Library online.\n",
    "With those two functions, it should look like you have a real scrolling display in your Ter- minal."
   ]
  },
  {
   "cell_type": "code",
   "execution_count": null,
   "metadata": {
    "collapsed": false
   },
   "outputs": [],
   "source": []
  }
 ],
 "metadata": {
  "kernelspec": {
   "display_name": "Python 2",
   "language": "python",
   "name": "python2"
  },
  "language_info": {
   "codemirror_mode": {
    "name": "ipython",
    "version": 2
   },
   "file_extension": ".py",
   "mimetype": "text/x-python",
   "name": "python",
   "nbconvert_exporter": "python",
   "pygments_lexer": "ipython2",
   "version": "2.7.11"
  }
 },
 "nbformat": 4,
 "nbformat_minor": 0
}
