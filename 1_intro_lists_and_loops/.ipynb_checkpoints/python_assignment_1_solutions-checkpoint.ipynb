{
 "cells": [
  {
   "cell_type": "markdown",
   "metadata": {},
   "source": [
    "## Solutions to assignmnents:"
   ]
  },
  {
   "cell_type": "markdown",
   "metadata": {},
   "source": [
    "###Problem 2. Convert imperial to metric"
   ]
  },
  {
   "cell_type": "code",
   "execution_count": null,
   "metadata": {
    "collapsed": false
   },
   "outputs": [],
   "source": [
    "weight_lbs = float(raw_input(\"Please enter your weight in lbs: \")) # in pounds\n",
    "weight_kg = weight_lbs * 0.45#<- put your code here!\n",
    "print 'Weight in kilograms: ' + str(weight_kg)"
   ]
  },
  {
   "cell_type": "markdown",
   "metadata": {},
   "source": [
    "### Fahrenheit converter"
   ]
  },
  {
   "cell_type": "code",
   "execution_count": null,
   "metadata": {
    "collapsed": false
   },
   "outputs": [],
   "source": [
    "temp_far = float(raw_input('Enter a temperature in Farenheit: '))\n",
    "temp_cel = 5/9.0 * (temp_far - 32)\n",
    "print 'Temperature in Celcius: ' + str(temp_cel)"
   ]
  },
  {
   "cell_type": "markdown",
   "metadata": {},
   "source": [
    "### Standard deviation"
   ]
  },
  {
   "cell_type": "markdown",
   "metadata": {},
   "source": [
    ">**(a)** Modify this code so that it prints the mean on the first line of its output and prints the standard deviation of the three numbers on the second line of its output. Remember that the standard deviation of a sample $x_1,x_2,\\ldots,x_n$ with sample mean $\\hat{x}=\\sum_{i=1}^n x_i/n $ is defined to be:\n",
    "\n",
    "<center>$ s = \\sqrt{\\displaystyle\\frac{1}{n-1}\\displaystyle\\sum_{i=1}^n(x_i - \\hat{x})^2}$</center>"
   ]
  },
  {
   "cell_type": "code",
   "execution_count": null,
   "metadata": {
    "collapsed": false
   },
   "outputs": [],
   "source": [
    "from math import sqrt\n",
    "x1 = float(raw_input('Enter the first number: '))\n",
    "x2 = float(raw_input('Enter the second number: '))\n",
    "x3 = float(raw_input('Enter the third number: '))\n",
    "xhat = (x1 + x2 + x3) / 3.0\n",
    "print \"Mean: \", xhat\n",
    "std = sqrt(1/(3.0-1)*((x1 - xhat)**2+(x2 - xhat)**2+(x2 - xhat)**2))\n",
    "print std"
   ]
  },
  {
   "cell_type": "markdown",
   "metadata": {},
   "source": [
    "### Problem 3. Calculator"
   ]
  },
  {
   "cell_type": "code",
   "execution_count": null,
   "metadata": {
    "collapsed": false
   },
   "outputs": [],
   "source": [
    "import math\n",
    "\n",
    "# Question (a)\n",
    "radius = 5.\n",
    "\n",
    "circle_perimeter =  2.*math.pi*radius  # Replace me\n",
    "circle_area      =  math.pi*radius**2.  # Replace me\n",
    "\n",
    "print 'A circle of radius ' + str(radius) + ' has a perimeter of ' + str(circle_perimeter) + ' and an area of ' + str(circle_area)\n",
    "\n",
    "\n",
    "\n",
    "# Question (b)\n",
    "# http://en.wikipedia.org/wiki/Golden_ratio\n",
    "golden_ratio = (1.+math.sqrt(5))/2  # Replace me\n",
    "\n",
    "print 'The golden ratio is equal to ' + str(golden_ratio)\n",
    "\n",
    "\n",
    "\n",
    "# Question (c)\n",
    "# http://en.wikipedia.org/wiki/Pentagonal_pyramid\n",
    "side_length = 2.\n",
    "\n",
    "pyramid_height = math.sqrt((5-math.sqrt(5))/10)*side_length\n",
    "pyramid_area   = (math.sqrt(25.+10.*math.sqrt(5))/4. + 5*math.sqrt(3.)/4.)*side_length**2.  # Replace me\n",
    "pyramid_volume = ((5. + math.sqrt(5))/24)*side_length**3.\n",
    "print 'A regular pentagonal pyramid of side length ' + str(side_length) + ' has an height of ' + str(pyramid_height) + ', an area of ' + str(pyramid_area) + ' and a volume of ' + str(pyramid_volume) + '. Interesting, I suppose.'\n",
    "\n",
    "\n",
    "\n",
    "# Question (d)\n",
    "\n",
    "# http://en.wikipedia.org/wiki/List_of_fractals_by_Hausdorff_dimension\n",
    "dodecahedron_fractal_dimension = math.log(20)/math.log(2+golden_ratio)  # Replace me\n",
    "cauliflower_fractal_dimension  = math.log(13)/math.log(3)  # Replace me\n",
    "\n",
    "print 'A Sierpinski Dodecahedron has a fractal dimension of ' + str(dodecahedron_fractal_dimension) + ', how intriguing!'\n",
    "print 'A cauliflower has a fractal dimension of ' + str(cauliflower_fractal_dimension)\n",
    "\n",
    "if dodecahedron_fractal_dimension > cauliflower_fractal_dimension:\n",
    "    print 'The dodecahedron wins.'\n",
    "else:\n",
    "    print 'The cauliflower wins. Obviously.'"
   ]
  },
  {
   "cell_type": "markdown",
   "metadata": {},
   "source": [
    "### Problem 4. Strings manipulation"
   ]
  },
  {
   "cell_type": "code",
   "execution_count": null,
   "metadata": {
    "collapsed": false
   },
   "outputs": [],
   "source": [
    "# Question (a)\n",
    "message = \"uSiNg aPPrOpRiAtE cApiTaLISAtiOn iS iMpOrTaNt fOr yOuR rEaDerS' SANity\"\n",
    "lowercased = message.lower() # Replace me\n",
    "uppercased = message.upper() # Replace me\n",
    "sentencecased = message.capitalize() # Replace me\n",
    "print message + '\\n' + lowercased + '\\n' + uppercased + \"\\n\" + sentencecased"
   ]
  },
  {
   "cell_type": "code",
   "execution_count": null,
   "metadata": {
    "collapsed": false
   },
   "outputs": [],
   "source": [
    "text = 'align me'\n",
    "width = 20\n",
    "stars = '*'*width\n",
    "text_left   = ljust(text, width)   # Replace me\n",
    "text_right  = rjust(text, width)   # Replace me\n",
    "text_center = center(text, width)  # Replace me\n",
    "\n",
    "print 'I want this aligned properly! ' + '\\n' + stars + '\\n' + text_left + '\\n' + text_right + '\\n' + text_center + '\\n' + stars"
   ]
  },
  {
   "cell_type": "code",
   "execution_count": 2,
   "metadata": {
    "collapsed": false
   },
   "outputs": [
    {
     "name": "stdout",
     "output_type": "stream",
     "text": [
      "0 Scientific\n",
      "1 Programming\n",
      "2 in\n",
      "3 Pyhton:\n",
      "4 The\n",
      "5 student\n",
      "6 will\n",
      "7 be\n",
      "8 able\n",
      "9 to\n",
      "10 write\n",
      "11 simple\n",
      "12 programs\n",
      "13 in\n",
      "14 pythons.\n",
      "Scientific Programming in Python: The student will be able to write simple programs in Python.\n"
     ]
    }
   ],
   "source": [
    "from string import replace\n",
    "email = \"Scientific Programming in Pyhton: The student will be able to write simple programs in pythons.\"\n",
    "corrected = replace(replace(replace(email, 'Pyhton', 'Python'), 'pythons', 'Python'), 'python', 'Python')  # Replace me\n",
    "#print email + '\\n' + corrected\n",
    "\n",
    "email = \"Scientific Programming in Pyhton: The student will be able to write simple programs in pythons.\"\n",
    "email = email.split()\n",
    "#print email\n",
    "for i, word in enumerate(email):\n",
    "    print i, word\n",
    "    if email[i] == \"pythons.\":\n",
    "        email[i] = \"Python.\"\n",
    "    elif email[i] == \"Pyhton:\":\n",
    "        email[i] = \"Python:\"\n",
    "print \" \".join(email)"
   ]
  },
  {
   "cell_type": "markdown",
   "metadata": {},
   "source": [
    "### Problem 5 *Basics*: Alphabet "
   ]
  },
  {
   "cell_type": "markdown",
   "metadata": {},
   "source": [
    ">**(a)** We’ll first start by making a list each of the upper and lower case letters in the English alphabet:"
   ]
  },
  {
   "cell_type": "code",
   "execution_count": 2,
   "metadata": {
    "collapsed": true
   },
   "outputs": [],
   "source": [
    "import string\n",
    "uc = list(string.uppercase)\n",
    "lc = list(string.lowercase)"
   ]
  },
  {
   "cell_type": "markdown",
   "metadata": {},
   "source": [
    ">**(b)** Blank your full name from both lists, using a ```for``` loop (it's easiest to first concatenate them):"
   ]
  },
  {
   "cell_type": "code",
   "execution_count": 4,
   "metadata": {
    "collapsed": false
   },
   "outputs": [
    {
     "name": "stdout",
     "output_type": "stream",
     "text": [
      "['A', '*', 'C', 'D', 'E', 'F', 'G', 'H', 'I', '*', 'K', 'L', 'M', 'N', 'O', 'P', 'Q', 'R', 'S', 'T', 'U', 'V', 'W', 'X', 'Y', 'Z', '*', 'b', 'c', 'd', '*', 'f', 'g', '*', 'i', 'j', 'k', 'l', '*', '*', 'o', 'p', 'q', '*', 's', '*', 'u', 'v', 'w', 'x', '*', 'z']\n"
     ]
    }
   ],
   "source": [
    "both = uc + lc\n",
    "name = \"Jeremy Bentham\"\n",
    "\n",
    "for i in range(len(both)):\n",
    "    if both[i] in name:\n",
    "        both[i] = '*'\n",
    "\n",
    "print both        "
   ]
  },
  {
   "cell_type": "code",
   "execution_count": 12,
   "metadata": {
    "collapsed": false,
    "scrolled": true
   },
   "outputs": [
    {
     "name": "stdout",
     "output_type": "stream",
     "text": [
      "0 *\n",
      "1 *\n",
      "2 *\n",
      "3 *\n",
      "4 *\n",
      "5 *\n",
      "6 *\n",
      "7 *\n",
      "8 *\n",
      "9 *\n",
      "10 A\n",
      "11 C\n",
      "12 D\n",
      "13 E\n",
      "14 F\n",
      "15 G\n",
      "16 H\n",
      "17 I\n",
      "18 K\n",
      "19 L\n",
      "20 M\n",
      "21 N\n",
      "22 O\n",
      "23 P\n",
      "24 Q\n",
      "25 R\n",
      "26 S\n",
      "27 T\n",
      "28 U\n",
      "29 V\n",
      "30 W\n",
      "31 X\n",
      "32 Y\n",
      "33 Z\n",
      "34 b\n",
      "35 c\n",
      "36 d\n",
      "37 f\n",
      "38 g\n",
      "39 i\n",
      "40 j\n",
      "41 k\n",
      "42 l\n",
      "43 o\n",
      "44 p\n",
      "45 q\n",
      "46 s\n",
      "47 u\n",
      "48 v\n",
      "49 w\n",
      "50 x\n",
      "51 z\n"
     ]
    }
   ],
   "source": [
    "both_sorted = sorted(both)\n",
    "for index, letter in enumerate(both):\n",
    "    print index, letter\n",
    "both_blanksremoved = both[10:]\n",
    "print both_blanksremoved"
   ]
  },
  {
   "cell_type": "code",
   "execution_count": 13,
   "metadata": {
    "collapsed": false
   },
   "outputs": [
    {
     "name": "stdout",
     "output_type": "stream",
     "text": [
      "['A', 'C', 'D', 'E', 'F', 'G', 'H', 'I', 'K', 'L', 'M', 'N', 'O', 'P', 'Q', 'R', 'S', 'T', 'U', 'V', 'W', 'X', 'Y', 'Z', 'b', 'c', 'd', 'f', 'g', 'i', 'j', 'k', 'l', 'o', 'p', 'q', 's', 'u', 'v', 'w', 'x', 'z']\n"
     ]
    }
   ],
   "source": [
    "blanks_removed = [letter for letter in list(string.uppercase)+list(string.lowercase) if letter not in 'Jeremy Bentham']\n",
    "print blanks_removed"
   ]
  },
  {
   "cell_type": "code",
   "execution_count": null,
   "metadata": {
    "collapsed": false
   },
   "outputs": [],
   "source": []
  },
  {
   "cell_type": "markdown",
   "metadata": {},
   "source": [
    "### Problem 6 *Medium*: Times tables\n",
    "In this problem we’ll use for-loops, some lists and control how values are printed on screen, to produce a full times table (from 1 to 12).In this problem we’ll use for-loops, some lists and control how values are printed on screen, to produce a full times table (from 1 to 12)."
   ]
  },
  {
   "cell_type": "code",
   "execution_count": 47,
   "metadata": {
    "collapsed": false
   },
   "outputs": [
    {
     "name": "stdout",
     "output_type": "stream",
     "text": [
      "[0, 3, 6, 9, 12, 15, 18, 21, 24, 27, 30, 33, 36]\n",
      "    1 2 3 4 5 6 7 8 9 10 11 12 13 14 \n",
      "    ------------------------------------------\n",
      "1 | 1 2 3 4 5 6 7 8 9 10 11 12 13 14 \n",
      "2 | 2 4 6 8 10 12 14 16 18 20 22 24 26 28 \n",
      "3 | 3 6 9 12 15 18 21 24 27 30 33 36 39 42 \n",
      "4 | 4 8 12 16 20 24 28 32 36 40 44 48 52 56 \n",
      "5 | 5 10 15 20 25 30 35 40 45 50 55 60 65 70 \n",
      "6 | 6 12 18 24 30 36 42 48 54 60 66 72 78 84 \n",
      "7 | 7 14 21 28 35 42 49 56 63 70 77 84 91 98 \n",
      "8 | 8 16 24 32 40 48 56 64 72 80 88 96 104 112 \n",
      "9 | 9 18 27 36 45 54 63 72 81 90 99 108 117 126 \n",
      "10 | 10 20 30 40 50 60 70 80 90 100 110 120 130 140 \n",
      "11 | 11 22 33 44 55 66 77 88 99 110 121 132 143 154 \n",
      "12 | 12 24 36 48 60 72 84 96 108 120 132 144 156 168 \n",
      "13 | 13 26 39 52 65 78 91 104 117 130 143 156 169 182 \n",
      "14 | 14 28 42 56 70 84 98 112 126 140 154 168 182 196 \n"
     ]
    }
   ],
   "source": [
    "# Part (a)\n",
    "max_time = 13\n",
    "number = 2\n",
    "\n",
    "times_2 = []\n",
    "# Here you could also iterate over xrange(1, max_time+1), I just did it differently\n",
    "for i in range(max_time):\n",
    "    # Append to your new list\n",
    "    times_2.append(number*(i))\n",
    "print times_2\n",
    "\n",
    "\n",
    "def row(number, max_time):\n",
    "    '''Calculates the times row for a given number up to\n",
    "       a set maxium.'''\n",
    "    row = []\n",
    "    for i in xrange(1, max_time+1):\n",
    "        row.append(number*i)\n",
    "    return row\n",
    "\n",
    "\n",
    "def print_row(row):\n",
    "    '''Prints a times table row'''\n",
    "    row_string = str(row[0]) + \" | \"\n",
    "    for i in row:\n",
    "        row_string = row_string + str(i) + ' '\n",
    "    print row_string\n",
    "\n",
    "\n",
    "def print_header(max_time):\n",
    "    header = \"    \" # Some initial whitespace\n",
    "    for i in xrange(1, max_time+1):\n",
    "        header = header + str(i) + ' '\n",
    "    print header\n",
    "    print \"    \" + \"---\"*max_time\n",
    "\n",
    "\n",
    "def times_table(max_time):\n",
    "    print_header(max_time)\n",
    "    for i in xrange(1,max_time+1):\n",
    "        print_row(row(i, max_time))\n",
    "\n",
    "times_table(14)\n",
    "\n"
   ]
  },
  {
   "cell_type": "code",
   "execution_count": 59,
   "metadata": {
    "collapsed": false
   },
   "outputs": [
    {
     "name": "stdout",
     "output_type": "stream",
     "text": [
      "     1    2    3    4    5    6    7    8    9   10   11   12   13   14   15   16   17   18   19   20  \n",
      "   ----------------------------------------------------------------------------------------------------\n",
      " 1|  1    2    3    4    5    6    7    8    9   10   11   12   13   14   15   16   17   18   19   20  \n",
      " 2|  2    4    6    8   10   12   14   16   18   20   22   24   26   28   30   32   34   36   38   40  \n",
      " 3|  3    6    9   12   15   18   21   24   27   30   33   36   39   42   45   48   51   54   57   60  \n",
      " 4|  4    8   12   16   20   24   28   32   36   40   44   48   52   56   60   64   68   72   76   80  \n",
      " 5|  5   10   15   20   25   30   35   40   45   50   55   60   65   70   75   80   85   90   95  100  \n",
      " 6|  6   12   18   24   30   36   42   48   54   60   66   72   78   84   90   96  102  108  114  120  \n",
      " 7|  7   14   21   28   35   42   49   56   63   70   77   84   91   98  105  112  119  126  133  140  \n",
      " 8|  8   16   24   32   40   48   56   64   72   80   88   96  104  112  120  128  136  144  152  160  \n",
      " 9|  9   18   27   36   45   54   63   72   81   90   99  108  117  126  135  144  153  162  171  180  \n",
      "10| 10   20   30   40   50   60   70   80   90  100  110  120  130  140  150  160  170  180  190  200  \n",
      "11| 11   22   33   44   55   66   77   88   99  110  121  132  143  154  165  176  187  198  209  220  \n",
      "12| 12   24   36   48   60   72   84   96  108  120  132  144  156  168  180  192  204  216  228  240  \n",
      "13| 13   26   39   52   65   78   91  104  117  130  143  156  169  182  195  208  221  234  247  260  \n",
      "14| 14   28   42   56   70   84   98  112  126  140  154  168  182  196  210  224  238  252  266  280  \n",
      "15| 15   30   45   60   75   90  105  120  135  150  165  180  195  210  225  240  255  270  285  300  \n",
      "16| 16   32   48   64   80   96  112  128  144  160  176  192  208  224  240  256  272  288  304  320  \n",
      "17| 17   34   51   68   85  102  119  136  153  170  187  204  221  238  255  272  289  306  323  340  \n",
      "18| 18   36   54   72   90  108  126  144  162  180  198  216  234  252  270  288  306  324  342  360  \n",
      "19| 19   38   57   76   95  114  133  152  171  190  209  228  247  266  285  304  323  342  361  380  \n",
      "20| 20   40   60   80  100  120  140  160  180  200  220  240  260  280  300  320  340  360  380  400  \n"
     ]
    }
   ],
   "source": [
    "\n",
    "def row(number, max_time):\n",
    "    '''Calculates the times row for a given number up to\n",
    "       a set maximum.'''\n",
    "    row = []\n",
    "    for i in xrange(1, max_time+1):\n",
    "        row.append(number*i)\n",
    "    return row\n",
    "\n",
    "\n",
    "def print_row(row):\n",
    "    '''Prints a times table row'''\n",
    "    row_string = str(row[0]).rjust(2) + \"|\"\n",
    "    for i in row:\n",
    "        row_string = row_string + str(i).rjust(3) + \"  \"\n",
    "    print row_string\n",
    "\n",
    "\n",
    "def print_header(max_time):\n",
    "    '''Prints the header for the times table'''\n",
    "    header = \"   \" # Some initial whitespace\n",
    "    for i in xrange(1, max_time+1):\n",
    "        header = header + str(i).rjust(3) + \"  \" \n",
    "    print header\n",
    "    print \"   \" + \"-\"*max_time*5\n",
    "\n",
    "\n",
    "def times_table(max_time):\n",
    "    '''Print a times table'''\n",
    "    print_header(max_time)\n",
    "    \n",
    "    for i in xrange(1,max_time+1):\n",
    "        print_row(row(i, max_time))\n",
    "\n",
    "times_table(20)\n"
   ]
  },
  {
   "cell_type": "code",
   "execution_count": 118,
   "metadata": {
    "collapsed": false
   },
   "outputs": [
    {
     "name": "stdout",
     "output_type": "stream",
     "text": [
      "     1    2    3    4    5    6    7    8    9   10  \n",
      "   --------------------------------------------------\n",
      " 1|  1    2    3    4    5    6    7    8    9   10  \n",
      " 2|  2    4    6    8   10   12   14   16   18   20  \n",
      " 3|  3    6    9   12   15   18   21   24   27   30  \n",
      " 4|  4    8   12   16   20   24   28   32   36   40  \n",
      " 5|  5   10   15   20   25   30   35   40   45   50  \n",
      " 6|  6   12   18   24   30   36   42   48   54   60  \n",
      " 7|  7   14   21   28   35   42   49   56   63   70  \n",
      " 8|  8   16   24   32   40   48   56   64   72   80  \n",
      " 9|  9   18   27   36   45   54   63   72   81   90  \n",
      "10| 10   20   30   40   50   60   70   80   90  100  \n"
     ]
    }
   ],
   "source": [
    " times_table(10)"
   ]
  },
  {
   "cell_type": "markdown",
   "metadata": {},
   "source": [
    "### Problem 7. Pascal’s triangle\n",
    "\n",
    "This is a slight variation on the previous exercise. The goal is to generate [Pascal's Triangle](http://en.wikipedia.org/wiki/Pascal's_triangle):\n",
    "\n",
    "<p><center><a href=\"http://commons.wikimedia.org/wiki/File:PascalTriangleAnimated2.gif#mediaviewer/File:PascalTriangleAnimated2.gif\"><img src=\"http://upload.wikimedia.org/wikipedia/commons/0/0d/PascalTriangleAnimated2.gif\" alt=\"PascalTriangleAnimated2.gif\"></a></center></p>\n",
    "\n",
    "The rules to generate the triangle are quite simple:\n",
    "\n",
    "* Each number is the sum of the two just above it, the above-left and the above-right one. (e.g. 5 on the last line is 1 + 4).\n",
    "* The top and sides of the triangle are initialised with 1s."
   ]
  },
  {
   "cell_type": "markdown",
   "metadata": {},
   "source": [
    "### Solution\n",
    "We will use two nested loops, like the times table.\n",
    "\n",
    "`i` is going to index my lines, `j` is going to index my columns. \n",
    "\n",
    "In part (b), looking at the output for the triangle, you should see how a triangle is only a \"half-square\": using `i` and `j` for lines and columns still makes sense.\n",
    "\n",
    "But now the second one is not going to go all the way up to number_lines (that would build a square), instead we stop `j` at the current value of `i`.\n",
    "For example, on line 2, we need `j` to iterate over `[0, 1]`. On line 3, `[0, 1, 2]`.\n",
    "This is exactly what we do, except we have to be careful with the indices and how xrange/range behaves, so you will see slightly different arguments"
   ]
  },
  {
   "cell_type": "code",
   "execution_count": 56,
   "metadata": {
    "collapsed": false
   },
   "outputs": [],
   "source": [
    "number_lines = 10\n",
    "triangle = [[1]]\n",
    "\n",
    "for i in xrange(1, number_lines):\n",
    "    # Construct a new line in the triangle\n",
    "    triangle.append([])\n",
    "    # Iterate j up to the current i only, to get a triangle directly.\n",
    "    for j in xrange(i+1):\n",
    "\n",
    "        # Now we have to fill the triangle, according to the given rules.\n",
    "        if j == 0 or j == i:\n",
    "            # If we are on the sides of the triangle, we should write 1. \n",
    "            # The side is when j = 0 (left side) and j=i (right, its maximum value)\n",
    "            triangle[i].append(1)\n",
    "        else:\n",
    "            # If we are inside the triangle, we need to add the two numbers above us. \n",
    "            # When you look at the indices, and how the triangle looks in part (b), \n",
    "            # you should be able to see how I can access the correct numbers.\n",
    "            triangle[i].append(triangle[i-1][j-1] + triangle[i-1][j])"
   ]
  },
  {
   "cell_type": "code",
   "execution_count": 55,
   "metadata": {
    "collapsed": false
   },
   "outputs": [
    {
     "name": "stdout",
     "output_type": "stream",
     "text": [
      "[1]\n",
      "[1, 1]\n",
      "[1, 2, 1]\n",
      "[1, 3, 3, 1]\n",
      "[1, 4, 6, 4, 1]\n",
      "[1, 5, 10, 10, 5, 1]\n",
      "[1, 6, 15, 20, 15, 6, 1]\n",
      "[1, 7, 21, 35, 35, 21, 7, 1]\n",
      "[1, 8, 28, 56, 70, 56, 28, 8, 1]\n",
      "[1, 9, 36, 84, 126, 126, 84, 36, 9, 1]\n"
     ]
    }
   ],
   "source": [
    "for t in triangle:\n",
    "    print t"
   ]
  },
  {
   "cell_type": "markdown",
   "metadata": {},
   "source": [
    "## Print triangle nicely\n",
    "\n",
    "Here I will have to do the same as in the Time Table, add spaces appropriately so that everything looks nice and aligned. Here I am using 'center', to center my string with spaces around it.\n",
    "\n",
    "The subtle thing is to know the size each centered string should occupy.\n",
    "\n",
    "I compute w: the length of the number-string, on the last line in the middle of the triangle. (in the example, '10', the right one.). The length of the number-string is really just the number of digits of this number (here 2)\n",
    "Then if this number is odd, I add 3 to it (it will become even now)\n",
    "If the number is even, I add 2 to it (it will stay even).\n",
    "this seems arbitrary, but will give me a nice result which looks balanced. You could just fix w to 3 or 5 and everything would look nice enough."
   ]
  },
  {
   "cell_type": "code",
   "execution_count": 42,
   "metadata": {
    "collapsed": false
   },
   "outputs": [],
   "source": [
    "w = len(str(triangle[-1][len(triangle)/2]))\n",
    "if w % 2 == 1:\n",
    "    w += 3\n",
    "else:\n",
    "    w += 2"
   ]
  },
  {
   "cell_type": "markdown",
   "metadata": {},
   "source": [
    "So now that I have computed the space taken by each element of the triangle, I can compute the size used by the \"basis\" of the triangle, so here the last line. The last line contains number_line elements, and each should take w space: we know the overall width of our triangle.\n",
    "Every line should now be centered with this width, and it will give my the proper result."
   ]
  },
  {
   "cell_type": "code",
   "execution_count": 43,
   "metadata": {
    "collapsed": false
   },
   "outputs": [],
   "source": [
    "field = w*number_lines"
   ]
  },
  {
   "cell_type": "code",
   "execution_count": 45,
   "metadata": {
    "collapsed": false
   },
   "outputs": [
    {
     "name": "stdout",
     "output_type": "stream",
     "text": [
      "                             1                              \n",
      "                          1     1                           \n",
      "                       1     2     1                        \n",
      "                    1     3     3     1                     \n",
      "                 1     4     6     4     1                  \n",
      "              1     5     10    10    5     1               \n",
      "           1     6     15    20    15    6     1            \n",
      "        1     7     21    35    35    21    7     1         \n",
      "     1     8     28    56    70    56    28    8     1      \n",
      "  1     9     36    84   126   126    84    36    9     1   \n"
     ]
    }
   ],
   "source": [
    "pretty_triangle = []\n",
    "\n",
    "for line in triangle:\n",
    "    items = [] \n",
    "    for item in line:\n",
    "        items.append(str(item).center(w))\n",
    "    pretty_triangle.append(''.join(items).center(field))\n",
    "\n",
    "for l in pretty_triangle:\n",
    "    print l"
   ]
  },
  {
   "cell_type": "code",
   "execution_count": null,
   "metadata": {
    "collapsed": false
   },
   "outputs": [],
   "source": []
  }
 ],
 "metadata": {
  "kernelspec": {
   "display_name": "Python 2",
   "language": "python",
   "name": "python2"
  },
  "language_info": {
   "codemirror_mode": {
    "name": "ipython",
    "version": 2
   },
   "file_extension": ".py",
   "mimetype": "text/x-python",
   "name": "python",
   "nbconvert_exporter": "python",
   "pygments_lexer": "ipython2",
   "version": "2.7.11"
  }
 },
 "nbformat": 4,
 "nbformat_minor": 0
}
