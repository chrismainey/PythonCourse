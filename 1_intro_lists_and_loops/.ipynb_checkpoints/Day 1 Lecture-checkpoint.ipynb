{
 "cells": [
  {
   "cell_type": "code",
   "execution_count": 1,
   "metadata": {
    "collapsed": false
   },
   "outputs": [
    {
     "data": {
      "text/plain": [
       "7"
      ]
     },
     "execution_count": 1,
     "metadata": {},
     "output_type": "execute_result"
    }
   ],
   "source": [
    "2 + 5"
   ]
  },
  {
   "cell_type": "markdown",
   "metadata": {},
   "source": [
    "This is mark down"
   ]
  },
  {
   "cell_type": "code",
   "execution_count": 2,
   "metadata": {
    "collapsed": false
   },
   "outputs": [
    {
     "data": {
      "text/plain": [
       "0"
      ]
     },
     "execution_count": 2,
     "metadata": {},
     "output_type": "execute_result"
    }
   ],
   "source": [
    "1/2"
   ]
  },
  {
   "cell_type": "code",
   "execution_count": 3,
   "metadata": {
    "collapsed": false
   },
   "outputs": [
    {
     "data": {
      "text/plain": [
       "0.5"
      ]
     },
     "execution_count": 3,
     "metadata": {},
     "output_type": "execute_result"
    }
   ],
   "source": [
    "1.0/2"
   ]
  },
  {
   "cell_type": "code",
   "execution_count": 4,
   "metadata": {
    "collapsed": false
   },
   "outputs": [
    {
     "data": {
      "text/plain": [
       "8"
      ]
     },
     "execution_count": 4,
     "metadata": {},
     "output_type": "execute_result"
    }
   ],
   "source": [
    "2**3"
   ]
  },
  {
   "cell_type": "code",
   "execution_count": 5,
   "metadata": {
    "collapsed": false
   },
   "outputs": [
    {
     "data": {
      "text/plain": [
       "1"
      ]
     },
     "execution_count": 5,
     "metadata": {},
     "output_type": "execute_result"
    }
   ],
   "source": [
    "2^3"
   ]
  },
  {
   "cell_type": "code",
   "execution_count": 6,
   "metadata": {
    "collapsed": false
   },
   "outputs": [
    {
     "data": {
      "text/plain": [
       "11"
      ]
     },
     "execution_count": 6,
     "metadata": {},
     "output_type": "execute_result"
    }
   ],
   "source": [
    "9^2"
   ]
  },
  {
   "cell_type": "code",
   "execution_count": 7,
   "metadata": {
    "collapsed": false
   },
   "outputs": [
    {
     "data": {
      "text/plain": [
       "10"
      ]
     },
     "execution_count": 7,
     "metadata": {},
     "output_type": "execute_result"
    }
   ],
   "source": [
    "9^3"
   ]
  },
  {
   "cell_type": "code",
   "execution_count": 8,
   "metadata": {
    "collapsed": true
   },
   "outputs": [],
   "source": [
    "import math"
   ]
  },
  {
   "cell_type": "code",
   "execution_count": 9,
   "metadata": {
    "collapsed": false
   },
   "outputs": [
    {
     "data": {
      "text/plain": [
       "2.8284271247461903"
      ]
     },
     "execution_count": 9,
     "metadata": {},
     "output_type": "execute_result"
    }
   ],
   "source": [
    "math.sqrt(8)"
   ]
  },
  {
   "cell_type": "code",
   "execution_count": 10,
   "metadata": {
    "collapsed": false
   },
   "outputs": [
    {
     "ename": "SyntaxError",
     "evalue": "invalid syntax (<ipython-input-10-186ff497df9b>, line 1)",
     "output_type": "error",
     "traceback": [
      "\u001b[1;36m  File \u001b[1;32m\"<ipython-input-10-186ff497df9b>\"\u001b[1;36m, line \u001b[1;32m1\u001b[0m\n\u001b[1;33m    math.\u001b[0m\n\u001b[1;37m         ^\u001b[0m\n\u001b[1;31mSyntaxError\u001b[0m\u001b[1;31m:\u001b[0m invalid syntax\n"
     ]
    }
   ],
   "source": [
    "math."
   ]
  },
  {
   "cell_type": "code",
   "execution_count": 11,
   "metadata": {
    "collapsed": true
   },
   "outputs": [],
   "source": [
    "x=5"
   ]
  },
  {
   "cell_type": "code",
   "execution_count": 12,
   "metadata": {
    "collapsed": false
   },
   "outputs": [
    {
     "data": {
      "text/plain": [
       "5"
      ]
     },
     "execution_count": 12,
     "metadata": {},
     "output_type": "execute_result"
    }
   ],
   "source": [
    "x"
   ]
  },
  {
   "cell_type": "code",
   "execution_count": 13,
   "metadata": {
    "collapsed": true
   },
   "outputs": [],
   "source": [
    "width = 5\n",
    "length = 7"
   ]
  },
  {
   "cell_type": "code",
   "execution_count": 14,
   "metadata": {
    "collapsed": false
   },
   "outputs": [
    {
     "data": {
      "text/plain": [
       "35"
      ]
     },
     "execution_count": 14,
     "metadata": {},
     "output_type": "execute_result"
    }
   ],
   "source": [
    "width*length"
   ]
  },
  {
   "cell_type": "code",
   "execution_count": 2,
   "metadata": {
    "collapsed": true
   },
   "outputs": [],
   "source": [
    "def area(width, height):\n",
    "    '''A function to calculate the area'''\n",
    "    return width * height"
   ]
  },
  {
   "cell_type": "code",
   "execution_count": 16,
   "metadata": {
    "collapsed": false
   },
   "outputs": [
    {
     "data": {
      "text/plain": [
       "35"
      ]
     },
     "execution_count": 16,
     "metadata": {},
     "output_type": "execute_result"
    }
   ],
   "source": [
    "area(5,7)"
   ]
  },
  {
   "cell_type": "code",
   "execution_count": 18,
   "metadata": {
    "collapsed": false
   },
   "outputs": [
    {
     "name": "stdout",
     "output_type": "stream",
     "text": [
      "Help on function area in module __main__:\n",
      "\n",
      "area(width, height)\n",
      "    A function to calcualte the area\n",
      "\n"
     ]
    }
   ],
   "source": [
    "help(area)"
   ]
  },
  {
   "cell_type": "code",
   "execution_count": 19,
   "metadata": {
    "collapsed": false
   },
   "outputs": [
    {
     "data": {
      "text/plain": [
       "'22'"
      ]
     },
     "execution_count": 19,
     "metadata": {},
     "output_type": "execute_result"
    }
   ],
   "source": [
    "\"2\"+ \"2\""
   ]
  },
  {
   "cell_type": "code",
   "execution_count": 22,
   "metadata": {
    "collapsed": true
   },
   "outputs": [],
   "source": [
    "message = \"Hello world.  How many things am I going to type today?\""
   ]
  },
  {
   "cell_type": "code",
   "execution_count": 23,
   "metadata": {
    "collapsed": false
   },
   "outputs": [
    {
     "data": {
      "text/plain": [
       "'Hello world.  How many things am I going to type today?'"
      ]
     },
     "execution_count": 23,
     "metadata": {},
     "output_type": "execute_result"
    }
   ],
   "source": [
    "message"
   ]
  },
  {
   "cell_type": "code",
   "execution_count": 24,
   "metadata": {
    "collapsed": false
   },
   "outputs": [
    {
     "data": {
      "text/plain": [
       "55"
      ]
     },
     "execution_count": 24,
     "metadata": {},
     "output_type": "execute_result"
    }
   ],
   "source": [
    "len(message)"
   ]
  },
  {
   "cell_type": "code",
   "execution_count": 25,
   "metadata": {
    "collapsed": false
   },
   "outputs": [
    {
     "name": "stdout",
     "output_type": "stream",
     "text": [
      "55\n"
     ]
    }
   ],
   "source": [
    "print(len(message))"
   ]
  },
  {
   "cell_type": "code",
   "execution_count": 26,
   "metadata": {
    "collapsed": false
   },
   "outputs": [
    {
     "data": {
      "text/plain": [
       "'e'"
      ]
     },
     "execution_count": 26,
     "metadata": {},
     "output_type": "execute_result"
    }
   ],
   "source": [
    "message[1]"
   ]
  },
  {
   "cell_type": "code",
   "execution_count": 28,
   "metadata": {
    "collapsed": false
   },
   "outputs": [
    {
     "name": "stdout",
     "output_type": "stream",
     "text": [
      "H\n"
     ]
    }
   ],
   "source": [
    "print(message[0])"
   ]
  },
  {
   "cell_type": "code",
   "execution_count": 29,
   "metadata": {
    "collapsed": false
   },
   "outputs": [
    {
     "data": {
      "text/plain": [
       "'Hello'"
      ]
     },
     "execution_count": 29,
     "metadata": {},
     "output_type": "execute_result"
    }
   ],
   "source": [
    "message[0:5]"
   ]
  },
  {
   "cell_type": "code",
   "execution_count": 30,
   "metadata": {
    "collapsed": false
   },
   "outputs": [
    {
     "data": {
      "text/plain": [
       "'?'"
      ]
     },
     "execution_count": 30,
     "metadata": {},
     "output_type": "execute_result"
    }
   ],
   "source": [
    "message[-1]"
   ]
  },
  {
   "cell_type": "code",
   "execution_count": 31,
   "metadata": {
    "collapsed": false
   },
   "outputs": [
    {
     "data": {
      "text/plain": [
       "''"
      ]
     },
     "execution_count": 31,
     "metadata": {},
     "output_type": "execute_result"
    }
   ],
   "source": [
    "message[-1:5]"
   ]
  },
  {
   "cell_type": "code",
   "execution_count": 32,
   "metadata": {
    "collapsed": false
   },
   "outputs": [
    {
     "data": {
      "text/plain": [
       "''"
      ]
     },
     "execution_count": 32,
     "metadata": {},
     "output_type": "execute_result"
    }
   ],
   "source": [
    "message[-1:-5]"
   ]
  },
  {
   "cell_type": "code",
   "execution_count": 33,
   "metadata": {
    "collapsed": false
   },
   "outputs": [
    {
     "data": {
      "text/plain": [
       "'ello'"
      ]
     },
     "execution_count": 33,
     "metadata": {},
     "output_type": "execute_result"
    }
   ],
   "source": [
    "message[1:5]"
   ]
  },
  {
   "cell_type": "code",
   "execution_count": null,
   "metadata": {
    "collapsed": false
   },
   "outputs": [
    {
     "name": "stdout",
     "output_type": "stream",
     "text": [
      "\n",
      "Welcome to Python 2.7!  This is the online help utility.\n",
      "\n",
      "If this is your first time using Python, you should definitely check out\n",
      "the tutorial on the Internet at http://docs.python.org/2.7/tutorial/.\n",
      "\n",
      "Enter the name of any module, keyword, or topic to get help on writing\n",
      "Python programs and using Python modules.  To quit this help utility and\n",
      "return to the interpreter, just type \"quit\".\n",
      "\n",
      "To get a list of available modules, keywords, or topics, type \"modules\",\n",
      "\"keywords\", or \"topics\".  Each module also comes with a one-line summary\n",
      "of what it does; to list the modules whose summaries contain a given word\n",
      "such as \"spam\", type \"modules spam\".\n",
      "\n",
      "help> import\n",
      "The \"import\" statement\n",
      "**********************\n",
      "\n",
      "   import_stmt     ::= \"import\" module [\"as\" name] ( \",\" module [\"as\" name] )*\n",
      "                   | \"from\" relative_module \"import\" identifier [\"as\" name]\n",
      "                   ( \",\" identifier [\"as\" name] )*\n",
      "                   | \"from\" relative_module \"import\" \"(\" identifier [\"as\" name]\n",
      "                   ( \",\" identifier [\"as\" name] )* [\",\"] \")\"\n",
      "                   | \"from\" module \"import\" \"*\"\n",
      "   module          ::= (identifier \".\")* identifier\n",
      "   relative_module ::= \".\"* module | \".\"+\n",
      "   name            ::= identifier\n",
      "\n",
      "Import statements are executed in two steps: (1) find a module, and\n",
      "initialize it if necessary; (2) define a name or names in the local\n",
      "namespace (of the scope where the \"import\" statement occurs). The\n",
      "statement comes in two forms differing on whether it uses the \"from\"\n",
      "keyword. The first form (without \"from\") repeats these steps for each\n",
      "identifier in the list. The form with \"from\" performs step (1) once,\n",
      "and then performs step (2) repeatedly.\n",
      "\n",
      "To understand how step (1) occurs, one must first understand how\n",
      "Python handles hierarchical naming of modules. To help organize\n",
      "modules and provide a hierarchy in naming, Python has a concept of\n",
      "packages. A package can contain other packages and modules while\n",
      "modules cannot contain other modules or packages. From a file system\n",
      "perspective, packages are directories and modules are files.\n",
      "\n",
      "Once the name of the module is known (unless otherwise specified, the\n",
      "term \"module\" will refer to both packages and modules), searching for\n",
      "the module or package can begin. The first place checked is\n",
      "\"sys.modules\", the cache of all modules that have been imported\n",
      "previously. If the module is found there then it is used in step (2)\n",
      "of import.\n",
      "\n",
      "If the module is not found in the cache, then \"sys.meta_path\" is\n",
      "searched (the specification for \"sys.meta_path\" can be found in **PEP\n",
      "302**). The object is a list of *finder* objects which are queried in\n",
      "order as to whether they know how to load the module by calling their\n",
      "\"find_module()\" method with the name of the module. If the module\n",
      "happens to be contained within a package (as denoted by the existence\n",
      "of a dot in the name), then a second argument to \"find_module()\" is\n",
      "given as the value of the \"__path__\" attribute from the parent package\n",
      "(everything up to the last dot in the name of the module being\n",
      "imported). If a finder can find the module it returns a *loader*\n",
      "(discussed later) or returns \"None\".\n",
      "\n",
      "If none of the finders on \"sys.meta_path\" are able to find the module\n",
      "then some implicitly defined finders are queried. Implementations of\n",
      "Python vary in what implicit meta path finders are defined. The one\n",
      "they all do define, though, is one that handles \"sys.path_hooks\",\n",
      "\"sys.path_importer_cache\", and \"sys.path\".\n",
      "\n",
      "The implicit finder searches for the requested module in the \"paths\"\n",
      "specified in one of two places (\"paths\" do not have to be file system\n",
      "paths). If the module being imported is supposed to be contained\n",
      "within a package then the second argument passed to \"find_module()\",\n",
      "\"__path__\" on the parent package, is used as the source of paths. If\n",
      "the module is not contained in a package then \"sys.path\" is used as\n",
      "the source of paths.\n",
      "\n",
      "Once the source of paths is chosen it is iterated over to find a\n",
      "finder that can handle that path. The dict at\n",
      "\"sys.path_importer_cache\" caches finders for paths and is checked for\n",
      "a finder. If the path does not have a finder cached then\n",
      "\"sys.path_hooks\" is searched by calling each object in the list with a\n",
      "single argument of the path, returning a finder or raises\n",
      "\"ImportError\". If a finder is returned then it is cached in\n",
      "\"sys.path_importer_cache\" and then used for that path entry. If no\n",
      "finder can be found but the path exists then a value of \"None\" is\n",
      "stored in \"sys.path_importer_cache\" to signify that an implicit, file-\n",
      "based finder that handles modules stored as individual files should be\n",
      "used for that path. If the path does not exist then a finder which\n",
      "always returns \"None\" is placed in the cache for the path.\n",
      "\n",
      "If no finder can find the module then \"ImportError\" is raised.\n",
      "Otherwise some finder returned a loader whose \"load_module()\" method\n",
      "is called with the name of the module to load (see **PEP 302** for the\n",
      "original definition of loaders). A loader has several responsibilities\n",
      "to perform on a module it loads. First, if the module already exists\n",
      "in \"sys.modules\" (a possibility if the loader is called outside of the\n",
      "import machinery) then it is to use that module for initialization and\n",
      "not a new module. But if the module does not exist in \"sys.modules\"\n",
      "then it is to be added to that dict before initialization begins. If\n",
      "an error occurs during loading of the module and it was added to\n",
      "\"sys.modules\" it is to be removed from the dict. If an error occurs\n",
      "but the module was already in \"sys.modules\" it is left in the dict.\n",
      "\n",
      "The loader must set several attributes on the module. \"__name__\" is to\n",
      "be set to the name of the module. \"__file__\" is to be the \"path\" to\n",
      "the file unless the module is built-in (and thus listed in\n",
      "\"sys.builtin_module_names\") in which case the attribute is not set. If\n",
      "what is being imported is a package then \"__path__\" is to be set to a\n",
      "list of paths to be searched when looking for modules and packages\n",
      "contained within the package being imported. \"__package__\" is optional\n",
      "but should be set to the name of package that contains the module or\n",
      "package (the empty string is used for module not contained in a\n",
      "package). \"__loader__\" is also optional but should be set to the\n",
      "loader object that is loading the module.\n",
      "\n",
      "If an error occurs during loading then the loader raises \"ImportError\"\n",
      "if some other exception is not already being propagated. Otherwise the\n",
      "loader returns the module that was loaded and initialized.\n",
      "\n",
      "When step (1) finishes without raising an exception, step (2) can\n",
      "begin.\n",
      "\n",
      "The first form of \"import\" statement binds the module name in the\n",
      "local namespace to the module object, and then goes on to import the\n",
      "next identifier, if any.  If the module name is followed by \"as\", the\n",
      "name following \"as\" is used as the local name for the module.\n",
      "\n",
      "The \"from\" form does not bind the module name: it goes through the\n",
      "list of identifiers, looks each one of them up in the module found in\n",
      "step (1), and binds the name in the local namespace to the object thus\n",
      "found.  As with the first form of \"import\", an alternate local name\n",
      "can be supplied by specifying \"\"as\" localname\".  If a name is not\n",
      "found, \"ImportError\" is raised.  If the list of identifiers is\n",
      "replaced by a star (\"'*'\"), all public names defined in the module are\n",
      "bound in the local namespace of the \"import\" statement..\n",
      "\n",
      "The *public names* defined by a module are determined by checking the\n",
      "module's namespace for a variable named \"__all__\"; if defined, it must\n",
      "be a sequence of strings which are names defined or imported by that\n",
      "module.  The names given in \"__all__\" are all considered public and\n",
      "are required to exist.  If \"__all__\" is not defined, the set of public\n",
      "names includes all names found in the module's namespace which do not\n",
      "begin with an underscore character (\"'_'\"). \"__all__\" should contain\n",
      "the entire public API. It is intended to avoid accidentally exporting\n",
      "items that are not part of the API (such as library modules which were\n",
      "imported and used within the module).\n",
      "\n",
      "The \"from\" form with \"*\" may only occur in a module scope.  If the\n",
      "wild card form of import --- \"import *\" --- is used in a function and\n",
      "the function contains or is a nested block with free variables, the\n",
      "compiler will raise a \"SyntaxError\".\n",
      "\n",
      "When specifying what module to import you do not have to specify the\n",
      "absolute name of the module. When a module or package is contained\n",
      "within another package it is possible to make a relative import within\n",
      "the same top package without having to mention the package name. By\n",
      "using leading dots in the specified module or package after \"from\" you\n",
      "can specify how high to traverse up the current package hierarchy\n",
      "without specifying exact names. One leading dot means the current\n",
      "package where the module making the import exists. Two dots means up\n",
      "one package level. Three dots is up two levels, etc. So if you execute\n",
      "\"from . import mod\" from a module in the \"pkg\" package then you will\n",
      "end up importing \"pkg.mod\". If you execute \"from ..subpkg2 import mod\"\n",
      "from within \"pkg.subpkg1\" you will import \"pkg.subpkg2.mod\". The\n",
      "specification for relative imports is contained within **PEP 328**.\n",
      "\n",
      "\"importlib.import_module()\" is provided to support applications that\n",
      "determine which modules need to be loaded dynamically.\n",
      "\n",
      "\n",
      "Future statements\n",
      "=================\n",
      "\n",
      "A *future statement* is a directive to the compiler that a particular\n",
      "module should be compiled using syntax or semantics that will be\n",
      "available in a specified future release of Python.  The future\n",
      "statement is intended to ease migration to future versions of Python\n",
      "that introduce incompatible changes to the language.  It allows use of\n",
      "the new features on a per-module basis before the release in which the\n",
      "feature becomes standard.\n",
      "\n",
      "   future_statement ::= \"from\" \"__future__\" \"import\" feature [\"as\" name]\n",
      "                        (\",\" feature [\"as\" name])*\n",
      "                        | \"from\" \"__future__\" \"import\" \"(\" feature [\"as\" name]\n",
      "                        (\",\" feature [\"as\" name])* [\",\"] \")\"\n",
      "   feature          ::= identifier\n",
      "   name             ::= identifier\n",
      "\n",
      "A future statement must appear near the top of the module.  The only\n",
      "lines that can appear before a future statement are:\n",
      "\n",
      "* the module docstring (if any),\n",
      "\n",
      "* comments,\n",
      "\n",
      "* blank lines, and\n",
      "\n",
      "* other future statements.\n",
      "\n",
      "The features recognized by Python 2.6 are \"unicode_literals\",\n",
      "\"print_function\", \"absolute_import\", \"division\", \"generators\",\n",
      "\"nested_scopes\" and \"with_statement\".  \"generators\", \"with_statement\",\n",
      "\"nested_scopes\" are redundant in Python version 2.6 and above because\n",
      "they are always enabled.\n",
      "\n",
      "A future statement is recognized and treated specially at compile\n",
      "time: Changes to the semantics of core constructs are often\n",
      "implemented by generating different code.  It may even be the case\n",
      "that a new feature introduces new incompatible syntax (such as a new\n",
      "reserved word), in which case the compiler may need to parse the\n",
      "module differently.  Such decisions cannot be pushed off until\n",
      "runtime.\n",
      "\n",
      "For any given release, the compiler knows which feature names have\n",
      "been defined, and raises a compile-time error if a future statement\n",
      "contains a feature not known to it.\n",
      "\n",
      "The direct runtime semantics are the same as for any import statement:\n",
      "there is a standard module \"__future__\", described later, and it will\n",
      "be imported in the usual way at the time the future statement is\n",
      "executed.\n",
      "\n",
      "The interesting runtime semantics depend on the specific feature\n",
      "enabled by the future statement.\n",
      "\n",
      "Note that there is nothing special about the statement:\n",
      "\n",
      "   import __future__ [as name]\n",
      "\n",
      "That is not a future statement; it's an ordinary import statement with\n",
      "no special semantics or syntax restrictions.\n",
      "\n",
      "Code compiled by an \"exec\" statement or calls to the built-in\n",
      "functions \"compile()\" and \"execfile()\" that occur in a module \"M\"\n",
      "containing a future statement will, by default, use the new  syntax or\n",
      "semantics associated with the future statement.  This can, starting\n",
      "with Python 2.2 be controlled by optional arguments to \"compile()\" ---\n",
      "see the documentation of that function for details.\n",
      "\n",
      "A future statement typed at an interactive interpreter prompt will\n",
      "take effect for the rest of the interpreter session.  If an\n",
      "interpreter is started with the \"-i\" option, is passed a script name\n",
      "to execute, and the script includes a future statement, it will be in\n",
      "effect in the interactive session started after the script is\n",
      "executed.\n",
      "\n",
      "See also: **PEP 236** - Back to the __future__\n",
      "\n",
      "     The original proposal for the __future__ mechanism.\n",
      "\n",
      "Related help topics: MODULES\n",
      "\n"
     ]
    }
   ],
   "source": [
    "help()"
   ]
  },
  {
   "cell_type": "code",
   "execution_count": null,
   "metadata": {
    "collapsed": true
   },
   "outputs": [],
   "source": []
  }
 ],
 "metadata": {
  "kernelspec": {
   "display_name": "Python 2",
   "language": "python",
   "name": "python2"
  },
  "language_info": {
   "codemirror_mode": {
    "name": "ipython",
    "version": 2
   },
   "file_extension": ".py",
   "mimetype": "text/x-python",
   "name": "python",
   "nbconvert_exporter": "python",
   "pygments_lexer": "ipython2",
   "version": "2.7.11"
  }
 },
 "nbformat": 4,
 "nbformat_minor": 0
}
